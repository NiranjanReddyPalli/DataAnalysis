{
 "cells": [
  {
   "cell_type": "markdown",
   "id": "909cf2b2",
   "metadata": {},
   "source": [
    "[How to doc in Jupyter Notebook](https://www.ibm.com/docs/en/db2-event-store/2.0.0?topic=notebooks-markdown-jupyter-cheatsheet)"
   ]
  },
  {
   "cell_type": "markdown",
   "id": "92eb7f5e",
   "metadata": {},
   "source": [
    "# Python Notes"
   ]
  },
  {
   "cell_type": "markdown",
   "id": "90ff0638",
   "metadata": {},
   "source": [
    "## What is Python?\n",
    "Python is a popular Programming Language created by Guido Van Rossum, in 1991. \n",
    "\n",
    "It is used for:\n",
    "\n",
    "- web development (server-side),\n",
    "- software development,\n",
    "- mathematics,\n",
    "- system scripting."
   ]
  },
  {
   "cell_type": "markdown",
   "id": "2c55e171",
   "metadata": {},
   "source": [
    "## What can Python do?\n",
    "\n",
    "- Python can be used on a server to create web applications.\n",
    "- Python can be used alongside software to create workflows.\n",
    "- Python can connect to database systems. It can also read and modify files.\n",
    "- Python can be used to handle big data and perform complex mathematics.\n",
    "- Python can be used for rapid prototyping, or for production-ready software development."
   ]
  },
  {
   "cell_type": "markdown",
   "id": "2064e3bd",
   "metadata": {},
   "source": [
    "### Python Syntax"
   ]
  },
  {
   "cell_type": "code",
   "execution_count": 2,
   "id": "6ee90e03",
   "metadata": {},
   "outputs": [
    {
     "name": "stdout",
     "output_type": "stream",
     "text": [
      "Hi, welcome to Python.\n"
     ]
    }
   ],
   "source": [
    "print('Hi, welcome to Python.')"
   ]
  },
  {
   "cell_type": "markdown",
   "id": "8df03b0b",
   "metadata": {},
   "source": [
    "### Python Indentation\n",
    "\n",
    "- Indentation refers to the spaces at the beginning of a code line.\n",
    "- Where in other programming languages the indentation in code is for readability only, the indentation in Python is very important.\n",
    "- Python uses indentation to indicate a block of code.\n",
    "- Python will give you an error if you skip the indentation\n",
    "- You have to use the same number of spaces in the same block of code, otherwise Python will give you an error"
   ]
  },
  {
   "cell_type": "code",
   "execution_count": 3,
   "id": "2dc82ef7",
   "metadata": {},
   "outputs": [
    {
     "name": "stdout",
     "output_type": "stream",
     "text": [
      "10 is greater than 3\n"
     ]
    }
   ],
   "source": [
    "if 10 > 3:\n",
    "    print('10 is greater than 3')"
   ]
  },
  {
   "cell_type": "markdown",
   "id": "978c7cc2",
   "metadata": {},
   "source": [
    "### Python Comments\n",
    "\n",
    "- Comments starts with a #, and Python will ignore them\n",
    "- Use ''' or \"\"\" for multi line comments"
   ]
  },
  {
   "cell_type": "code",
   "execution_count": 5,
   "id": "0a60eda8",
   "metadata": {},
   "outputs": [
    {
     "name": "stdout",
     "output_type": "stream",
     "text": [
      "Hi there!\n"
     ]
    }
   ],
   "source": [
    "# This is a comment\n",
    "print('Hi there!')"
   ]
  },
  {
   "cell_type": "code",
   "execution_count": 9,
   "id": "a0b765fa",
   "metadata": {},
   "outputs": [
    {
     "name": "stdout",
     "output_type": "stream",
     "text": [
      "Hi there!\n"
     ]
    }
   ],
   "source": [
    "'''\n",
    "I am Niranjan.\n",
    "I live in Dmm.\n",
    "I play cricket.\n",
    "These text lines will be ignored.\n",
    "'''\n",
    "\n",
    "print('Hi there!')"
   ]
  },
  {
   "cell_type": "markdown",
   "id": "4c0bf8e8",
   "metadata": {},
   "source": [
    "### Python Variables\n",
    "\n",
    "- **Variables** are containers for storing data values.\n",
    "- A variable is created the moment you first assign a value to it.\n",
    "- Variable names are **case-sensitive**.\n",
    "- Variables do not need to be declared with any particular type, and can even change type after they have been set.\n",
    "- If you want to specify the data type of a variable, this can be done with **casting**."
   ]
  },
  {
   "cell_type": "code",
   "execution_count": 10,
   "id": "ecf4d70c",
   "metadata": {},
   "outputs": [
    {
     "name": "stdout",
     "output_type": "stream",
     "text": [
      "5 abhi 10.5 True\n"
     ]
    }
   ],
   "source": [
    "a = 5\n",
    "b = 'abhi'\n",
    "c = 10.5\n",
    "d = True\n",
    "\n",
    "print(a,b,c,d)"
   ]
  },
  {
   "cell_type": "code",
   "execution_count": 16,
   "id": "648895c4",
   "metadata": {},
   "outputs": [
    {
     "data": {
      "text/plain": [
       "(8, '8', 8.0)"
      ]
     },
     "execution_count": 16,
     "metadata": {},
     "output_type": "execute_result"
    }
   ],
   "source": [
    "a = int(8)\n",
    "b = str(8)\n",
    "c = float(8)\n",
    "\n",
    "a,b,c"
   ]
  },
  {
   "cell_type": "code",
   "execution_count": 20,
   "id": "52507cab",
   "metadata": {},
   "outputs": [
    {
     "name": "stdout",
     "output_type": "stream",
     "text": [
      "a : <class 'int'> b :  <class 'str'> c : <class 'float'>\n"
     ]
    }
   ],
   "source": [
    "print('a :', type(a) ,\n",
    "      'b : ', type(b),\n",
    "      'c :', type(c))"
   ]
  },
  {
   "cell_type": "markdown",
   "id": "adb56c05",
   "metadata": {},
   "source": [
    "### Variable Names\n",
    "\n",
    "A variable can have a short name (like x and y) or a more descriptive name (age, carname, total_volume). Rules for Python variables:\n",
    "\n",
    "- A variable name must start with a **letter** or the **underscore** character.\n",
    "- A variable name cannot start with a **number**.\n",
    "- A variable name can only contain **alpha-numeric characters and underscores** (A-z, 0-9, and _ ).\n",
    "- Variable names are **case-sensitive** (age, Age and AGE are three different variables).\n",
    "- A variable name cannot be any of the **Python keywords** like if, for else , elif, and, or etc."
   ]
  },
  {
   "cell_type": "code",
   "execution_count": 21,
   "id": "15fc9637",
   "metadata": {},
   "outputs": [
    {
     "name": "stdout",
     "output_type": "stream",
     "text": [
      "Abhi Abhi Abhi Abhi Abhi Abhi\n"
     ]
    }
   ],
   "source": [
    "myname = 'Abhi'\n",
    "_myname = 'Abhi'\n",
    "MyName = 'Abhi'\n",
    "myName = 'Abhi'\n",
    "MyName1 = 'Abhi'\n",
    "MyName_1 = 'Abhi'\n",
    "\n",
    "print(myname, _myname, MyName, myName, MyName1, MyName_1)"
   ]
  },
  {
   "cell_type": "markdown",
   "id": "4146d89c",
   "metadata": {},
   "source": [
    "#### Assign many values to multiple variables"
   ]
  },
  {
   "cell_type": "code",
   "execution_count": 22,
   "id": "82e0d0fe",
   "metadata": {},
   "outputs": [
    {
     "name": "stdout",
     "output_type": "stream",
     "text": [
      "1 2 3\n"
     ]
    }
   ],
   "source": [
    "a, b, c = 1, 2, 3\n",
    "\n",
    "print(a, b, c)"
   ]
  },
  {
   "cell_type": "markdown",
   "id": "24d38351",
   "metadata": {},
   "source": [
    "#### Assign one value to multiple variables"
   ]
  },
  {
   "cell_type": "code",
   "execution_count": 23,
   "id": "37997a29",
   "metadata": {},
   "outputs": [
    {
     "name": "stdout",
     "output_type": "stream",
     "text": [
      "1 1 1\n"
     ]
    }
   ],
   "source": [
    "a=b=c=1\n",
    "\n",
    "print(a, b, c)"
   ]
  },
  {
   "cell_type": "markdown",
   "id": "b17c41b6",
   "metadata": {},
   "source": [
    "#### Unpaking collection"
   ]
  },
  {
   "cell_type": "code",
   "execution_count": 27,
   "id": "560c8f9a",
   "metadata": {},
   "outputs": [
    {
     "name": "stdout",
     "output_type": "stream",
     "text": [
      "1 2 3\n"
     ]
    }
   ],
   "source": [
    "nums = [1,2,3]\n",
    "a,b,c = nums    #asigning variables to the list itmes\n",
    "\n",
    "print(a,b,c)"
   ]
  },
  {
   "cell_type": "markdown",
   "id": "becddba1",
   "metadata": {},
   "source": [
    "### Global Variables\n",
    "\n",
    "- Variables that are created outside of a function (as in all of the examples above) are known as global variables.\n",
    "- Global variables can be used by everyone, both inside of functions and outside."
   ]
  },
  {
   "cell_type": "code",
   "execution_count": 30,
   "id": "ba663646",
   "metadata": {},
   "outputs": [
    {
     "name": "stdout",
     "output_type": "stream",
     "text": [
      "My name is Abhi\n"
     ]
    }
   ],
   "source": [
    "x = 'Abhi'\n",
    "\n",
    "def test():\n",
    "    print('My name is', x)\n",
    "\n",
    "test()"
   ]
  },
  {
   "cell_type": "markdown",
   "id": "3994942a",
   "metadata": {},
   "source": [
    "- If you create a variable with the same name inside a function, this variable will be local, and can only be used inside the function. The global variable with the same name will remain as it was, global and with the original value."
   ]
  },
  {
   "cell_type": "code",
   "execution_count": 34,
   "id": "11cd9ac2",
   "metadata": {},
   "outputs": [
    {
     "name": "stdout",
     "output_type": "stream",
     "text": [
      "My name is Niranjan\n",
      "Abhi\n"
     ]
    }
   ],
   "source": [
    "X = 'Abhi'    #Global\n",
    "\n",
    "def test():\n",
    "    x = 'Niranjan'    #Local\n",
    "    print('My name is', x)\n",
    "\n",
    "test()    #will print local variable Niranjan\n",
    "\n",
    "print(x)    # will return global variable Abhi"
   ]
  },
  {
   "cell_type": "markdown",
   "id": "8c6f7c6c",
   "metadata": {},
   "source": [
    "### Global Variable\n",
    "\n",
    "Normally, when you create a variable inside a function, that variable is **local** and can only be used inside that function.\n",
    "To create a global variable inside a function, you can use the **global keyword**."
   ]
  },
  {
   "cell_type": "code",
   "execution_count": 36,
   "id": "978ba0a2",
   "metadata": {},
   "outputs": [
    {
     "name": "stdout",
     "output_type": "stream",
     "text": [
      "My name is Abhi\n",
      "Abhi\n"
     ]
    }
   ],
   "source": [
    "def test1():\n",
    "    global x    # Making x as global\n",
    "    x = 'Abhi'\n",
    "    print('My name is', x)\n",
    "\n",
    "test1()\n",
    "\n",
    "print(x)    "
   ]
  },
  {
   "cell_type": "markdown",
   "id": "d7fbe6f3",
   "metadata": {},
   "source": [
    "- Also, use the global keyword if you want to change a global variable inside a function."
   ]
  },
  {
   "cell_type": "code",
   "execution_count": 38,
   "id": "c6af979b",
   "metadata": {},
   "outputs": [
    {
     "name": "stdout",
     "output_type": "stream",
     "text": [
      "My name is Abhi\n",
      "Abhi\n"
     ]
    }
   ],
   "source": [
    "x = 'Niranjan'\n",
    "def test2():\n",
    "    global x\n",
    "    x = 'Abhi'    # changes the global variable value\n",
    "    print('My name is', x)\n",
    "\n",
    "test2()\n",
    "\n",
    "print(x)"
   ]
  },
  {
   "cell_type": "markdown",
   "id": "4f2133fe",
   "metadata": {},
   "source": [
    "## Python Data Types\n",
    "\n",
    "### Built-in Data types\n",
    "\n",
    "In programming, data type is an important concept.<br>\n",
    "Variables can store data of different types, and different types can do different things.<br>\n",
    "Python has the following data types built-in by default, in these categories:\n",
    "\n",
    "Text Type:\t**str** <br>\n",
    "Numeric Types:\t**int, float, complex** <br>\n",
    "Sequence Types:\t**list, tuple, range** <br>\n",
    "Mapping Type:\t**dict** <br>\n",
    "Set Types:\t**set, frozenset** <br>\n",
    "Boolean Type:\t**bool** <br>\n",
    "Binary Types:\t**bytes, bytearray, memoryview** <br>\n",
    "None Type:\t**NoneType** <br>"
   ]
  },
  {
   "cell_type": "code",
   "execution_count": 41,
   "id": "6a306625",
   "metadata": {},
   "outputs": [
    {
     "data": {
      "text/plain": [
       "('Abhi',\n",
       " 5,\n",
       " 4.0,\n",
       " (2+5j),\n",
       " [1, 2, 3, 4],\n",
       " (1, 2, 3, 4),\n",
       " range(0, 4),\n",
       " {'name': 'Abhi', 'age': 26, 'address': 'Dmm'},\n",
       " {1, 2, 3, 4},\n",
       " frozenset({1, 2, 3, 4}),\n",
       " True,\n",
       " None)"
      ]
     },
     "execution_count": 41,
     "metadata": {},
     "output_type": "execute_result"
    }
   ],
   "source": [
    "a = 'Abhi'        # str\n",
    "b = 5             # int\n",
    "c = 4.0           # float\n",
    "d = 2+5j          # complex\n",
    "e = [1,2,3,4]     # list\n",
    "f = (1,2,3,4)     # Tuple\n",
    "g = range(4)      # Range\n",
    "h = {             # dict\n",
    "    'name':'Abhi',\n",
    "    'age':26,\n",
    "    'address':'Dmm'\n",
    "}     \n",
    "i  = {1,2,3,4}    # Set\n",
    "j = frozenset({1,2,3,4})    # Frozenset\n",
    "k = True          # bool\n",
    "l = None          # NoneType\n",
    "\n",
    "\n",
    "a,b,c,d,e,f,g,h,i,j,k,l"
   ]
  },
  {
   "cell_type": "code",
   "execution_count": 42,
   "id": "616e244c",
   "metadata": {},
   "outputs": [
    {
     "data": {
      "text/plain": [
       "str"
      ]
     },
     "execution_count": 42,
     "metadata": {},
     "output_type": "execute_result"
    }
   ],
   "source": [
    "type(a)"
   ]
  },
  {
   "cell_type": "code",
   "execution_count": 43,
   "id": "12566885",
   "metadata": {},
   "outputs": [
    {
     "data": {
      "text/plain": [
       "'10'"
      ]
     },
     "execution_count": 43,
     "metadata": {},
     "output_type": "execute_result"
    }
   ],
   "source": [
    "a = str(10)\n",
    "a\n",
    "\n",
    "# You cannot convert complex numbers into another number type."
   ]
  },
  {
   "cell_type": "markdown",
   "id": "55f1d366",
   "metadata": {},
   "source": [
    "### Random Number\n",
    "Python does not have a random() function to make a random number, but Python has a built-in module called random that can be used to make random numbers."
   ]
  },
  {
   "cell_type": "code",
   "execution_count": 58,
   "id": "da3e89c1",
   "metadata": {},
   "outputs": [
    {
     "data": {
      "text/plain": [
       "2"
      ]
     },
     "execution_count": 58,
     "metadata": {},
     "output_type": "execute_result"
    }
   ],
   "source": [
    "import random\n",
    "random.randrange(1,10)"
   ]
  },
  {
   "cell_type": "markdown",
   "id": "8bf2cb63",
   "metadata": {},
   "source": [
    "### Python Casting\n",
    "\n",
    "To convert a value or variable to a specified data type, use the casting methods b specifying the datatype."
   ]
  },
  {
   "cell_type": "code",
   "execution_count": 59,
   "id": "392bf95e",
   "metadata": {},
   "outputs": [
    {
     "data": {
      "text/plain": [
       "(1, 1.0, '1')"
      ]
     },
     "execution_count": 59,
     "metadata": {},
     "output_type": "execute_result"
    }
   ],
   "source": [
    "a = int(1)    # Int\n",
    "b = float(1)    #float\n",
    "c = str(1)    #str\n",
    "\n",
    "a,b,c"
   ]
  },
  {
   "cell_type": "markdown",
   "id": "0f08f10f",
   "metadata": {},
   "source": [
    "## Python Strings\n",
    "Strings in python are surrounded by either single quotation marks, or double quotation marks."
   ]
  },
  {
   "cell_type": "code",
   "execution_count": 1,
   "id": "21f8cb05",
   "metadata": {},
   "outputs": [
    {
     "name": "stdout",
     "output_type": "stream",
     "text": [
      "My name is Abhi\n"
     ]
    }
   ],
   "source": [
    "a = 'My name is Abhi'\n",
    "print(a)"
   ]
  },
  {
   "cell_type": "code",
   "execution_count": 5,
   "id": "eea11e76",
   "metadata": {},
   "outputs": [
    {
     "name": "stdout",
     "output_type": "stream",
     "text": [
      " Hi.. My name is Abhi. I am from India\n"
     ]
    }
   ],
   "source": [
    "a = ''' Hi.. My name is Abhi. I am from India'''\n",
    "print(a)"
   ]
  },
  {
   "cell_type": "markdown",
   "id": "e7be7f38",
   "metadata": {},
   "source": [
    "### Strings are Arrays\n",
    "- Like many other popular programming languages, strings in Python are arrays of bytes representing unicode characters.<br>\n",
    "- However, Python does not have a character data type, a single character is simply a string with a length of 1.<br>\n",
    "- Square brackets can be used to access elements of the string."
   ]
  },
  {
   "cell_type": "code",
   "execution_count": 9,
   "id": "38fc0ad5",
   "metadata": {},
   "outputs": [
    {
     "name": "stdout",
     "output_type": "stream",
     "text": [
      "Hi.. My name is Abhi. I am from India\n"
     ]
    }
   ],
   "source": [
    "a = '''Hi.. My name is Abhi. I am from India'''\n",
    "print(a)"
   ]
  },
  {
   "cell_type": "code",
   "execution_count": 17,
   "id": "e49218f7",
   "metadata": {},
   "outputs": [
    {
     "data": {
      "text/plain": [
       "'H'"
      ]
     },
     "execution_count": 17,
     "metadata": {},
     "output_type": "execute_result"
    }
   ],
   "source": [
    "a[0]"
   ]
  },
  {
   "cell_type": "code",
   "execution_count": 16,
   "id": "97282c3c",
   "metadata": {},
   "outputs": [
    {
     "data": {
      "text/plain": [
       "'Hi'"
      ]
     },
     "execution_count": 16,
     "metadata": {},
     "output_type": "execute_result"
    }
   ],
   "source": [
    "a[0] + a[1]"
   ]
  },
  {
   "cell_type": "code",
   "execution_count": 12,
   "id": "1259ef2f",
   "metadata": {},
   "outputs": [
    {
     "data": {
      "text/plain": [
       "'Hi..'"
      ]
     },
     "execution_count": 12,
     "metadata": {},
     "output_type": "execute_result"
    }
   ],
   "source": [
    "a[0:4]"
   ]
  },
  {
   "cell_type": "code",
   "execution_count": 7,
   "id": "895e4629",
   "metadata": {},
   "outputs": [
    {
     "data": {
      "text/plain": [
       "' Hi.. My name is Abhi. I am from India'"
      ]
     },
     "execution_count": 7,
     "metadata": {},
     "output_type": "execute_result"
    }
   ],
   "source": [
    "a[:]"
   ]
  },
  {
   "cell_type": "markdown",
   "id": "118ecc72",
   "metadata": {},
   "source": [
    "#### Looping through  string"
   ]
  },
  {
   "cell_type": "code",
   "execution_count": 20,
   "id": "c70ae5f7",
   "metadata": {},
   "outputs": [
    {
     "name": "stdout",
     "output_type": "stream",
     "text": [
      "A\n",
      "b\n",
      "h\n",
      "i\n"
     ]
    }
   ],
   "source": [
    "a = 'Abhi'\n",
    "\n",
    "for x in a:\n",
    "    print(x)"
   ]
  },
  {
   "cell_type": "code",
   "execution_count": 21,
   "id": "18c7baa8",
   "metadata": {},
   "outputs": [
    {
     "name": "stdout",
     "output_type": "stream",
     "text": [
      "4\n"
     ]
    }
   ],
   "source": [
    "# length of the string \n",
    "\n",
    "print(len(a))"
   ]
  },
  {
   "cell_type": "code",
   "execution_count": 22,
   "id": "6f662879",
   "metadata": {},
   "outputs": [
    {
     "name": "stdout",
     "output_type": "stream",
     "text": [
      "True\n"
     ]
    }
   ],
   "source": [
    "# To check if a string or character is in a string use \"IN\" keyword\n",
    "a = '''Hi.. My name is Abhi. I am from India'''\n",
    "\n",
    "print('Abhi' in a)\n"
   ]
  },
  {
   "cell_type": "code",
   "execution_count": 23,
   "id": "fb574dde",
   "metadata": {},
   "outputs": [
    {
     "name": "stdout",
     "output_type": "stream",
     "text": [
      "Yes, this data is about Abhi\n"
     ]
    }
   ],
   "source": [
    "if 'Abhi' in a:\n",
    "    print('Yes, this data is about Abhi')"
   ]
  },
  {
   "cell_type": "code",
   "execution_count": 30,
   "id": "812cf489",
   "metadata": {},
   "outputs": [
    {
     "name": "stdout",
     "output_type": "stream",
     "text": [
      "Abhi is in the data\n"
     ]
    }
   ],
   "source": [
    "if 'Abhi' not in a:\n",
    "    print('Abhi is not in the data')\n",
    "elif 'Abhi' in a:\n",
    "    print('Abhi is in the data')"
   ]
  },
  {
   "cell_type": "markdown",
   "id": "3d18652b",
   "metadata": {},
   "source": [
    "### String Concatenation\n",
    "To concatenate, or combine, two strings you can use the **' + '** operator."
   ]
  },
  {
   "cell_type": "code",
   "execution_count": 33,
   "id": "4809c142",
   "metadata": {},
   "outputs": [
    {
     "data": {
      "text/plain": [
       "'Niranjan Reddy'"
      ]
     },
     "execution_count": 33,
     "metadata": {},
     "output_type": "execute_result"
    }
   ],
   "source": [
    "a = 'Niranjan'\n",
    "b = 'Reddy'\n",
    "\n",
    "Name = a + ' ' + b    # Only concatenates strings\n",
    "\n",
    "Name"
   ]
  },
  {
   "cell_type": "code",
   "execution_count": 35,
   "id": "3943ac5f",
   "metadata": {},
   "outputs": [
    {
     "ename": "TypeError",
     "evalue": "can only concatenate str (not \"int\") to str",
     "output_type": "error",
     "traceback": [
      "\u001b[1;31m---------------------------------------------------------------------------\u001b[0m",
      "\u001b[1;31mTypeError\u001b[0m                                 Traceback (most recent call last)",
      "Cell \u001b[1;32mIn[35], line 2\u001b[0m\n\u001b[0;32m      1\u001b[0m age  \u001b[38;5;241m=\u001b[39m \u001b[38;5;241m26\u001b[39m\n\u001b[1;32m----> 2\u001b[0m \u001b[38;5;28mprint\u001b[39m(\u001b[38;5;124m'\u001b[39m\u001b[38;5;124mMy age is \u001b[39m\u001b[38;5;124m'\u001b[39m \u001b[38;5;241m+\u001b[39m age)\n",
      "\u001b[1;31mTypeError\u001b[0m: can only concatenate str (not \"int\") to str"
     ]
    }
   ],
   "source": [
    "age  = 26\n",
    "print('My age is ' + age)    # We cannot combine strings and numbers using '+'"
   ]
  },
  {
   "cell_type": "markdown",
   "id": "de86783b",
   "metadata": {},
   "source": [
    "- But we can combine strings and numbers by using the format() method! <br>\n",
    "- The format() method takes the passed arguments, formats them, and places them in the string where the placeholders {} are"
   ]
  },
  {
   "cell_type": "code",
   "execution_count": 36,
   "id": "97c688a0",
   "metadata": {},
   "outputs": [
    {
     "name": "stdout",
     "output_type": "stream",
     "text": [
      "My age is 26\n"
     ]
    }
   ],
   "source": [
    "age = 26\n",
    "a = 'My age is {}'\n",
    "\n",
    "print(a.format(age))"
   ]
  },
  {
   "cell_type": "code",
   "execution_count": 37,
   "id": "1273d4a3",
   "metadata": {},
   "outputs": [
    {
     "name": "stdout",
     "output_type": "stream",
     "text": [
      "Hi.. My name is Abhi. My age is 26. I am from Dmm\n"
     ]
    }
   ],
   "source": [
    "# We can also use multiple inputs \n",
    "\n",
    "name = 'Abhi'\n",
    "age = 26\n",
    "city = 'Dmm'\n",
    "\n",
    "a = 'Hi.. My name is {}. My age is {}. I am from {}'\n",
    "\n",
    "print(a.format(name, age, city))    # The inputs should be in the same order"
   ]
  },
  {
   "cell_type": "code",
   "execution_count": 40,
   "id": "22a70371",
   "metadata": {},
   "outputs": [
    {
     "name": "stdout",
     "output_type": "stream",
     "text": [
      "Hi.. My name is Abhi. My age is 26. I am from Dmm\n"
     ]
    }
   ],
   "source": [
    "# We can also use numbers in the flower brackets to indicate order\n",
    "\n",
    "name = 'Abhi'\n",
    "age = 26\n",
    "city = 'Dmm'\n",
    "\n",
    "a = 'Hi.. My name is {1}. My age is {0}. I am from {2}'\n",
    "\n",
    "print(a.format(age, name, city))"
   ]
  },
  {
   "cell_type": "markdown",
   "id": "87870605",
   "metadata": {},
   "source": [
    "## String Methods\n",
    "\n",
    "### Capitalize()\n",
    "Returns a string where the first character is upper case, and the rest is lower case."
   ]
  },
  {
   "cell_type": "code",
   "execution_count": 43,
   "id": "407405f3",
   "metadata": {},
   "outputs": [
    {
     "name": "stdout",
     "output_type": "stream",
     "text": [
      "Hello people...\n"
     ]
    }
   ],
   "source": [
    "a = 'hello people...'\n",
    "\n",
    "print(a.capitalize())"
   ]
  },
  {
   "cell_type": "markdown",
   "id": "320716e5",
   "metadata": {},
   "source": [
    "### Casefold()\n",
    "\n",
    "The casefold() method returns a string where all the characters are lower case.\n",
    "\n",
    "This method is similar to the lower() method, but the casefold() method is stronger, more aggressive, meaning that it will convert more characters into lower case, and will find more matches when comparing two strings and both are converted using the casefold() method."
   ]
  },
  {
   "cell_type": "code",
   "execution_count": 44,
   "id": "f5b23918",
   "metadata": {},
   "outputs": [
    {
     "name": "stdout",
     "output_type": "stream",
     "text": [
      "i am niranjan reddy\n"
     ]
    }
   ],
   "source": [
    "a = 'I am Niranjan Reddy'\n",
    "\n",
    "print(a.casefold())"
   ]
  },
  {
   "cell_type": "markdown",
   "id": "21d04429",
   "metadata": {},
   "source": [
    "### Center()\n",
    "The center() method will center align the string, using a specified character (space is default) as the fill character.<br>\n",
    "\n",
    "**Syntax : string.center(length, character)**"
   ]
  },
  {
   "cell_type": "code",
   "execution_count": 5,
   "id": "46eb0649",
   "metadata": {},
   "outputs": [
    {
     "name": "stdout",
     "output_type": "stream",
     "text": [
      "___Abhi___\n"
     ]
    }
   ],
   "source": [
    "a = 'Abhi'\n",
    "\n",
    "print(a.center(10,'_'))     \n",
    "\n",
    "# The string 'Abhi' occupies 4 places, the remaining 6 places will be filled with '_' and the string 'Abhi' will be centered."
   ]
  },
  {
   "cell_type": "markdown",
   "id": "b7ce3788",
   "metadata": {},
   "source": [
    "### Count()\n",
    "\n",
    "The count() method returns the number of times a specified value appears in the string.\n",
    "\n",
    "#### Syntax : string.count(value, start, end)"
   ]
  },
  {
   "cell_type": "code",
   "execution_count": 4,
   "id": "dab89888",
   "metadata": {},
   "outputs": [
    {
     "data": {
      "text/plain": [
       "3"
      ]
     },
     "execution_count": 4,
     "metadata": {},
     "output_type": "execute_result"
    }
   ],
   "source": [
    "a = 'Hi.. My name is Abhi. My age is 26. I am from Dmm'\n",
    "\n",
    "a.count('a')"
   ]
  },
  {
   "cell_type": "code",
   "execution_count": 7,
   "id": "cc90cc86",
   "metadata": {},
   "outputs": [
    {
     "data": {
      "text/plain": [
       "1"
      ]
     },
     "execution_count": 7,
     "metadata": {},
     "output_type": "execute_result"
    }
   ],
   "source": [
    "a.count('a',5,20)     # Number of occurances of 'a', starting from position 5 and ending at 20."
   ]
  },
  {
   "cell_type": "markdown",
   "id": "244e8746",
   "metadata": {},
   "source": [
    "### Encode()\n",
    "\n",
    "The encode() method encodes the string, using the specified encoding. If no encoding is specified, UTF-8 will be used.\n",
    "\n",
    "Refer to https://www.w3schools.com/python/ref_string_encode.asp  for drtailed info."
   ]
  },
  {
   "cell_type": "code",
   "execution_count": 8,
   "id": "40de87d9",
   "metadata": {},
   "outputs": [
    {
     "data": {
      "text/plain": [
       "b'Hi.. My name is Abhi. My age is 26. I am from Dmm'"
      ]
     },
     "execution_count": 8,
     "metadata": {},
     "output_type": "execute_result"
    }
   ],
   "source": [
    "a.encode()"
   ]
  },
  {
   "cell_type": "markdown",
   "id": "142ac9f9",
   "metadata": {},
   "source": [
    "### Endswith()\n",
    "\n",
    "The endswith() method returns True if the string ends with the specified value, otherwise False.\n",
    "\n",
    "#### Syntax : string.endswith(value, start, end)"
   ]
  },
  {
   "cell_type": "code",
   "execution_count": 50,
   "id": "718378eb",
   "metadata": {},
   "outputs": [
    {
     "data": {
      "text/plain": [
       "True"
      ]
     },
     "execution_count": 50,
     "metadata": {},
     "output_type": "execute_result"
    }
   ],
   "source": [
    "a = 'Hi.. My name is Abhi. My age is 26. I am from Dmm.'\n",
    "\n",
    "a.endswith('.')"
   ]
  },
  {
   "cell_type": "code",
   "execution_count": 11,
   "id": "8b5e005d",
   "metadata": {},
   "outputs": [
    {
     "data": {
      "text/plain": [
       "False"
      ]
     },
     "execution_count": 11,
     "metadata": {},
     "output_type": "execute_result"
    }
   ],
   "source": [
    "a.endswith(',')"
   ]
  },
  {
   "cell_type": "code",
   "execution_count": 13,
   "id": "45fb3a68",
   "metadata": {},
   "outputs": [
    {
     "data": {
      "text/plain": [
       "True"
      ]
     },
     "execution_count": 13,
     "metadata": {},
     "output_type": "execute_result"
    }
   ],
   "source": [
    "a.endswith('e',0,12)"
   ]
  },
  {
   "cell_type": "markdown",
   "id": "8773a4fc",
   "metadata": {},
   "source": [
    "### Endswith()\n",
    "The startswith() method returns True if the string starts with the specified value, otherwise False.\n",
    "#### Syntax : string.startswith(value, start, end)\n"
   ]
  },
  {
   "cell_type": "code",
   "execution_count": 51,
   "id": "0a5152ae",
   "metadata": {},
   "outputs": [
    {
     "data": {
      "text/plain": [
       "True"
      ]
     },
     "execution_count": 51,
     "metadata": {},
     "output_type": "execute_result"
    }
   ],
   "source": [
    "a = 'Hi.. My name is Abhi. My age is 26. I am from Dmm.'\n",
    "a.startswith('Hi')"
   ]
  },
  {
   "cell_type": "code",
   "execution_count": 52,
   "id": "518f6207",
   "metadata": {},
   "outputs": [
    {
     "data": {
      "text/plain": [
       "True"
      ]
     },
     "execution_count": 52,
     "metadata": {},
     "output_type": "execute_result"
    }
   ],
   "source": [
    "a = 'Hi.. My name is Abhi. My age is 26. I am from Dmm.'\n",
    "a.startswith('My', 5, len(a))"
   ]
  },
  {
   "cell_type": "markdown",
   "id": "70ecb5a3",
   "metadata": {},
   "source": [
    "### Expandtabs()\n",
    "\n",
    "The expandtabs() method sets the tab size to the specified number of whitespaces.\n",
    "\n",
    "#### Syntax : string.expandtabs(tabsize)\n",
    "tabsize = A number specifying the tab size. default is 8."
   ]
  },
  {
   "cell_type": "code",
   "execution_count": 21,
   "id": "1a7a2e34",
   "metadata": {},
   "outputs": [
    {
     "name": "stdout",
     "output_type": "stream",
     "text": [
      "A\tb\th\ti\n"
     ]
    }
   ],
   "source": [
    "a = 'A\\tb\\th\\ti'\n",
    "print(a)"
   ]
  },
  {
   "cell_type": "code",
   "execution_count": 25,
   "id": "40a68762",
   "metadata": {},
   "outputs": [
    {
     "name": "stdout",
     "output_type": "stream",
     "text": [
      "A b h i\n"
     ]
    }
   ],
   "source": [
    "print(a.expandtabs(1))"
   ]
  },
  {
   "cell_type": "code",
   "execution_count": 26,
   "id": "9c75c4f9",
   "metadata": {},
   "outputs": [
    {
     "name": "stdout",
     "output_type": "stream",
     "text": [
      "A       b       h       i\n"
     ]
    }
   ],
   "source": [
    "print(a.expandtabs())"
   ]
  },
  {
   "cell_type": "markdown",
   "id": "9ee07e01",
   "metadata": {},
   "source": [
    "### Find()\n",
    "\n",
    "- The find() method finds the first occurrence of the specified value.<br>\n",
    "- The find() method returns -1 if the value is not found.<br>\n",
    "- The find() method is almost the same as the index() method, the only difference is that the index() method raises an exception if the value is not found. \n",
    "\n",
    "#### Syntax : string.find(value, start, end)"
   ]
  },
  {
   "cell_type": "code",
   "execution_count": 28,
   "id": "b6f1578d",
   "metadata": {},
   "outputs": [
    {
     "name": "stdout",
     "output_type": "stream",
     "text": [
      "9\n"
     ]
    }
   ],
   "source": [
    "str = 'Hi.. My name is Abhi. My age is 26. I am from Dmm.'\n",
    "\n",
    "print(str.find('a'))    # First occurance of 'a'"
   ]
  },
  {
   "cell_type": "code",
   "execution_count": 39,
   "id": "bf418a69",
   "metadata": {},
   "outputs": [
    {
     "name": "stdout",
     "output_type": "stream",
     "text": [
      "25\n"
     ]
    }
   ],
   "source": [
    "print(str.find('a',10,30))"
   ]
  },
  {
   "cell_type": "code",
   "execution_count": 40,
   "id": "73af3a9f",
   "metadata": {
    "scrolled": true
   },
   "outputs": [
    {
     "name": "stdout",
     "output_type": "stream",
     "text": [
      "25\n"
     ]
    }
   ],
   "source": [
    "print(str.find('a', str.find('a')+1,30))    #dynamically finding the second position of the string"
   ]
  },
  {
   "cell_type": "markdown",
   "id": "a2c19ac4",
   "metadata": {},
   "source": [
    "### rfind()\n",
    "- The rfind() method finds the last occurrence of the specified value.\n",
    "- The rfind() method returns -1 if the value is not found.\n",
    "- rfind() and rindex() are similar but, if the value is not found, the rfind() method returns -1, but the rindex() method will raise an exception\n",
    "#### Syntax : string.rfind(value, start, end)"
   ]
  },
  {
   "cell_type": "code",
   "execution_count": 27,
   "id": "1fcb957f",
   "metadata": {},
   "outputs": [
    {
     "name": "stdout",
     "output_type": "stream",
     "text": [
      "27\n"
     ]
    }
   ],
   "source": [
    "a = 'I am Abhi. Friends call me Abhi.'\n",
    "print(a.rfind('Abhi'))    #gives the last occurance of teh value."
   ]
  },
  {
   "cell_type": "code",
   "execution_count": 32,
   "id": "c149fcdf",
   "metadata": {},
   "outputs": [
    {
     "name": "stdout",
     "output_type": "stream",
     "text": [
      "27\n"
     ]
    }
   ],
   "source": [
    "print(a.rfind('Abhi', 20,len(a)))"
   ]
  },
  {
   "cell_type": "markdown",
   "id": "b5e9d6d1",
   "metadata": {},
   "source": [
    "### Index()\n",
    "\n",
    "- The index() method finds the first occurrence of the specified value.<br>\n",
    "- The index() method raises an exception if the value is not found.<br>\n",
    "- The index() method is almost the same as the find() method, the only difference is that the find() method returns -1 if the value is not found.\n",
    "\n",
    "#### Syntax : string.index(value, start, end)"
   ]
  },
  {
   "cell_type": "code",
   "execution_count": 49,
   "id": "36920eb3",
   "metadata": {},
   "outputs": [
    {
     "name": "stdout",
     "output_type": "stream",
     "text": [
      "10\n"
     ]
    }
   ],
   "source": [
    "str = 'Hi.. My name is Abhi. My age is 26. I am from Dmm.'\n",
    "print(str.index('m'))"
   ]
  },
  {
   "cell_type": "code",
   "execution_count": 53,
   "id": "6990e187",
   "metadata": {},
   "outputs": [
    {
     "name": "stdout",
     "output_type": "stream",
     "text": [
      "39\n"
     ]
    }
   ],
   "source": [
    "print(str.index('m',11,40))"
   ]
  },
  {
   "cell_type": "markdown",
   "id": "9a93bec0",
   "metadata": {},
   "source": [
    "### rindex()\n",
    "- The rindex() method finds the last occurrence of the specified value.\n",
    "- The rindex() method raises an exception if the value is not found.\n",
    "- The rindex() method is almost the same as the rfind() method.\n",
    "#### Syntax : string.rindex(value, start, end)"
   ]
  },
  {
   "cell_type": "code",
   "execution_count": 33,
   "id": "5d72ba81",
   "metadata": {},
   "outputs": [
    {
     "name": "stdout",
     "output_type": "stream",
     "text": [
      "27\n"
     ]
    }
   ],
   "source": [
    "a = 'I am Abhi. Friends call me Abhi.'\n",
    "print(a.rindex('Abhi'))"
   ]
  },
  {
   "cell_type": "code",
   "execution_count": 34,
   "id": "4f33f126",
   "metadata": {},
   "outputs": [
    {
     "name": "stdout",
     "output_type": "stream",
     "text": [
      "27\n"
     ]
    }
   ],
   "source": [
    "a = 'I am Abhi. Friends call me Abhi.'\n",
    "print(a.rindex('Abhi', 20, len(a)))"
   ]
  },
  {
   "cell_type": "markdown",
   "id": "594ace61",
   "metadata": {},
   "source": [
    "### Format()\n",
    "\n",
    "- The format() method formats the specified value(s) and insert them inside the string's placeholder.<br>\n",
    "- The placeholder is defined using curly brackets: {}. <br>\n",
    "- The format() method returns the formatted string.<br>\n",
    "- The placeholders can be identified using named indexes {price}, numbered indexes {0}, or even empty placeholders {}.\n",
    "\n",
    "Refer https://www.w3schools.com/python/ref_string_format.asp for placeholder {} formatting types."
   ]
  },
  {
   "cell_type": "code",
   "execution_count": 47,
   "id": "593e378d",
   "metadata": {},
   "outputs": [
    {
     "data": {
      "text/plain": [
       "'I am Abhi. My age is 26'"
      ]
     },
     "execution_count": 47,
     "metadata": {},
     "output_type": "execute_result"
    }
   ],
   "source": [
    "name = 'Abhi'\n",
    "age = 26\n",
    "\n",
    "a = 'I am {}. My age is {}'\n",
    "\n",
    "a.format(name,age)"
   ]
  },
  {
   "cell_type": "code",
   "execution_count": 44,
   "id": "2b092452",
   "metadata": {},
   "outputs": [
    {
     "data": {
      "text/plain": [
       "'I am Abhi. My age is 26'"
      ]
     },
     "execution_count": 44,
     "metadata": {},
     "output_type": "execute_result"
    }
   ],
   "source": [
    "a = 'I am {0}. My age is {1}'\n",
    "\n",
    "a.format(name, age)"
   ]
  },
  {
   "cell_type": "code",
   "execution_count": 46,
   "id": "afe4b5ed",
   "metadata": {},
   "outputs": [
    {
     "data": {
      "text/plain": [
       "'I am Abhi. My age is 26'"
      ]
     },
     "execution_count": 46,
     "metadata": {},
     "output_type": "execute_result"
    }
   ],
   "source": [
    "a = 'I am {name}. My age is {age}'\n",
    "a.format(name = 'Abhi',age = 26)"
   ]
  },
  {
   "cell_type": "markdown",
   "id": "f3be84dc",
   "metadata": {},
   "source": [
    "### isalnum()\n",
    "\n",
    "The isalnum() method returns True if all the characters are alphanumeric, meaning alphabet letter (a-z) and numbers (0-9).\n",
    "Example of characters that are not alphanumeric: (space)!#%&? etc.\n",
    "\n",
    "#### Syntax : string.isalnum()"
   ]
  },
  {
   "cell_type": "code",
   "execution_count": 54,
   "id": "168cca49",
   "metadata": {},
   "outputs": [
    {
     "name": "stdout",
     "output_type": "stream",
     "text": [
      "False\n"
     ]
    }
   ],
   "source": [
    "a = 'I am Abhi. My age is 26'\n",
    "\n",
    "print(a.isalnum())    # Returns false because it has '.' "
   ]
  },
  {
   "cell_type": "code",
   "execution_count": 55,
   "id": "d8c96ead",
   "metadata": {},
   "outputs": [
    {
     "name": "stdout",
     "output_type": "stream",
     "text": [
      "True\n"
     ]
    }
   ],
   "source": [
    "a = 'Pnr99'\n",
    "print(a.isalnum())"
   ]
  },
  {
   "cell_type": "markdown",
   "id": "8a59a0ac",
   "metadata": {},
   "source": [
    "### Isidentifier()\n",
    "\n",
    "- The isidentifier() method returns True if the string is a valid identifier, otherwise False.<br>\n",
    "- A string is considered a valid identifier if it only contains alphanumeric letters (a-z) and (0-9), or underscores (_). A valid identifier cannot start with a number, or contain any spaces."
   ]
  },
  {
   "cell_type": "code",
   "execution_count": 59,
   "id": "84661f0d",
   "metadata": {},
   "outputs": [
    {
     "name": "stdout",
     "output_type": "stream",
     "text": [
      "True\n"
     ]
    }
   ],
   "source": [
    "a = 'abhi_99'\n",
    "print(a.isidentifier())"
   ]
  },
  {
   "cell_type": "code",
   "execution_count": 60,
   "id": "1371d8a1",
   "metadata": {},
   "outputs": [
    {
     "name": "stdout",
     "output_type": "stream",
     "text": [
      "False\n"
     ]
    }
   ],
   "source": [
    "a = 'pnr 99'\n",
    "print(a.isidentifier())"
   ]
  },
  {
   "cell_type": "code",
   "execution_count": 61,
   "id": "bfcd9a31",
   "metadata": {},
   "outputs": [
    {
     "name": "stdout",
     "output_type": "stream",
     "text": [
      "False\n"
     ]
    }
   ],
   "source": [
    "a = '99_pnr'\n",
    "print(a.isidentifier())"
   ]
  },
  {
   "cell_type": "markdown",
   "id": "497fa58e",
   "metadata": {},
   "source": [
    "### Islower()\n",
    "The islower() method returns True if all the characters are in lower case, otherwise False.\n",
    "Numbers, symbols and spaces are not checked, only alphabet characters."
   ]
  },
  {
   "cell_type": "code",
   "execution_count": 62,
   "id": "8b8ebf46",
   "metadata": {},
   "outputs": [
    {
     "name": "stdout",
     "output_type": "stream",
     "text": [
      "False\n"
     ]
    }
   ],
   "source": [
    "a = 'Pnr_99'\n",
    "print(a.islower())"
   ]
  },
  {
   "cell_type": "code",
   "execution_count": 63,
   "id": "9d49ba65",
   "metadata": {},
   "outputs": [
    {
     "name": "stdout",
     "output_type": "stream",
     "text": [
      "True\n"
     ]
    }
   ],
   "source": [
    "b = 'abhi'\n",
    "print(b.islower())"
   ]
  },
  {
   "cell_type": "markdown",
   "id": "0ed61f0f",
   "metadata": {},
   "source": [
    "### Isupper()\n",
    "The isupper() method returns True if all the characters are in upper case, otherwise False.\n",
    "Numbers, symbols and spaces are not checked, only alphabet characters."
   ]
  },
  {
   "cell_type": "code",
   "execution_count": 74,
   "id": "f0f97b89",
   "metadata": {},
   "outputs": [
    {
     "name": "stdout",
     "output_type": "stream",
     "text": [
      "False\n"
     ]
    }
   ],
   "source": [
    "a = 'Pnr_99'\n",
    "print(a.isupper())"
   ]
  },
  {
   "cell_type": "code",
   "execution_count": 75,
   "id": "4e438f30",
   "metadata": {},
   "outputs": [
    {
     "name": "stdout",
     "output_type": "stream",
     "text": [
      "True\n"
     ]
    }
   ],
   "source": [
    "a = 'PNR_99'\n",
    "print(a.isupper())"
   ]
  },
  {
   "cell_type": "markdown",
   "id": "8f35237e",
   "metadata": {},
   "source": [
    "### Isnumeric()\n",
    "- The isnumeric() method returns True if all the characters are numeric (0-9), otherwise False.<br>\n",
    "- Exponents, like ² and ¾ are also considered to be numeric values.<br>\n",
    "- \"-1\" and \"1.5\" are NOT considered numeric values, because all the characters in the string must be numeric, and the - and the . are not."
   ]
  },
  {
   "cell_type": "code",
   "execution_count": 65,
   "id": "6fbfc1df",
   "metadata": {},
   "outputs": [
    {
     "name": "stdout",
     "output_type": "stream",
     "text": [
      "True\n"
     ]
    }
   ],
   "source": [
    "a = '1334'\n",
    "\n",
    "print(a.isnumeric())"
   ]
  },
  {
   "cell_type": "code",
   "execution_count": 66,
   "id": "23874a7b",
   "metadata": {},
   "outputs": [
    {
     "name": "stdout",
     "output_type": "stream",
     "text": [
      "False\n"
     ]
    }
   ],
   "source": [
    "a = '1.3'\n",
    "print(a.isnumeric())"
   ]
  },
  {
   "cell_type": "markdown",
   "id": "16be31f0",
   "metadata": {},
   "source": [
    "### Isspace()\n",
    "\n",
    "The isspace() method returns True if all the characters in a string are whitespaces, otherwise False."
   ]
  },
  {
   "cell_type": "code",
   "execution_count": 67,
   "id": "45672c61",
   "metadata": {},
   "outputs": [
    {
     "name": "stdout",
     "output_type": "stream",
     "text": [
      "True\n"
     ]
    }
   ],
   "source": [
    "a = '    '\n",
    "\n",
    "print(a.isspace())"
   ]
  },
  {
   "cell_type": "code",
   "execution_count": 68,
   "id": "3ed5bdea",
   "metadata": {},
   "outputs": [
    {
     "name": "stdout",
     "output_type": "stream",
     "text": [
      "False\n"
     ]
    }
   ],
   "source": [
    "a = '  a  '\n",
    "print(a.isspace())"
   ]
  },
  {
   "cell_type": "markdown",
   "id": "f46b4d56",
   "metadata": {},
   "source": [
    "### Istitle()\n",
    "- The istitle() method returns True if all words in a text start with a upper case letter, AND the rest of the word are lower case letters, otherwise False.<br>\n",
    "- Symbols and numbers are ignored."
   ]
  },
  {
   "cell_type": "code",
   "execution_count": 69,
   "id": "df4f9903",
   "metadata": {},
   "outputs": [
    {
     "name": "stdout",
     "output_type": "stream",
     "text": [
      "True\n"
     ]
    }
   ],
   "source": [
    "a = 'Welcome To My World'\n",
    "\n",
    "print(a.istitle())"
   ]
  },
  {
   "cell_type": "code",
   "execution_count": 70,
   "id": "7f703802",
   "metadata": {},
   "outputs": [
    {
     "name": "stdout",
     "output_type": "stream",
     "text": [
      "False\n"
     ]
    }
   ],
   "source": [
    "a = 'Welcome to my World'\n",
    "\n",
    "print(a.istitle())"
   ]
  },
  {
   "cell_type": "code",
   "execution_count": 73,
   "id": "142cf965",
   "metadata": {},
   "outputs": [
    {
     "name": "stdout",
     "output_type": "stream",
     "text": [
      "False\n"
     ]
    }
   ],
   "source": [
    "a = 'WELCOME TO MY WORLD'\n",
    "print(a.istitle())"
   ]
  },
  {
   "cell_type": "markdown",
   "id": "66da588b",
   "metadata": {},
   "source": [
    "### Join()\n",
    "The join() method takes all items in an iterable and joins them into one string.A string must be specified as the separator.\n",
    "#### Syntax : seperator.join(iterables)"
   ]
  },
  {
   "cell_type": "code",
   "execution_count": 80,
   "id": "87d6e74c",
   "metadata": {},
   "outputs": [
    {
     "name": "stdout",
     "output_type": "stream",
     "text": [
      "abhi_niranjan_rupesh\n"
     ]
    }
   ],
   "source": [
    "a = ('abhi', 'niranjan', 'rupesh')\n",
    "print('_'.join(a))    # Joins all the items in the tuple seperated by a '_'"
   ]
  },
  {
   "cell_type": "markdown",
   "id": "11ae147c",
   "metadata": {},
   "source": [
    "### Lower()\n",
    "\n",
    "The lower() method returns a string where all characters are lower case.\n",
    "Symbols and Numbers are ignored."
   ]
  },
  {
   "cell_type": "code",
   "execution_count": 1,
   "id": "cef7d0d4",
   "metadata": {},
   "outputs": [
    {
     "name": "stdout",
     "output_type": "stream",
     "text": [
      "i am niranjan\n"
     ]
    }
   ],
   "source": [
    "a = 'I AM NIRANJAN'\n",
    "print(a.lower())"
   ]
  },
  {
   "cell_type": "markdown",
   "id": "3c7f3a2b",
   "metadata": {},
   "source": [
    "### Upper()\n",
    "The upper() method returns a string where all characters are upper case.\n",
    "Symbols and Numbers are ignored."
   ]
  },
  {
   "cell_type": "code",
   "execution_count": 2,
   "id": "f7978888",
   "metadata": {},
   "outputs": [
    {
     "name": "stdout",
     "output_type": "stream",
     "text": [
      "MY NAME IS ABHI\n"
     ]
    }
   ],
   "source": [
    "a = 'my name is abhi'\n",
    "print(a.upper())"
   ]
  },
  {
   "cell_type": "markdown",
   "id": "8852eaaf",
   "metadata": {},
   "source": [
    "### Strip()\n",
    "The strip() method removes any leading (spaces at the beginning) and trailing (spaces at the end) characters (space is the default leading character to remove).\n",
    "\n",
    "#### Syntax : string.strip(characters)\n",
    "\n",
    "Characters : optional, specific characters to remove"
   ]
  },
  {
   "cell_type": "code",
   "execution_count": 3,
   "id": "8c21b30f",
   "metadata": {},
   "outputs": [
    {
     "name": "stdout",
     "output_type": "stream",
     "text": [
      "    abhi   \n"
     ]
    }
   ],
   "source": [
    "a = '    abhi   '\n",
    "print(a)"
   ]
  },
  {
   "cell_type": "code",
   "execution_count": 4,
   "id": "e0f56920",
   "metadata": {},
   "outputs": [
    {
     "name": "stdout",
     "output_type": "stream",
     "text": [
      "abhi\n"
     ]
    }
   ],
   "source": [
    "print(a.strip())"
   ]
  },
  {
   "cell_type": "code",
   "execution_count": 7,
   "id": "7baada7d",
   "metadata": {},
   "outputs": [
    {
     "name": "stdout",
     "output_type": "stream",
     "text": [
      "abhi\n"
     ]
    }
   ],
   "source": [
    "b = ',,,,abhi'\n",
    "print(b.strip(','))    # Specify the character inside the brackets to remove that particular character"
   ]
  },
  {
   "cell_type": "markdown",
   "id": "baf8aded",
   "metadata": {},
   "source": [
    "### lstrip()\n",
    "The lstrip() method removes any leading characters (space is the default leading character to remove)\n",
    "#### Syntax : string.lstrip(characters)\n",
    "Characters : optional, specific characters to remove"
   ]
  },
  {
   "cell_type": "code",
   "execution_count": 8,
   "id": "b8d9e72d",
   "metadata": {},
   "outputs": [
    {
     "name": "stdout",
     "output_type": "stream",
     "text": [
      "abhi     \n"
     ]
    }
   ],
   "source": [
    "a = '     abhi     '\n",
    "print(a.lstrip())"
   ]
  },
  {
   "cell_type": "code",
   "execution_count": 10,
   "id": "9e7aae99",
   "metadata": {},
   "outputs": [
    {
     "name": "stdout",
     "output_type": "stream",
     "text": [
      "abhi,,,,,\n"
     ]
    }
   ],
   "source": [
    "a = ',,,,abhi,,,,,'\n",
    "print(a.lstrip(','))"
   ]
  },
  {
   "cell_type": "markdown",
   "id": "502c9376",
   "metadata": {},
   "source": [
    "### rstrip()\n",
    "The rstrip() method removes any trailing characters (characters at the end a string), space is the default trailing character to remove.\n",
    "#### Syntax : string.rstrip(characters)\n",
    "Characters : optional, specific characters to remove"
   ]
  },
  {
   "cell_type": "code",
   "execution_count": 15,
   "id": "23532f8f",
   "metadata": {},
   "outputs": [
    {
     "name": "stdout",
     "output_type": "stream",
     "text": [
      "    abhi\n"
     ]
    }
   ],
   "source": [
    "a = '    abhi    '\n",
    "print(a.rstrip())"
   ]
  },
  {
   "cell_type": "code",
   "execution_count": 16,
   "id": "23b311fa",
   "metadata": {},
   "outputs": [
    {
     "name": "stdout",
     "output_type": "stream",
     "text": [
      ",,,,abhi\n"
     ]
    }
   ],
   "source": [
    "a = ',,,,abhi,,,,'\n",
    "print(a.rstrip(','))"
   ]
  },
  {
   "cell_type": "markdown",
   "id": "4f308254",
   "metadata": {},
   "source": [
    "### Partition()\n",
    "- The partition() method searches for a specified string, and splits the string into a tuple containing three elements.\n",
    "- The first element contains the part before the specified string.\n",
    "- The second element contains the specified string.\n",
    "- The third element contains the part after the string.\n",
    "#### Syntax : string.partition(value)"
   ]
  },
  {
   "cell_type": "code",
   "execution_count": 17,
   "id": "e7a3cbcd",
   "metadata": {},
   "outputs": [
    {
     "name": "stdout",
     "output_type": "stream",
     "text": [
      "('I ', 'am', ' abhi')\n"
     ]
    }
   ],
   "source": [
    "a = 'I am abhi'\n",
    "print(a.partition('am'))"
   ]
  },
  {
   "cell_type": "markdown",
   "id": "62fd6097",
   "metadata": {},
   "source": [
    "### rpartition()\n",
    "The rpartition() method searches for the last occurrence of a specified string, and splits the string into a tuple containing three elements.\n",
    "- The first element contains the part before the specified string.\n",
    "- The second element contains the specified string.\n",
    "- The third element contains the part after the string"
   ]
  },
  {
   "cell_type": "code",
   "execution_count": 35,
   "id": "4713ade1",
   "metadata": {},
   "outputs": [
    {
     "name": "stdout",
     "output_type": "stream",
     "text": [
      "('I am Abhi. Friends call me ', 'Abhi', '. My actual name is Niranjan')\n"
     ]
    }
   ],
   "source": [
    "a = 'I am Abhi. Friends call me Abhi. My actual name is Niranjan'\n",
    "print(a.rpartition('Abhi'))"
   ]
  },
  {
   "cell_type": "markdown",
   "id": "18f0a15c",
   "metadata": {},
   "source": [
    "### Replace()\n",
    "The replace() method replaces a specified phrase with another specified phrase.\n",
    "All occurrences of the specified phrase will be replaced, if nothing else is specified.\n",
    "#### Syntax : string.replace(old_value, new_value, count)\n",
    "\n",
    "count : Optional. A number specifying how many occurrences of the old value you want to replace. Default is all occurrences."
   ]
  },
  {
   "cell_type": "code",
   "execution_count": 18,
   "id": "a7133307",
   "metadata": {},
   "outputs": [
    {
     "name": "stdout",
     "output_type": "stream",
     "text": [
      "I am Niranjan\n"
     ]
    }
   ],
   "source": [
    "a = 'I am Abhi'\n",
    "print(a.replace('Abhi', 'Niranjan'))"
   ]
  },
  {
   "cell_type": "code",
   "execution_count": 20,
   "id": "68f7a0d7",
   "metadata": {},
   "outputs": [
    {
     "name": "stdout",
     "output_type": "stream",
     "text": [
      "I am Niranjan. My name is Niranjan. Friends call me Niranjan.\n"
     ]
    }
   ],
   "source": [
    "a = 'I am Abhi. My name is Abhi. Friends call me Abhi.'\n",
    "print(a.replace('Abhi', 'Niranjan'))"
   ]
  },
  {
   "cell_type": "code",
   "execution_count": 25,
   "id": "bdb8a076",
   "metadata": {},
   "outputs": [
    {
     "name": "stdout",
     "output_type": "stream",
     "text": [
      "I am Niranjan. My name is Abhi. Friends call me Abhi.\n"
     ]
    }
   ],
   "source": [
    "a = 'I am Abhi. My name is Abhi. Friends call me Abhi.'\n",
    "print(a.replace('Abhi','Niranjan', 1))    # Only the first occurance is replaced"
   ]
  },
  {
   "cell_type": "markdown",
   "id": "51a7af6d",
   "metadata": {},
   "source": [
    "### Split()\n",
    "The split() method splits a string into a list.\n",
    "You can specify the separator, default separator is any whitespace.\n",
    "#### Syntax : string.split(seperator, maxsplit)\n",
    "**separator** : Optional. Specifies the separator to use when splitting the string. By default any whitespace is a separator. <br>\n",
    "**maxsplit** : Optional. Specifies how many splits to do. Default value is -1, which is \"all occurrences\""
   ]
  },
  {
   "cell_type": "code",
   "execution_count": 36,
   "id": "f9d83739",
   "metadata": {},
   "outputs": [
    {
     "name": "stdout",
     "output_type": "stream",
     "text": [
      "['abhi', 'niranjan', 'reddy']\n"
     ]
    }
   ],
   "source": [
    "a = 'abhi niranjan reddy'\n",
    "print(a.split())"
   ]
  },
  {
   "cell_type": "code",
   "execution_count": 37,
   "id": "d5818b58",
   "metadata": {},
   "outputs": [
    {
     "data": {
      "text/plain": [
       "['abhi', 'niranjan', 'reddy', 'pnr']"
      ]
     },
     "execution_count": 37,
     "metadata": {},
     "output_type": "execute_result"
    }
   ],
   "source": [
    "a = 'abhi_niranjan_reddy_pnr'\n",
    "a.split('_')"
   ]
  },
  {
   "cell_type": "code",
   "execution_count": 39,
   "id": "3c64fdb1",
   "metadata": {},
   "outputs": [
    {
     "data": {
      "text/plain": [
       "['abhi', 'niranjan_reddy_pnr']"
      ]
     },
     "execution_count": 39,
     "metadata": {},
     "output_type": "execute_result"
    }
   ],
   "source": [
    "a = 'abhi_niranjan_reddy_pnr'\n",
    "a.split('_', 1)    # splits the string only for the first occurance of the seperator"
   ]
  },
  {
   "cell_type": "code",
   "execution_count": 44,
   "id": "6ccbf0ed",
   "metadata": {},
   "outputs": [
    {
     "data": {
      "text/plain": [
       "['abhi', 'niranjan', 'reddy_pnr']"
      ]
     },
     "execution_count": 44,
     "metadata": {},
     "output_type": "execute_result"
    }
   ],
   "source": [
    "a = 'abhi_niranjan_reddy_pnr'\n",
    "a.split('_', 2)    # splits the string till the second occurance of the seperator"
   ]
  },
  {
   "cell_type": "markdown",
   "id": "47a151f4",
   "metadata": {},
   "source": [
    "### Splitlines()\n",
    "The splitlines() method splits a string into a list. The splitting is done at line breaks.\n",
    "#### Syntax : String.splitlines(linebreaks)\n",
    "**Linebreaks** : Optional. Specifies if the line breaks should be included (True), or not (False). Default value is False."
   ]
  },
  {
   "cell_type": "code",
   "execution_count": 47,
   "id": "11fa1c80",
   "metadata": {},
   "outputs": [
    {
     "data": {
      "text/plain": [
       "['I am Niranjan.', 'My friends call me Abhi.', 'I like it']"
      ]
     },
     "execution_count": 47,
     "metadata": {},
     "output_type": "execute_result"
    }
   ],
   "source": [
    "a = 'I am Niranjan.\\nMy friends call me Abhi.\\nI like it'\n",
    "a.splitlines()"
   ]
  },
  {
   "cell_type": "code",
   "execution_count": 49,
   "id": "a45c2c4d",
   "metadata": {},
   "outputs": [
    {
     "data": {
      "text/plain": [
       "['I am Niranjan.\\n', 'My friends call me Abhi.\\n', 'I like it']"
      ]
     },
     "execution_count": 49,
     "metadata": {},
     "output_type": "execute_result"
    }
   ],
   "source": [
    "a = 'I am Niranjan.\\nMy friends call me Abhi.\\nI like it'\n",
    "a.splitlines(True)    # Linesbreaks i.e, '/n' is also included."
   ]
  },
  {
   "cell_type": "markdown",
   "id": "5c1c69c1",
   "metadata": {},
   "source": [
    "### Swapcase()\n",
    "The swapcase() method returns a string where all the upper case letters are lower case and vice versa.\n",
    "\n",
    "#### Syntax : string.swapcase()"
   ]
  },
  {
   "cell_type": "code",
   "execution_count": 53,
   "id": "0ff0ba7d",
   "metadata": {},
   "outputs": [
    {
     "data": {
      "text/plain": [
       "'i AM nIRANJAN rEDDY'"
      ]
     },
     "execution_count": 53,
     "metadata": {},
     "output_type": "execute_result"
    }
   ],
   "source": [
    "a = 'I am Niranjan Reddy'\n",
    "a.swapcase()"
   ]
  },
  {
   "cell_type": "markdown",
   "id": "68bec0c2",
   "metadata": {},
   "source": [
    "### Title()\n",
    "The title() method returns a string where the first character in every word is upper case. Like a header, or a title.\n",
    "\n",
    "If the word contains a number or a symbol, the first letter after that will be converted to upper case."
   ]
  },
  {
   "cell_type": "code",
   "execution_count": 54,
   "id": "82682d0d",
   "metadata": {},
   "outputs": [
    {
     "data": {
      "text/plain": [
       "'I Am Niranjan Reddy'"
      ]
     },
     "execution_count": 54,
     "metadata": {},
     "output_type": "execute_result"
    }
   ],
   "source": [
    "a = 'I am niranjan reddy'\n",
    "a.title()"
   ]
  },
  {
   "cell_type": "markdown",
   "id": "e820c4b7",
   "metadata": {},
   "source": [
    "### zfill()\n",
    "The zfill() method adds zeros (0) at the beginning of the string, until it reaches the specified length.\n",
    "\n",
    "If the value of the len parameter is less than the length of the string, no filling is done."
   ]
  },
  {
   "cell_type": "code",
   "execution_count": 55,
   "id": "ec470cb0",
   "metadata": {},
   "outputs": [
    {
     "data": {
      "text/plain": [
       "'000000abhi'"
      ]
     },
     "execution_count": 55,
     "metadata": {},
     "output_type": "execute_result"
    }
   ],
   "source": [
    "a = 'abhi'\n",
    "a.zfill(10)"
   ]
  },
  {
   "cell_type": "code",
   "execution_count": 58,
   "id": "7cc7bb3f",
   "metadata": {},
   "outputs": [
    {
     "data": {
      "text/plain": [
       "'My name is Abhi'"
      ]
     },
     "execution_count": 58,
     "metadata": {},
     "output_type": "execute_result"
    }
   ],
   "source": [
    "a = 'My name is Abhi'\n",
    "a.zfill(10)    # No zeros are added as the length of the the string is greater than 10"
   ]
  },
  {
   "cell_type": "code",
   "execution_count": null,
   "id": "0ee507bb",
   "metadata": {},
   "outputs": [],
   "source": []
  },
  {
   "cell_type": "code",
   "execution_count": null,
   "id": "888865f7",
   "metadata": {},
   "outputs": [],
   "source": []
  },
  {
   "cell_type": "code",
   "execution_count": null,
   "id": "3a765836",
   "metadata": {},
   "outputs": [],
   "source": []
  },
  {
   "cell_type": "code",
   "execution_count": null,
   "id": "40c3d732",
   "metadata": {},
   "outputs": [],
   "source": []
  },
  {
   "cell_type": "code",
   "execution_count": null,
   "id": "e1d2b1c4",
   "metadata": {},
   "outputs": [],
   "source": []
  },
  {
   "cell_type": "code",
   "execution_count": null,
   "id": "804291bd",
   "metadata": {},
   "outputs": [],
   "source": []
  },
  {
   "cell_type": "code",
   "execution_count": null,
   "id": "2fff9095",
   "metadata": {},
   "outputs": [],
   "source": []
  },
  {
   "cell_type": "code",
   "execution_count": 4,
   "id": "1bc757c9",
   "metadata": {
    "scrolled": true
   },
   "outputs": [
    {
     "data": {
      "text/plain": [
       "'3.11.0'"
      ]
     },
     "execution_count": 4,
     "metadata": {},
     "output_type": "execute_result"
    }
   ],
   "source": [
    "from platform import python_version\n",
    "python_version()"
   ]
  },
  {
   "cell_type": "markdown",
   "id": "4c01cac1",
   "metadata": {},
   "source": [
    "## <font color = Green>Data Structures\n",
    "## <font color = blue>Python Collections (Arrays)\n",
    " There are four collection data types in the Python programming language:\n",
    "\n",
    "- <font color = Orange size = 3>**List**</font>, is a collection which is ordered and changeable. Allows duplicate members.\n",
    "- <font color = Orange size = 3>**Tuple**</font> is a collection which is ordered and unchangeable. Allows duplicate members.\n",
    "- <font color = Orange size = 3>**Set**</font> is a collection which is unordered, unchangeable, and unindexed. No duplicate members.\n",
    "- <font color = Orange size = 3>**Dictionary**</font>  is a collection which is ordered and changeable. No duplicate members.    "
   ]
  },
  {
   "cell_type": "markdown",
   "id": "b44e119c",
   "metadata": {},
   "source": [
    "### <font color = Orange> List\n",
    "- Lists are created using square brackets.\n",
    "- Lists are used to store multiple items in a single variable.\n",
    "- ***List items are ordered, changeable(mutable), and allow duplicate values.***\n",
    "- List items are indexed, the first item has index [0], the second item has index [1] etc.    "
   ]
  },
  {
   "cell_type": "code",
   "execution_count": 26,
   "id": "467bce9b",
   "metadata": {},
   "outputs": [
    {
     "name": "stdout",
     "output_type": "stream",
     "text": [
      "[1, 3, 4, 5, 6, 7, 4, 4, 3]\n",
      "['Abhi', 'Teja', 'Vinod', 'Cherry', 'Chintu', 'Madhu']\n",
      "[True, False, False, True]\n",
      "[1, 3, 4, 'Abhi', 'Chintu', True, False]\n"
     ]
    }
   ],
   "source": [
    "# Lists can store any datatypes (Numbers, text, bool)\n",
    "nums = [1,3,4,5,6,7,4,4,3]\n",
    "texts = ['Abhi','Teja','Vinod','Cherry','Chintu','Madhu']\n",
    "bools = [True,False,False,True]\n",
    "mix = [1,3,4,'Abhi','Chintu',True,False]\n",
    "\n",
    "print(nums)\n",
    "print(texts)\n",
    "print(bools)\n",
    "print(mix)"
   ]
  },
  {
   "cell_type": "code",
   "execution_count": 35,
   "id": "d91db74d",
   "metadata": {},
   "outputs": [
    {
     "name": "stdout",
     "output_type": "stream",
     "text": [
      "<class 'list'>\n",
      "<class 'list'>\n"
     ]
    }
   ],
   "source": [
    "# From Python's perspective, lists are defined as objects with the data type 'list'\n",
    "\n",
    "print(type(nums))\n",
    "print(type(mix))"
   ]
  },
  {
   "cell_type": "code",
   "execution_count": 2,
   "id": "b9f56fa6",
   "metadata": {},
   "outputs": [
    {
     "name": "stdout",
     "output_type": "stream",
     "text": [
      "[1, 'Abhi', 'Niranjan', 'Chintu', 'Cherry', 3, 6, 5, 9, 'Madhu']\n"
     ]
    }
   ],
   "source": [
    "# We can also create a list by using \"list constructor\"\n",
    "\n",
    "a = list((1,'Abhi', 'Niranjan', 'Chintu', 'Cherry',3,6,5,9,'Madhu'))\n",
    "print(a)"
   ]
  },
  {
   "cell_type": "markdown",
   "id": "0d43176e",
   "metadata": {},
   "source": [
    "### Accessing List Items"
   ]
  },
  {
   "cell_type": "code",
   "execution_count": 67,
   "id": "ba70231f",
   "metadata": {},
   "outputs": [
    {
     "data": {
      "text/plain": [
       "'Niranjan'"
      ]
     },
     "execution_count": 67,
     "metadata": {},
     "output_type": "execute_result"
    }
   ],
   "source": [
    "# Indexing\n",
    "# Indexing in python starts from '0'\n",
    "# the first item has index [0], the second item has index [1]\n",
    "\n",
    "a[2]"
   ]
  },
  {
   "cell_type": "code",
   "execution_count": 55,
   "id": "d8808bc3",
   "metadata": {},
   "outputs": [
    {
     "data": {
      "text/plain": [
       "'Madhu'"
      ]
     },
     "execution_count": 55,
     "metadata": {},
     "output_type": "execute_result"
    }
   ],
   "source": [
    "# Negative Indexing\n",
    "a[-1]"
   ]
  },
  {
   "cell_type": "code",
   "execution_count": 65,
   "id": "bf1bc102",
   "metadata": {},
   "outputs": [
    {
     "data": {
      "text/plain": [
       "['Niranjan', 'Chintu']"
      ]
     },
     "execution_count": 65,
     "metadata": {},
     "output_type": "execute_result"
    }
   ],
   "source": [
    "# Slicing\n",
    "\n",
    "a[2:4]    # Returns 2nd and 3rd position but not 4th"
   ]
  },
  {
   "cell_type": "code",
   "execution_count": 60,
   "id": "0ccc14d2",
   "metadata": {},
   "outputs": [
    {
     "data": {
      "text/plain": [
       "[1, 'Abhi', 'Niranjan', 'Chintu', 'Cherry', 3]"
      ]
     },
     "execution_count": 60,
     "metadata": {},
     "output_type": "execute_result"
    }
   ],
   "source": [
    "a[:6]    # Returns starting to the index 5, but not 6th"
   ]
  },
  {
   "cell_type": "code",
   "execution_count": 63,
   "id": "45e0486b",
   "metadata": {},
   "outputs": [
    {
     "data": {
      "text/plain": [
       "['Chintu', 'Cherry', 3, 6, 5, 9, 'Madhu']"
      ]
     },
     "execution_count": 63,
     "metadata": {},
     "output_type": "execute_result"
    }
   ],
   "source": [
    "a[3:]    # Returns from index 3 to end"
   ]
  },
  {
   "cell_type": "code",
   "execution_count": 64,
   "id": "47d30734",
   "metadata": {},
   "outputs": [
    {
     "data": {
      "text/plain": [
       "[1, 'Abhi', 'Niranjan', 'Chintu', 'Cherry', 3, 6, 5, 9, 'Madhu']"
      ]
     },
     "execution_count": 64,
     "metadata": {},
     "output_type": "execute_result"
    }
   ],
   "source": [
    "a[:]    # Returns everything"
   ]
  },
  {
   "cell_type": "code",
   "execution_count": 5,
   "id": "4aaf7a39",
   "metadata": {},
   "outputs": [
    {
     "data": {
      "text/plain": [
       "['Madhu', 9, 5, 6, 3, 'Cherry', 'Chintu', 'Niranjan', 'Abhi', 1]"
      ]
     },
     "execution_count": 5,
     "metadata": {},
     "output_type": "execute_result"
    }
   ],
   "source": [
    "a[::-1]    # Third argument is the step. -1 will give us the list in the reverse order."
   ]
  },
  {
   "cell_type": "markdown",
   "id": "1b29ccce",
   "metadata": {},
   "source": [
    "### Changing List Items"
   ]
  },
  {
   "cell_type": "code",
   "execution_count": 104,
   "id": "959086f0",
   "metadata": {},
   "outputs": [
    {
     "name": "stdout",
     "output_type": "stream",
     "text": [
      "Before the change : Abhi\n",
      "After the change : Niranjan\n"
     ]
    }
   ],
   "source": [
    "names = ['Abhi','Cherry','Chintu','Madhu','Vinod','Teja','Pinky']\n",
    "\n",
    "a = names[0]\n",
    "print('Before the change :', a)\n",
    " \n",
    "# Changing a value\n",
    "names[0] = 'Niranjan'\n",
    "b = names[0]\n",
    "print('After the change :', b)"
   ]
  },
  {
   "cell_type": "code",
   "execution_count": 107,
   "id": "3dfdf30a",
   "metadata": {},
   "outputs": [
    {
     "name": "stdout",
     "output_type": "stream",
     "text": [
      "['Abhi', 'Cherry', 'Chintu', 'Madhu', 'Vinod', 'Teja', 'Pinky']\n",
      "['Abhi', 'Sasi', 'Nasa', 'Kow', 'Vinod', 'Teja', 'Pinky']\n"
     ]
    }
   ],
   "source": [
    "# Changing a list of values\n",
    "names = ['Abhi','Cherry','Chintu','Madhu','Vinod','Teja','Pinky']\n",
    "print(names)\n",
    "\n",
    "names[1:4] = ['Sasi','Nasa','Kow']\n",
    "print(names)"
   ]
  },
  {
   "cell_type": "code",
   "execution_count": 3,
   "id": "da1d090f",
   "metadata": {},
   "outputs": [
    {
     "name": "stdout",
     "output_type": "stream",
     "text": [
      "['Abhi', 'Cherry', 'Chintu', 'Madhu', 'Vinod', 'Teja', 'Pinky']\n",
      "['Abhi', 'Niranjan', 'Vinod', 'Teja', 'Pinky']\n"
     ]
    }
   ],
   "source": [
    "names = ['Abhi','Cherry','Chintu','Madhu','Vinod','Teja','Pinky']\n",
    "print(names)\n",
    "\n",
    "names[1:4] = ['Niranjan']\n",
    "print(names)"
   ]
  },
  {
   "cell_type": "code",
   "execution_count": 7,
   "id": "efc57649",
   "metadata": {},
   "outputs": [
    {
     "name": "stdout",
     "output_type": "stream",
     "text": [
      "['Abhi', 'Cherry', 'Chintu', 'Madhu', 'Vinod', 'Teja', 'Pinky']\n",
      "['Abhi', 'Niranjan', 'Cherry', 'Chintu', 'Madhu', 'Vinod', 'Teja', 'Pinky']\n"
     ]
    }
   ],
   "source": [
    "# Inserting a new value into the list\n",
    "\n",
    "names = ['Abhi','Cherry','Chintu','Madhu','Vinod','Teja','Pinky']\n",
    "print(names)\n",
    "\n",
    "names.insert(1, 'Niranjan')\n",
    "print(names)"
   ]
  },
  {
   "cell_type": "markdown",
   "id": "f0525a12",
   "metadata": {},
   "source": [
    "### List Comprehension"
   ]
  },
  {
   "cell_type": "code",
   "execution_count": 9,
   "id": "99a6a420",
   "metadata": {},
   "outputs": [
    {
     "name": "stdout",
     "output_type": "stream",
     "text": [
      "['Abhi', 'Cherry', 'Chintu', 'Madhu', 'Vinod', 'Teja', 'Pinky']\n"
     ]
    },
    {
     "data": {
      "text/plain": [
       "['Madhu', 'Teja']"
      ]
     },
     "execution_count": 9,
     "metadata": {},
     "output_type": "execute_result"
    }
   ],
   "source": [
    "names = ['Abhi','Cherry','Chintu','Madhu','Vinod','Teja','Pinky']\n",
    "print(names)\n",
    "\n",
    "new_names = [x for x in names if 'a' in x]\n",
    "new_names"
   ]
  },
  {
   "cell_type": "markdown",
   "id": "108904b2",
   "metadata": {},
   "source": [
    "### Joining two lists"
   ]
  },
  {
   "cell_type": "code",
   "execution_count": 12,
   "id": "7aaa6d76",
   "metadata": {},
   "outputs": [
    {
     "name": "stdout",
     "output_type": "stream",
     "text": [
      "[1, 2, 3, 4, 5, 6, 'a', 'g', 'd', 't']\n"
     ]
    }
   ],
   "source": [
    "l1 = [1,2,3,4,5,6]\n",
    "l2 = ['a','g','d','t']\n",
    "l3 = l1+l2\n",
    "\n",
    "print(l3)"
   ]
  },
  {
   "cell_type": "code",
   "execution_count": 13,
   "id": "c24e6838",
   "metadata": {},
   "outputs": [
    {
     "name": "stdout",
     "output_type": "stream",
     "text": [
      "[1, 2, 3, 4, 5, 6, 'a', 'g', 'd', 't']\n"
     ]
    }
   ],
   "source": [
    "l1 = [1,2,3,4,5,6]\n",
    "l2 = ['a','g','d','t']\n",
    "\n",
    "for x in l2:\n",
    "    l1.append(x)\n",
    "print(l1)    "
   ]
  },
  {
   "cell_type": "code",
   "execution_count": 15,
   "id": "4b985dbc",
   "metadata": {},
   "outputs": [
    {
     "data": {
      "text/plain": [
       "[1, 2, 3, 4, 5, 6, 'a', 'g', 'd', 't']"
      ]
     },
     "execution_count": 15,
     "metadata": {},
     "output_type": "execute_result"
    }
   ],
   "source": [
    "l1 = [1,2,3,4,5,6]\n",
    "l2 = ['a','g','d','t']\n",
    "\n",
    "l1.extend(l2)\n",
    "l1"
   ]
  },
  {
   "cell_type": "markdown",
   "id": "21db4496",
   "metadata": {},
   "source": [
    "### List Methods\n",
    "Python has a set of built-in methods that you can use on lists."
   ]
  },
  {
   "cell_type": "markdown",
   "id": "d70fe5b6",
   "metadata": {},
   "source": [
    "### Append()   \n",
    "Adds an element at the end of a list"
   ]
  },
  {
   "cell_type": "code",
   "execution_count": 16,
   "id": "55960adf",
   "metadata": {
    "scrolled": true
   },
   "outputs": [
    {
     "name": "stdout",
     "output_type": "stream",
     "text": [
      "['Abhi', 'Cherry', 'Chintu', 'Madhu', 'Vinod', 'Teja', 'Pinky']\n",
      "['Abhi', 'Cherry', 'Chintu', 'Madhu', 'Vinod', 'Teja', 'Pinky', 'Niranjan']\n"
     ]
    }
   ],
   "source": [
    "names = ['Abhi','Cherry','Chintu','Madhu','Vinod','Teja','Pinky']\n",
    "print(names)\n",
    "names.append('Niranjan')\n",
    "print(names)"
   ]
  },
  {
   "cell_type": "code",
   "execution_count": 19,
   "id": "ea80fd26",
   "metadata": {},
   "outputs": [
    {
     "name": "stdout",
     "output_type": "stream",
     "text": [
      "['Abhi', 'Cherry', 'Chintu', 'Madhu', 'Vinod', 'Teja', 'Pinky', [1, 2, 3, 4, 5, 5, 5]]\n"
     ]
    }
   ],
   "source": [
    "names = ['Abhi','Cherry','Chintu','Madhu','Vinod','Teja','Pinky']\n",
    "m = [1,2,3,4,5,5,5]\n",
    "\n",
    "names.append(m)\n",
    "print(names)"
   ]
  },
  {
   "cell_type": "markdown",
   "id": "158fdd00",
   "metadata": {},
   "source": [
    "### Clear() \n",
    "Removes all the elements from the list"
   ]
  },
  {
   "cell_type": "code",
   "execution_count": 7,
   "id": "d1da7e95",
   "metadata": {},
   "outputs": [
    {
     "name": "stdout",
     "output_type": "stream",
     "text": [
      "[1, 2, 3, 4, 5, 6, 7, 8, 9, 0]\n",
      "[]\n"
     ]
    }
   ],
   "source": [
    "nums = [1,2,3,4,5,6,7,8,9,0]\n",
    "print(nums)\n",
    "\n",
    "nums.clear()    #Returns an empty list\n",
    "print(nums)"
   ]
  },
  {
   "cell_type": "markdown",
   "id": "077bc0a1",
   "metadata": {},
   "source": [
    "### Copy()\n",
    "Returns a shallow copy of the list"
   ]
  },
  {
   "cell_type": "code",
   "execution_count": 10,
   "id": "fdcde507",
   "metadata": {},
   "outputs": [
    {
     "name": "stdout",
     "output_type": "stream",
     "text": [
      "[1, 2, 3, 4, 5, 6, 7, 8, 9, 0]\n"
     ]
    }
   ],
   "source": [
    "nums = [1,2,3,4,5,6,7,8,9,0]\n",
    "c = nums.copy()\n",
    "\n",
    "print(c)"
   ]
  },
  {
   "cell_type": "markdown",
   "id": "16de9a93",
   "metadata": {},
   "source": [
    "### Count()\n",
    "Returns the count of specified element in the list"
   ]
  },
  {
   "cell_type": "code",
   "execution_count": 15,
   "id": "7cf46eab",
   "metadata": {},
   "outputs": [
    {
     "data": {
      "text/plain": [
       "4"
      ]
     },
     "execution_count": 15,
     "metadata": {},
     "output_type": "execute_result"
    }
   ],
   "source": [
    "nums = [1,2,2,2,3,4,6,5,3,2,1,3,3,4]\n",
    "nums.count(2)"
   ]
  },
  {
   "cell_type": "code",
   "execution_count": 19,
   "id": "1ef62361",
   "metadata": {},
   "outputs": [
    {
     "data": {
      "text/plain": [
       "5"
      ]
     },
     "execution_count": 19,
     "metadata": {},
     "output_type": "execute_result"
    }
   ],
   "source": [
    "m = ['a','b','c','a','a','b','c','d','b','c','a','a','b']\n",
    "m.count('a')"
   ]
  },
  {
   "cell_type": "markdown",
   "id": "30072c5d",
   "metadata": {},
   "source": [
    "### Extend()\n",
    "Add the elements of a list to the end of the current list"
   ]
  },
  {
   "cell_type": "code",
   "execution_count": 34,
   "id": "d7182be7",
   "metadata": {},
   "outputs": [
    {
     "data": {
      "text/plain": [
       "[1, 2, 3, 4, 5, 6, 7, 8]"
      ]
     },
     "execution_count": 34,
     "metadata": {},
     "output_type": "execute_result"
    }
   ],
   "source": [
    "m = [1,2,3,4]\n",
    "n = [5,6,7,8]\n",
    "\n",
    "m.extend(n)\n",
    "m"
   ]
  },
  {
   "cell_type": "code",
   "execution_count": 35,
   "id": "7ea22bd7",
   "metadata": {},
   "outputs": [
    {
     "data": {
      "text/plain": [
       "['a', 'b', 'c', 'd', 'e', 'f']"
      ]
     },
     "execution_count": 35,
     "metadata": {},
     "output_type": "execute_result"
    }
   ],
   "source": [
    "m = ['a','b','c']\n",
    "n = ['d','e','f']\n",
    "\n",
    "m.extend(n)\n",
    "m"
   ]
  },
  {
   "cell_type": "markdown",
   "id": "d4ea816d",
   "metadata": {},
   "source": [
    "### Index()\n",
    "Returns the position of the first occurance of the specified value by default.\n",
    "Has two optional parameters : start, end positions <br>\n",
    "\n",
    "list.index('string', start, end)"
   ]
  },
  {
   "cell_type": "code",
   "execution_count": 45,
   "id": "c71fcba1",
   "metadata": {},
   "outputs": [
    {
     "data": {
      "text/plain": [
       "4"
      ]
     },
     "execution_count": 45,
     "metadata": {},
     "output_type": "execute_result"
    }
   ],
   "source": [
    "mag = ['a','c','a','a','b','c','d','b','c','a','a','b']\n",
    "mag.index('b')"
   ]
  },
  {
   "cell_type": "code",
   "execution_count": 48,
   "id": "ec4f9d65",
   "metadata": {},
   "outputs": [
    {
     "data": {
      "text/plain": [
       "2"
      ]
     },
     "execution_count": 48,
     "metadata": {},
     "output_type": "execute_result"
    }
   ],
   "source": [
    "nums = [6,5,3,3,5,7,7,4,2,45,6,7,7]\n",
    "nums.index(3)"
   ]
  },
  {
   "cell_type": "code",
   "execution_count": 121,
   "id": "1407e8f5",
   "metadata": {},
   "outputs": [
    {
     "data": {
      "text/plain": [
       "2"
      ]
     },
     "execution_count": 121,
     "metadata": {},
     "output_type": "execute_result"
    }
   ],
   "source": [
    "mag = ['a','c','a','a','b','c','d','b','c','a','a','b']\n",
    "mag.index('a',1,8)    \n",
    "#starts searching for 'a' from the 1st position not the 0th position because starting position to search for is given as 1"
   ]
  },
  {
   "cell_type": "markdown",
   "id": "3e6fbea5",
   "metadata": {},
   "source": [
    "### Insert()\n",
    "#### insert(*position, value*) <br>\n",
    "Adds an element at the specified position. Takes 2 parameters 'position' and 'value'. \n"
   ]
  },
  {
   "cell_type": "code",
   "execution_count": 50,
   "id": "f2b5cb54",
   "metadata": {},
   "outputs": [
    {
     "data": {
      "text/plain": [
       "['Abhi', 'a', 'b', 'c']"
      ]
     },
     "execution_count": 50,
     "metadata": {},
     "output_type": "execute_result"
    }
   ],
   "source": [
    "nac = ['a','b','c']\n",
    "nac.insert(0,'Abhi')    \n",
    "nac"
   ]
  },
  {
   "cell_type": "code",
   "execution_count": 51,
   "id": "312e3953",
   "metadata": {},
   "outputs": [
    {
     "data": {
      "text/plain": [
       "[1, 25, 2, 3]"
      ]
     },
     "execution_count": 51,
     "metadata": {},
     "output_type": "execute_result"
    }
   ],
   "source": [
    "nums = [1,2,3]\n",
    "nums.insert(1,25)\n",
    "nums"
   ]
  },
  {
   "cell_type": "markdown",
   "id": "3fe9e79f",
   "metadata": {},
   "source": [
    "### Pop()\n",
    "Removes an element at the specified position. By default, removes the last element in the list, if position is not specified. <br>\n",
    ".pop() method returns the removed value."
   ]
  },
  {
   "cell_type": "code",
   "execution_count": 52,
   "id": "349ab1d7",
   "metadata": {},
   "outputs": [
    {
     "data": {
      "text/plain": [
       "['b', 'c']"
      ]
     },
     "execution_count": 52,
     "metadata": {},
     "output_type": "execute_result"
    }
   ],
   "source": [
    "nac = ['a','b','c']\n",
    "nac.pop(0)\n",
    "nac"
   ]
  },
  {
   "cell_type": "code",
   "execution_count": 58,
   "id": "171449cc",
   "metadata": {},
   "outputs": [
    {
     "data": {
      "text/plain": [
       "['a', 'b']"
      ]
     },
     "execution_count": 58,
     "metadata": {},
     "output_type": "execute_result"
    }
   ],
   "source": [
    "nac = ['a','b','c']\n",
    "nac.pop()\n",
    "nac"
   ]
  },
  {
   "cell_type": "code",
   "execution_count": 60,
   "id": "35f22c17",
   "metadata": {},
   "outputs": [
    {
     "data": {
      "text/plain": [
       "'b'"
      ]
     },
     "execution_count": 60,
     "metadata": {},
     "output_type": "execute_result"
    }
   ],
   "source": [
    "nac = ['a','b','c']\n",
    "nac.pop(1)    #'b' is removed"
   ]
  },
  {
   "cell_type": "code",
   "execution_count": 61,
   "id": "80d35eb5",
   "metadata": {},
   "outputs": [
    {
     "data": {
      "text/plain": [
       "'c'"
      ]
     },
     "execution_count": 61,
     "metadata": {},
     "output_type": "execute_result"
    }
   ],
   "source": [
    "nac = ['a','b','c']\n",
    "nac.pop()    #'c' is removed"
   ]
  },
  {
   "cell_type": "markdown",
   "id": "8237785d",
   "metadata": {},
   "source": [
    "### Remove()\n",
    "Removes the first occurance of the specified element from the list"
   ]
  },
  {
   "cell_type": "code",
   "execution_count": 65,
   "id": "28b99ba2",
   "metadata": {},
   "outputs": [
    {
     "data": {
      "text/plain": [
       "['b', 'b', 'c', 'a', 'a']"
      ]
     },
     "execution_count": 65,
     "metadata": {},
     "output_type": "execute_result"
    }
   ],
   "source": [
    "mag = ['a','b','b','c','a','a']\n",
    "mag.remove('a')    #Removes only the first occurance of 'a'\n",
    "mag"
   ]
  },
  {
   "cell_type": "code",
   "execution_count": 68,
   "id": "fae1c578",
   "metadata": {},
   "outputs": [
    {
     "data": {
      "text/plain": [
       "['a', 'b', 'c', 'a', 'a']"
      ]
     },
     "execution_count": 68,
     "metadata": {},
     "output_type": "execute_result"
    }
   ],
   "source": [
    "mag = ['a','b','b','c','a','a']\n",
    "mag.remove('b')\n",
    "mag"
   ]
  },
  {
   "cell_type": "markdown",
   "id": "459dd516",
   "metadata": {},
   "source": [
    "### Reverse()\n",
    "Returns a list in the reversed order"
   ]
  },
  {
   "cell_type": "code",
   "execution_count": 72,
   "id": "3528704f",
   "metadata": {},
   "outputs": [
    {
     "data": {
      "text/plain": [
       "['c', 'b', 'a']"
      ]
     },
     "execution_count": 72,
     "metadata": {},
     "output_type": "execute_result"
    }
   ],
   "source": [
    "mag = ['a','b','c']\n",
    "mag.reverse()\n",
    "mag"
   ]
  },
  {
   "cell_type": "code",
   "execution_count": 78,
   "id": "afe011e4",
   "metadata": {},
   "outputs": [
    {
     "name": "stdout",
     "output_type": "stream",
     "text": [
      "c\n",
      "b\n",
      "a\n"
     ]
    },
    {
     "data": {
      "text/plain": [
       "['c', 'b', 'a']"
      ]
     },
     "execution_count": 78,
     "metadata": {},
     "output_type": "execute_result"
    }
   ],
   "source": [
    "#reversed() function returns a reversed iterator object\n",
    "\n",
    "z = []\n",
    "m = ['a','b','c']\n",
    "r = reversed(m)\n",
    "for x in r:\n",
    "    print(x)\n",
    "    z.append(x)\n",
    "    \n",
    "z    "
   ]
  },
  {
   "cell_type": "markdown",
   "id": "c09f7782",
   "metadata": {},
   "source": [
    "### Sort()\n",
    "Sorts the list. Takes two optional parameters 'reverse' and 'key' <br>\n",
    "list.sort(*reverse=True, key=myfunc*)\n",
    "\n",
    "*reverse = False* (For ascending order)(Default value)\n",
    "*reverse = True* (for descending order)\n",
    "\n",
    "myfunc = A function to specify sorting criteria"
   ]
  },
  {
   "cell_type": "code",
   "execution_count": 87,
   "id": "1ebadf07",
   "metadata": {},
   "outputs": [
    {
     "name": "stdout",
     "output_type": "stream",
     "text": [
      "['a', 'a', 'a', 'a', 'a', 'b', 'b', 'b', 'c', 'c', 'c', 'd']\n",
      "[0, 1, 2, 3, 4, 5, 6, 7, 8, 9]\n"
     ]
    }
   ],
   "source": [
    "mag = ['a','c','a','a','b','c','d','b','c','a','a','b']\n",
    "nums = [1,2,3,4,5,6,7,8,9,0]\n",
    "mag.sort()\n",
    "nums.sort()\n",
    "\n",
    "print(mag)\n",
    "print(nums)"
   ]
  },
  {
   "cell_type": "code",
   "execution_count": 86,
   "id": "2a4a0a23",
   "metadata": {},
   "outputs": [
    {
     "name": "stdout",
     "output_type": "stream",
     "text": [
      "['d', 'c', 'c', 'c', 'b', 'b', 'b', 'a', 'a', 'a', 'a', 'a']\n",
      "[9, 8, 7, 6, 5, 4, 3, 2, 1, 0]\n"
     ]
    }
   ],
   "source": [
    "mag = ['a','c','a','a','b','c','d','b','c','a','a','b']\n",
    "nums = [1,2,3,4,5,6,7,8,9,0]\n",
    "mag.sort(reverse = True)\n",
    "nums.sort(reverse = True)\n",
    "\n",
    "print(mag)\n",
    "print(nums)"
   ]
  },
  {
   "cell_type": "code",
   "execution_count": 92,
   "id": "e54a512a",
   "metadata": {},
   "outputs": [
    {
     "data": {
      "text/plain": [
       "['PNR', 'Abhi', 'Teja', 'Madhu', 'Vinod', 'Cherry', 'Niranjan']"
      ]
     },
     "execution_count": 92,
     "metadata": {},
     "output_type": "execute_result"
    }
   ],
   "source": [
    "#creating a function that returns the length of the names\n",
    "def name_length(x):\n",
    "    return len(x)\n",
    "\n",
    "names = ['Abhi','Cherry','Niranjan','Madhu','Vinod','Teja','PNR']\n",
    "names.sort(reverse = False, key = name_length)    #using the function out as the sorting criteria\n",
    "\n",
    "names"
   ]
  },
  {
   "cell_type": "code",
   "execution_count": 100,
   "id": "a90b9f69",
   "metadata": {},
   "outputs": [
    {
     "data": {
      "text/plain": [
       "[{'name': 'Madhu', 'rank': 7},\n",
       " {'name': 'Abhi', 'rank': 6},\n",
       " {'name': 'Chintu', 'rank': 5},\n",
       " {'name': 'Niranjan', 'rank': 4},\n",
       " {'name': 'Cherry', 'rank': 1}]"
      ]
     },
     "execution_count": 100,
     "metadata": {},
     "output_type": "execute_result"
    }
   ],
   "source": [
    "def rank(n):\n",
    "    return n['rank']\n",
    "\n",
    "data = [\n",
    "    {'name' : 'Niranjan', 'rank' : 4},\n",
    "    {'name' : 'Chintu', 'rank' : 5},\n",
    "    {'name' : 'Cherry', 'rank' : 1},\n",
    "    {'name' : 'Abhi', 'rank' : 6},\n",
    "    {'name' : 'Madhu', 'rank' : 7}\n",
    "]\n",
    "\n",
    "data.sort(reverse = True,key = rank)    #sorting data based on the output from the 'rank' function\n",
    "\n",
    "data"
   ]
  },
  {
   "cell_type": "markdown",
   "id": "cbce2a12",
   "metadata": {},
   "source": [
    "### del\n",
    "The del statement is used to delete the item from a specified index position.<br>\n",
    "The del statement can also be used to remove slices from a list or clear the entire list. del can also be used to delete entire variables."
   ]
  },
  {
   "cell_type": "code",
   "execution_count": 150,
   "id": "c7383071",
   "metadata": {},
   "outputs": [
    {
     "name": "stdout",
     "output_type": "stream",
     "text": [
      "First delete : ['Cherry', 'Niranjan', 'Madhu', 'Vinod', 'Teja', 'PNR']\n",
      "Second delete : ['Madhu', 'Vinod', 'Teja', 'PNR']\n"
     ]
    }
   ],
   "source": [
    "names = ['Abhi','Cherry','Niranjan','Madhu','Vinod','Teja','PNR']\n",
    "\n",
    "del names[0]    #deletes item at position 0\n",
    "print('First delete :', names)\n",
    "\n",
    "del names [0:2]    #deletes items starting from position 0 to 1 but not at position 2\n",
    "print('Second delete :', names)\n",
    "\n",
    "del names    #deletes the variable. Will get an error if you reference 'names' going further\n",
    "\n",
    "#  print(names)    #gives an error as 'names' is not defined because it is deleted"
   ]
  },
  {
   "cell_type": "markdown",
   "id": "37f65d1c",
   "metadata": {},
   "source": [
    "### Stack\n",
    "Stack works on the principle of “**Last-in, first-out**” (LIFO). To add an item to the top of the stack, use **append()**. To retrieve an item from the top of the stack, use **pop()** without an explicit index."
   ]
  },
  {
   "cell_type": "code",
   "execution_count": 133,
   "id": "561927da",
   "metadata": {},
   "outputs": [
    {
     "name": "stdout",
     "output_type": "stream",
     "text": [
      "First append : ['Abhi', 'Cherry', 'Niranjan', 'Chintu']\n",
      "Second append : ['Abhi', 'Cherry', 'Niranjan', 'Chintu', 'Madhu']\n",
      "First pop : ['Abhi', 'Cherry', 'Niranjan', 'Chintu']\n",
      "second pop : ['Abhi', 'Cherry', 'Niranjan']\n"
     ]
    }
   ],
   "source": [
    "stack = ['Abhi','Cherry','Niranjan']\n",
    "stack.append('Chintu')    #added at the end\n",
    "\n",
    "print('First append :', stack)\n",
    "\n",
    "stack.append('Madhu')    #added at the end\n",
    "print('Second append :', stack)\n",
    "\n",
    "stack.pop()    #removes the last added item i.e, 'Madhu'\n",
    "print('First pop :', stack)\n",
    "\n",
    "stack.pop()    #removes the second last added item i.e, 'Chintu'\n",
    "print('second pop :', stack)"
   ]
  },
  {
   "cell_type": "markdown",
   "id": "d63ee295",
   "metadata": {},
   "source": [
    "### Queue\n",
    "Queue works on the principle of “**First-in, first-out**” (FIFO). \n",
    "<br>To add an item to the end of the queue, use **append()**. To retrieve an item from the start of the queue, use **pop(0)**."
   ]
  },
  {
   "cell_type": "code",
   "execution_count": 136,
   "id": "d57a2189",
   "metadata": {},
   "outputs": [
    {
     "name": "stdout",
     "output_type": "stream",
     "text": [
      "First append : ['Abhi', 'Cherry', 'Niranjan', 'Chintu']\n",
      "second append : ['Abhi', 'Cherry', 'Niranjan', 'Chintu', 'Vinod']\n",
      "First pop : ['Cherry', 'Niranjan', 'Chintu', 'Vinod']\n",
      "Second pop : ['Niranjan', 'Chintu', 'Vinod']\n"
     ]
    }
   ],
   "source": [
    "queue = ['Abhi','Cherry','Niranjan']\n",
    "\n",
    "queue.append('Chintu')    #added at the end\n",
    "print('First append :', queue)\n",
    "\n",
    "queue.append('Vinod')    #added at the end\n",
    "print('second append :', queue)\n",
    "\n",
    "queue.pop(0)    #removes the item which is added first into queue i.e, 'Abhi'\n",
    "print('First pop :', queue)\n",
    "\n",
    "queue.pop(0)    #removes the next first item from the queue i.e, 'Cherry'\n",
    "print('Second pop :', queue)"
   ]
  },
  {
   "cell_type": "markdown",
   "id": "ddc1a425",
   "metadata": {},
   "source": [
    "### Queue - deque\n",
    "Lists are not efficient for this queue purpose. While appends and pops from the end of list are fast, doing inserts or pops from the beginning of a list is slow (because all of the other elements have to be shifted by one).<br>\n",
    "\n",
    "To implement a queue, use collections.deque which was designed to have fast appends and pops from both ends.\n",
    "\n",
    "deque uses **append()** to add an item at the end and **popleft()** to remove the first item. "
   ]
  },
  {
   "cell_type": "code",
   "execution_count": 142,
   "id": "0b1f9f86",
   "metadata": {
    "scrolled": true
   },
   "outputs": [
    {
     "name": "stdout",
     "output_type": "stream",
     "text": [
      "Initial queue : deque(['Abhi', 'Cherry', 'Niranjan'])\n",
      "First append : deque(['Abhi', 'Cherry', 'Niranjan', 'Vinod'])\n",
      "Second append : deque(['Abhi', 'Cherry', 'Niranjan', 'Vinod', 'Madhu'])\n",
      "First pop : deque(['Cherry', 'Niranjan', 'Vinod', 'Madhu'])\n",
      "Second pop : deque(['Niranjan', 'Vinod', 'Madhu'])\n"
     ]
    }
   ],
   "source": [
    "from collections import deque\n",
    "\n",
    "queue = deque(['Abhi','Cherry','Niranjan'])\n",
    "print('Initial queue :', queue)\n",
    "\n",
    "queue.append('Vinod')    #adds an item at the end\n",
    "print('First append :', queue)\n",
    "\n",
    "queue.append('Madhu')    #adds an item at the end\n",
    "print('Second append :', queue)\n",
    "\n",
    "queue.popleft()\n",
    "print('First pop :', queue)    #popleft removes the first item from the queue\n",
    "\n",
    "queue.popleft()    #removes the next first item from the queue\n",
    "print('Second pop :', queue)"
   ]
  },
  {
   "cell_type": "markdown",
   "id": "a8d41ffe",
   "metadata": {},
   "source": [
    "### List Comprehensions\n",
    "\n",
    "A **list comprehension** consists of brackets containing an expression followed by a **for clause, then zero or more for or if clauses**. <br>\n",
    "The result will be a new **list** resulting from evaluating the expression in the context of the for and if clauses.<br>\n",
    "<br>\n",
    "List comprehensions provide a concise way to create lists. <br>\n",
    "Common applications are to make new lists where each element is the result of some operations applied to each member of another sequence or iterable, or to create a subsequence of those elements that satisfy a certain condition.<br>\n",
    "\n",
    "<br>\n",
    "Create a list of squares\n",
    "\n"
   ]
  },
  {
   "cell_type": "code",
   "execution_count": 12,
   "id": "c7302621",
   "metadata": {},
   "outputs": [
    {
     "data": {
      "text/plain": [
       "[0, 1, 4, 9, 16, 25, 36, 49, 64, 81]"
      ]
     },
     "execution_count": 12,
     "metadata": {},
     "output_type": "execute_result"
    }
   ],
   "source": [
    "#Normal method\n",
    "\n",
    "squares = []\n",
    "for x in range(10):\n",
    "    squares.append(x**2)\n",
    "    \n",
    "squares    "
   ]
  },
  {
   "cell_type": "code",
   "execution_count": 9,
   "id": "212ce2f3",
   "metadata": {},
   "outputs": [
    {
     "data": {
      "text/plain": [
       "[0, 1, 4, 9, 16, 25, 36, 49, 64, 81]"
      ]
     },
     "execution_count": 9,
     "metadata": {},
     "output_type": "execute_result"
    }
   ],
   "source": [
    "#Using map \n",
    "\n",
    "s1 = list(map(lambda x:x**2, range(10)))\n",
    "s1"
   ]
  },
  {
   "cell_type": "code",
   "execution_count": 11,
   "id": "3f3d1f29",
   "metadata": {},
   "outputs": [
    {
     "data": {
      "text/plain": [
       "[0, 1, 4, 9, 16, 25, 36, 49, 64, 81]"
      ]
     },
     "execution_count": 11,
     "metadata": {},
     "output_type": "execute_result"
    }
   ],
   "source": [
    "#Using list comprehensions\n",
    "\n",
    "s2 = [x**2 for x in range(10)]\n",
    "s2"
   ]
  },
  {
   "cell_type": "markdown",
   "id": "3571fb44",
   "metadata": {},
   "source": [
    "#### Combine the elements of two lists if they are not equal"
   ]
  },
  {
   "cell_type": "code",
   "execution_count": 18,
   "id": "7036b84c",
   "metadata": {},
   "outputs": [
    {
     "data": {
      "text/plain": [
       "[(1, 2), (1, 3), (2, 1), (2, 3), (3, 1), (3, 2)]"
      ]
     },
     "execution_count": 18,
     "metadata": {},
     "output_type": "execute_result"
    }
   ],
   "source": [
    "#Using list Comprehension\n",
    "\n",
    "[(x,y) for x in [1,2,3] for y in [1,2,3] if x!=y]"
   ]
  },
  {
   "cell_type": "code",
   "execution_count": 24,
   "id": "4d1d0125",
   "metadata": {},
   "outputs": [
    {
     "data": {
      "text/plain": [
       "[(1, 2), (1, 3), (2, 1), (2, 3), (3, 1), (3, 2)]"
      ]
     },
     "execution_count": 24,
     "metadata": {},
     "output_type": "execute_result"
    }
   ],
   "source": [
    "# Normal method\n",
    "\n",
    "a = []\n",
    "for x in [1,2,3]:\n",
    "    for y in [1,2,3]:\n",
    "        if x!=y:\n",
    "            a.append((x,y))\n",
    "a           "
   ]
  },
  {
   "cell_type": "code",
   "execution_count": 25,
   "id": "bad39083",
   "metadata": {},
   "outputs": [
    {
     "data": {
      "text/plain": [
       "[2, -6, -4, 10, -8, -16, 12, -18]"
      ]
     },
     "execution_count": 25,
     "metadata": {},
     "output_type": "execute_result"
    }
   ],
   "source": [
    "# create a new list with the values doubled\n",
    "\n",
    "v = [1,-3,-2,5,-4,-8,6,-9]\n",
    "\n",
    "[x*2 for x in v]"
   ]
  },
  {
   "cell_type": "code",
   "execution_count": 26,
   "id": "63554686",
   "metadata": {},
   "outputs": [
    {
     "data": {
      "text/plain": [
       "[1, 5, 6]"
      ]
     },
     "execution_count": 26,
     "metadata": {},
     "output_type": "execute_result"
    }
   ],
   "source": [
    "# filter the list to exclude negative numbers\n",
    "\n",
    "[x for x in v if x>=0]"
   ]
  },
  {
   "cell_type": "code",
   "execution_count": 27,
   "id": "21847c64",
   "metadata": {},
   "outputs": [
    {
     "data": {
      "text/plain": [
       "[1, 3, 2, 5, 4, 8, 6, 9]"
      ]
     },
     "execution_count": 27,
     "metadata": {},
     "output_type": "execute_result"
    }
   ],
   "source": [
    "# apply a function to all the elements\n",
    "\n",
    "[abs(x) for x in v]"
   ]
  },
  {
   "cell_type": "code",
   "execution_count": 28,
   "id": "6f920cc1",
   "metadata": {},
   "outputs": [
    {
     "data": {
      "text/plain": [
       "['ABHI', 'NIRANJAN', 'CHINTU', 'CHERRY']"
      ]
     },
     "execution_count": 28,
     "metadata": {},
     "output_type": "execute_result"
    }
   ],
   "source": [
    "# call a method on each element\n",
    "n = ['abhi', 'niranjan', 'chintu', 'cherry']\n",
    "\n",
    "[x.upper() for x in n] "
   ]
  },
  {
   "cell_type": "code",
   "execution_count": 29,
   "id": "e70b6798",
   "metadata": {},
   "outputs": [
    {
     "data": {
      "text/plain": [
       "[(0, 0), (1, 1), (2, 4), (3, 9), (4, 16)]"
      ]
     },
     "execution_count": 29,
     "metadata": {},
     "output_type": "execute_result"
    }
   ],
   "source": [
    "# create a list of 2-tuples like (number, square)\n",
    "\n",
    "[(x,x**2) for x in range(5)]"
   ]
  },
  {
   "cell_type": "code",
   "execution_count": 30,
   "id": "86fe54b9",
   "metadata": {},
   "outputs": [
    {
     "data": {
      "text/plain": [
       "[4, 2, 3, 8, 4, 3, 9, 7, 3]"
      ]
     },
     "execution_count": 30,
     "metadata": {},
     "output_type": "execute_result"
    }
   ],
   "source": [
    "# flatten a list using a listcomp with two 'for'\n",
    "\n",
    "fl = [[4,2,3],[8,4,3],[9,7,3]]\n",
    "\n",
    "[x for y in fl for x in y]"
   ]
  },
  {
   "cell_type": "code",
   "execution_count": 33,
   "id": "0aabf2d6",
   "metadata": {},
   "outputs": [
    {
     "data": {
      "text/plain": [
       "[4, 2, 3, 8, 4, 3, 9, 7, 3]"
      ]
     },
     "execution_count": 33,
     "metadata": {},
     "output_type": "execute_result"
    }
   ],
   "source": [
    "#unpacking using normal method\n",
    "\n",
    "r = []\n",
    "for x in fl:\n",
    "    for y in x:\n",
    "        r.append(y)\n",
    "r        "
   ]
  },
  {
   "cell_type": "markdown",
   "id": "a9077bf8",
   "metadata": {},
   "source": [
    "#### Nested List Comprehensions\n",
    "\n",
    "\n",
    "Transpose the given matrix"
   ]
  },
  {
   "cell_type": "code",
   "execution_count": 38,
   "id": "56903cda",
   "metadata": {},
   "outputs": [
    {
     "data": {
      "text/plain": [
       "[[1, 5, 9], [2, 6, 10], [3, 7, 11], [4, 8, 12]]"
      ]
     },
     "execution_count": 38,
     "metadata": {},
     "output_type": "execute_result"
    }
   ],
   "source": [
    "matrix = [\n",
    "    [1, 2, 3, 4],\n",
    "    [5, 6, 7, 8],\n",
    "    [9, 10, 11, 12],\n",
    "]\n",
    "\n",
    "transposed = []\n",
    "\n",
    "for i in range(len(matrix[0])):\n",
    "    transposed_row = []\n",
    "    for x in matrix:\n",
    "        transposed_row.append(x[i])\n",
    "    transposed.append(transposed_row)\n",
    "transposed    \n",
    "        \n",
    "        "
   ]
  },
  {
   "cell_type": "code",
   "execution_count": 39,
   "id": "7105b456",
   "metadata": {},
   "outputs": [
    {
     "data": {
      "text/plain": [
       "[[1, 5, 9], [2, 6, 10], [3, 7, 11], [4, 8, 12]]"
      ]
     },
     "execution_count": 39,
     "metadata": {},
     "output_type": "execute_result"
    }
   ],
   "source": [
    "t1 = []\n",
    "for m in range(len(matrix[0])):\n",
    "    t1.append([x[m] for x in matrix])\n",
    "t1    "
   ]
  },
  {
   "cell_type": "code",
   "execution_count": 41,
   "id": "62f27888",
   "metadata": {},
   "outputs": [
    {
     "data": {
      "text/plain": [
       "[[1, 5, 9], [2, 6, 10], [3, 7, 11], [4, 8, 12]]"
      ]
     },
     "execution_count": 41,
     "metadata": {},
     "output_type": "execute_result"
    }
   ],
   "source": [
    "#using list comprehension\n",
    "\n",
    "[[x[i] for x in matrix] for i in range(len(matrix[0]))]"
   ]
  },
  {
   "cell_type": "markdown",
   "id": "f48fb0d9",
   "metadata": {},
   "source": [
    "## <font color = Orange> Tuple\n",
    "- Tuples are created using round brackets.\n",
    "- Tuples are used to store multiple items in a single variable.\n",
    "- ***Tuple items are ordered, unchangeable(immutable), and allow duplicate values.***\n",
    "- Tuple items are indexed, the first item has index [0], the second item has index [1] etc.  "
   ]
  },
  {
   "cell_type": "code",
   "execution_count": 2,
   "id": "faff1810",
   "metadata": {},
   "outputs": [
    {
     "data": {
      "text/plain": [
       "('abhi', 'cherry', 'chintu')"
      ]
     },
     "execution_count": 2,
     "metadata": {},
     "output_type": "execute_result"
    }
   ],
   "source": [
    "#Example of a tuple\n",
    "\n",
    "t = ('abhi', 'cherry', 'chintu')\n",
    "t"
   ]
  },
  {
   "cell_type": "code",
   "execution_count": 4,
   "id": "880b610f",
   "metadata": {},
   "outputs": [
    {
     "data": {
      "text/plain": [
       "(1, 2, 2, 'Niranjan')"
      ]
     },
     "execution_count": 4,
     "metadata": {},
     "output_type": "execute_result"
    }
   ],
   "source": [
    "# Tuples can also be created without round brackets\n",
    "\n",
    "t1 = 1,2,2,'Niranjan'\n",
    "t1"
   ]
  },
  {
   "cell_type": "code",
   "execution_count": 9,
   "id": "e437eaa2",
   "metadata": {},
   "outputs": [
    {
     "name": "stdout",
     "output_type": "stream",
     "text": [
      "(1,)\n",
      "abhi\n"
     ]
    }
   ],
   "source": [
    "# creating a tuple with one item\n",
    "# To create a tuple with one item, you have to add a comma after the item, otherwise Python will not recognize it as a tuple.\n",
    "\n",
    "t2 = (1,)    # Remember the comma\n",
    "print(t2)\n",
    "\n",
    "t3 = ('abhi')    # not a tuple\n",
    "print(t3)"
   ]
  },
  {
   "cell_type": "code",
   "execution_count": 12,
   "id": "1660d431",
   "metadata": {},
   "outputs": [
    {
     "name": "stdout",
     "output_type": "stream",
     "text": [
      "(1, 2, 3)\n",
      "('abhi', 'cherry', 'Niranjan')\n",
      "(True, False, True)\n",
      "(1, 2, 'abhi', True)\n"
     ]
    }
   ],
   "source": [
    "# Tuple supports string, int, boolean and mix data types\n",
    "\n",
    "t1 = (1,2,3)\n",
    "t2 = 'abhi', 'cherry', 'Niranjan'\n",
    "t3 = True, False, True\n",
    "t4 = (1,2,'abhi',True)\n",
    "\n",
    "print(t1)\n",
    "print(t2)\n",
    "print(t3)\n",
    "print(t4)"
   ]
  },
  {
   "cell_type": "code",
   "execution_count": 14,
   "id": "5c0c6436",
   "metadata": {},
   "outputs": [
    {
     "name": "stdout",
     "output_type": "stream",
     "text": [
      "<class 'tuple'>\n"
     ]
    }
   ],
   "source": [
    "# to know the type of object\n",
    "\n",
    "t = 1,2,3,4\n",
    "print(type(t))"
   ]
  },
  {
   "cell_type": "code",
   "execution_count": 15,
   "id": "5090032c",
   "metadata": {},
   "outputs": [
    {
     "data": {
      "text/plain": [
       "(1, 2, 3, 4)"
      ]
     },
     "execution_count": 15,
     "metadata": {},
     "output_type": "execute_result"
    }
   ],
   "source": [
    "# Tuples can be created by tuple constructor\n",
    "\n",
    "t = tuple((1,2,3,4))\n",
    "t"
   ]
  },
  {
   "cell_type": "code",
   "execution_count": 19,
   "id": "d68434d9",
   "metadata": {},
   "outputs": [
    {
     "name": "stdout",
     "output_type": "stream",
     "text": [
      "4\n"
     ]
    }
   ],
   "source": [
    "# To find the length of tuple, use len\n",
    "\n",
    "t = 3,2,1,4\n",
    "print(len(t))"
   ]
  },
  {
   "cell_type": "markdown",
   "id": "3bd1b12e",
   "metadata": {},
   "source": [
    "### Accessing Tuple items\n",
    "\n",
    "You can access tuple items by referring to the index number, inside square brackets."
   ]
  },
  {
   "cell_type": "code",
   "execution_count": 23,
   "id": "46530ad6",
   "metadata": {},
   "outputs": [
    {
     "data": {
      "text/plain": [
       "'niranjan'"
      ]
     },
     "execution_count": 23,
     "metadata": {},
     "output_type": "execute_result"
    }
   ],
   "source": [
    "t = 'abhi', 'niranjan', 'cherry', 'chintu', 'vinod', 'madhu', 'teja'\n",
    "t[1]    # The first item has index 0"
   ]
  },
  {
   "cell_type": "code",
   "execution_count": 24,
   "id": "cde38bc2",
   "metadata": {},
   "outputs": [
    {
     "data": {
      "text/plain": [
       "('niranjan', 'cherry', 'chintu')"
      ]
     },
     "execution_count": 24,
     "metadata": {},
     "output_type": "execute_result"
    }
   ],
   "source": [
    "# when accessing a range of items, a tuple will be returned\n",
    "\n",
    "t[1:4]    # from position 1 to 3 but not 4"
   ]
  },
  {
   "cell_type": "code",
   "execution_count": 25,
   "id": "05079ac1",
   "metadata": {},
   "outputs": [
    {
     "data": {
      "text/plain": [
       "('abhi', 'niranjan', 'cherry', 'chintu')"
      ]
     },
     "execution_count": 25,
     "metadata": {},
     "output_type": "execute_result"
    }
   ],
   "source": [
    "t[:4]    # from start to 3 but not 4"
   ]
  },
  {
   "cell_type": "code",
   "execution_count": 26,
   "id": "02f83641",
   "metadata": {},
   "outputs": [
    {
     "data": {
      "text/plain": [
       "('abhi', 'niranjan', 'cherry', 'chintu', 'vinod', 'madhu', 'teja')"
      ]
     },
     "execution_count": 26,
     "metadata": {},
     "output_type": "execute_result"
    }
   ],
   "source": [
    "t[:]    # from start to end "
   ]
  },
  {
   "cell_type": "code",
   "execution_count": 28,
   "id": "c6e1b2ed",
   "metadata": {},
   "outputs": [
    {
     "data": {
      "text/plain": [
       "('chintu', 'vinod', 'madhu')"
      ]
     },
     "execution_count": 28,
     "metadata": {},
     "output_type": "execute_result"
    }
   ],
   "source": [
    "t[-4:-1]    # from -4 to -2 but not -1"
   ]
  },
  {
   "cell_type": "markdown",
   "id": "cebd0fef",
   "metadata": {},
   "source": [
    "### Updating Tuple\n",
    "\n",
    "Tuples are **unchangeable**, meaning that you cannot change, add, or remove items once the tuple is created.\n",
    "But there are some workarounds.<br>\n",
    "You can convert the tuple into a list, change the list, and convert the list back into a tuple."
   ]
  },
  {
   "cell_type": "code",
   "execution_count": 37,
   "id": "6f4bc9f8",
   "metadata": {},
   "outputs": [
    {
     "data": {
      "text/plain": [
       "('niranjan', 'cherry', 'chintu', 'vinod', 'madhu', 'teja')"
      ]
     },
     "execution_count": 37,
     "metadata": {},
     "output_type": "execute_result"
    }
   ],
   "source": [
    "t = ('abhi', 'niranjan', 'cherry', 'chintu', 'vinod', 'madhu', 'teja')\n",
    "tl = list(t)\n",
    "tl.remove('abhi')    # Removing an item from tuple\n",
    "tt = tuple(tl)\n",
    "tt"
   ]
  },
  {
   "cell_type": "code",
   "execution_count": 38,
   "id": "998e226f",
   "metadata": {},
   "outputs": [
    {
     "data": {
      "text/plain": [
       "('abhi', 'niranjan', 'cherry', 'chintu', 'vinod', 'madhu', 'teja', 'Pinky')"
      ]
     },
     "execution_count": 38,
     "metadata": {},
     "output_type": "execute_result"
    }
   ],
   "source": [
    "t = ('abhi', 'niranjan', 'cherry', 'chintu', 'vinod', 'madhu', 'teja')\n",
    "tl = list(t)\n",
    "tl.append('Pinky')    # appending an item to tuple\n",
    "tt = tuple(tl)\n",
    "tt"
   ]
  },
  {
   "cell_type": "markdown",
   "id": "d0c138b6",
   "metadata": {},
   "source": [
    "### Unpacking Tuples\n"
   ]
  },
  {
   "cell_type": "code",
   "execution_count": 41,
   "id": "6a514d1b",
   "metadata": {},
   "outputs": [
    {
     "data": {
      "text/plain": [
       "('abhi', 'niranjan', 'cherry')"
      ]
     },
     "execution_count": 41,
     "metadata": {},
     "output_type": "execute_result"
    }
   ],
   "source": [
    "# When we create a tuple, we normally assign values to it. This is called \"packing\" a tuple\n",
    "\n",
    "names = ('abhi', 'niranjan', 'cherry')\n",
    "names"
   ]
  },
  {
   "cell_type": "markdown",
   "id": "4b6c9b7a",
   "metadata": {},
   "source": [
    "In Python, we are also allowed to extract the values back into variables. This is called \"**unpacking**\".<br>\n",
    "The number of variables must match the number of values in the tuple, if not, you must use an asterisk to collect the remaining values as a list.\n"
   ]
  },
  {
   "cell_type": "code",
   "execution_count": 45,
   "id": "e255d082",
   "metadata": {},
   "outputs": [
    {
     "data": {
      "text/plain": [
       "('abhi', 'cherry')"
      ]
     },
     "execution_count": 45,
     "metadata": {},
     "output_type": "execute_result"
    }
   ],
   "source": [
    "names = ('abhi', 'niranjan', 'cherry')\n",
    "a,b,c = names\n",
    "\n",
    "a,c"
   ]
  },
  {
   "cell_type": "code",
   "execution_count": 46,
   "id": "58c9eb69",
   "metadata": {},
   "outputs": [
    {
     "name": "stdout",
     "output_type": "stream",
     "text": [
      "abhi\n",
      "niranjan\n",
      "['cherry', 'chintu', 'vinod', 'madhu', 'teja']\n"
     ]
    }
   ],
   "source": [
    "names = ('abhi', 'niranjan', 'cherry', 'chintu', 'vinod', 'madhu', 'teja')\n",
    "a,b,*c = names\n",
    "print(a)\n",
    "print(b)\n",
    "print(c)"
   ]
  },
  {
   "cell_type": "code",
   "execution_count": 47,
   "id": "ae782f6f",
   "metadata": {},
   "outputs": [
    {
     "name": "stdout",
     "output_type": "stream",
     "text": [
      "abhi\n",
      "['niranjan', 'cherry', 'chintu', 'vinod', 'madhu']\n",
      "teja\n"
     ]
    }
   ],
   "source": [
    "names = ('abhi', 'niranjan', 'cherry', 'chintu', 'vinod', 'madhu', 'teja')\n",
    "a,*b,c = names\n",
    "print(a)\n",
    "print(b)\n",
    "print(c)"
   ]
  },
  {
   "cell_type": "markdown",
   "id": "62542a8e",
   "metadata": {},
   "source": [
    "### Looping through tuples"
   ]
  },
  {
   "cell_type": "code",
   "execution_count": 49,
   "id": "dc2d5ca5",
   "metadata": {},
   "outputs": [
    {
     "name": "stdout",
     "output_type": "stream",
     "text": [
      "abhi\n",
      "niranjan\n",
      "cherry\n",
      "chintu\n",
      "vinod\n",
      "madhu\n",
      "teja\n"
     ]
    }
   ],
   "source": [
    "names = ('abhi', 'niranjan', 'cherry', 'chintu', 'vinod', 'madhu', 'teja')\n",
    "\n",
    "for x in names:\n",
    "    print(x)"
   ]
  },
  {
   "cell_type": "code",
   "execution_count": 50,
   "id": "64b86681",
   "metadata": {},
   "outputs": [
    {
     "name": "stdout",
     "output_type": "stream",
     "text": [
      "abhi\n",
      "niranjan\n",
      "cherry\n",
      "chintu\n",
      "vinod\n",
      "madhu\n",
      "teja\n"
     ]
    }
   ],
   "source": [
    "names = ('abhi', 'niranjan', 'cherry', 'chintu', 'vinod', 'madhu', 'teja')\n",
    "\n",
    "for i in range(len(names)):\n",
    "    print(names[i])"
   ]
  },
  {
   "cell_type": "code",
   "execution_count": 1,
   "id": "25490b0e",
   "metadata": {},
   "outputs": [
    {
     "name": "stdout",
     "output_type": "stream",
     "text": [
      "abhi\n",
      "niranjan\n",
      "cherry\n",
      "chintu\n",
      "vinod\n",
      "madhu\n",
      "teja\n"
     ]
    }
   ],
   "source": [
    "names = ('abhi', 'niranjan', 'cherry', 'chintu', 'vinod', 'madhu', 'teja')\n",
    "\n",
    "i = 0\n",
    "while i<len(names):\n",
    "    print(names[i])\n",
    "    i+=1"
   ]
  },
  {
   "cell_type": "markdown",
   "id": "f46dfe84",
   "metadata": {},
   "source": [
    "### Join Tuples"
   ]
  },
  {
   "cell_type": "code",
   "execution_count": 3,
   "id": "a7183a06",
   "metadata": {},
   "outputs": [
    {
     "data": {
      "text/plain": [
       "('a', 'b', 'c', 'f', 'g', 'h')"
      ]
     },
     "execution_count": 3,
     "metadata": {},
     "output_type": "execute_result"
    }
   ],
   "source": [
    "t1 = 'a','b','c'\n",
    "t2 = 'f','g','h'\n",
    "t = t1+t2\n",
    "t"
   ]
  },
  {
   "cell_type": "code",
   "execution_count": 5,
   "id": "06510201",
   "metadata": {},
   "outputs": [
    {
     "data": {
      "text/plain": [
       "('a', 'b', 'c', 'a', 'b', 'c')"
      ]
     },
     "execution_count": 5,
     "metadata": {},
     "output_type": "execute_result"
    }
   ],
   "source": [
    "t1 = 'a','b','c'\n",
    "\n",
    "t = t1*2    # Multiply tuple with two to get the items twice\n",
    "t"
   ]
  },
  {
   "cell_type": "markdown",
   "id": "0301b2a5",
   "metadata": {},
   "source": [
    "### Tuple Methods"
   ]
  },
  {
   "cell_type": "markdown",
   "id": "da428361",
   "metadata": {},
   "source": [
    "### Count()\n",
    "The count() method returns the number of times a specified value appears in the tuple."
   ]
  },
  {
   "cell_type": "code",
   "execution_count": 6,
   "id": "5af6cb97",
   "metadata": {},
   "outputs": [
    {
     "data": {
      "text/plain": [
       "6"
      ]
     },
     "execution_count": 6,
     "metadata": {},
     "output_type": "execute_result"
    }
   ],
   "source": [
    "t = (1,2,3,4,3,23,2,2,3,4,4,3,2,4,4,3,2,2)\n",
    "t.count(2)"
   ]
  },
  {
   "cell_type": "markdown",
   "id": "017c351e",
   "metadata": {},
   "source": [
    "### Index()\n",
    "The index() method finds the first occurrence of the specified value.\n",
    "The index() method raises an exception if the value is not found."
   ]
  },
  {
   "cell_type": "code",
   "execution_count": 7,
   "id": "e68bb318",
   "metadata": {},
   "outputs": [
    {
     "data": {
      "text/plain": [
       "3"
      ]
     },
     "execution_count": 7,
     "metadata": {},
     "output_type": "execute_result"
    }
   ],
   "source": [
    "t = (1,2,3,4,3,23,2,2,3,4,4,3,2,4,4,3,2,2)\n",
    "t.index(4)"
   ]
  },
  {
   "cell_type": "markdown",
   "id": "a33f72f2",
   "metadata": {},
   "source": [
    "## <font color = Orange> Sets\n",
    "- Sets are written with curly brackets.\n",
    "- Sets are used to store multiple items in a single variable.\n",
    "- ***Set items are unordered, unchangeable, and do not allow duplicate values.***\n",
    "- Set items are **un-indexed** and hence you cannot be sure in which order the items will appear.\n",
    "- Set items are **unchangeable**, but you can remove items and add new items."
   ]
  },
  {
   "cell_type": "code",
   "execution_count": 1,
   "id": "d79fca96",
   "metadata": {},
   "outputs": [
    {
     "data": {
      "text/plain": [
       "{'abhi', 'cherry', 'niranjan'}"
      ]
     },
     "execution_count": 1,
     "metadata": {},
     "output_type": "execute_result"
    }
   ],
   "source": [
    "s = {'abhi', 'niranjan', 'cherry'}\n",
    "s"
   ]
  },
  {
   "cell_type": "markdown",
   "id": "4327c871",
   "metadata": {},
   "source": [
    "#### Set items can be of any data type"
   ]
  },
  {
   "cell_type": "code",
   "execution_count": 13,
   "id": "092a3526",
   "metadata": {},
   "outputs": [
    {
     "name": "stdout",
     "output_type": "stream",
     "text": [
      "{1, 2, 3, 4}\n",
      "{'chintu', 'cherry', 'niranjan', 'abhi'}\n",
      "{False, True}\n",
      "{1, 'abhi'}\n"
     ]
    }
   ],
   "source": [
    "s1 = {1,2,3,4}\n",
    "s2 = {'abhi','niranjan','cherry','chintu'}\n",
    "s3 = {True,False,False,True}\n",
    "s4 = {1,'abhi',True}\n",
    "\n",
    "print(s1)\n",
    "print(s2)\n",
    "print(s3)\n",
    "print(s4)"
   ]
  },
  {
   "cell_type": "code",
   "execution_count": 14,
   "id": "c12884d7",
   "metadata": {},
   "outputs": [
    {
     "name": "stdout",
     "output_type": "stream",
     "text": [
      "<class 'set'>\n"
     ]
    }
   ],
   "source": [
    "# Use type() to know the type of object\n",
    "\n",
    "s = {1,2,3,4}\n",
    "print(type(s))"
   ]
  },
  {
   "cell_type": "markdown",
   "id": "14556097",
   "metadata": {},
   "source": [
    "#### Sets can be also be created by using set() constructor"
   ]
  },
  {
   "cell_type": "code",
   "execution_count": 15,
   "id": "38714ef9",
   "metadata": {},
   "outputs": [
    {
     "data": {
      "text/plain": [
       "{1, 2, 3, 4}"
      ]
     },
     "execution_count": 15,
     "metadata": {},
     "output_type": "execute_result"
    }
   ],
   "source": [
    "s = set((1,2,3,4))\n",
    "s"
   ]
  },
  {
   "cell_type": "markdown",
   "id": "a362392b",
   "metadata": {},
   "source": [
    "#### Use len() to get the length of the set items"
   ]
  },
  {
   "cell_type": "code",
   "execution_count": 17,
   "id": "cdabd375",
   "metadata": {},
   "outputs": [
    {
     "name": "stdout",
     "output_type": "stream",
     "text": [
      "3\n"
     ]
    }
   ],
   "source": [
    "s = {'abhi', 'niranjan', 'cherry', 'abhi', 'niranjan'}  \n",
    "print(len(s))    #Gives the length of distinct items "
   ]
  },
  {
   "cell_type": "markdown",
   "id": "80e97a38",
   "metadata": {},
   "source": [
    "#### Sets do not allow duplicates"
   ]
  },
  {
   "cell_type": "code",
   "execution_count": 3,
   "id": "819769ce",
   "metadata": {},
   "outputs": [
    {
     "data": {
      "text/plain": [
       "{'abhi', 'cherry', 'niranjan'}"
      ]
     },
     "execution_count": 3,
     "metadata": {},
     "output_type": "execute_result"
    }
   ],
   "source": [
    "# Each item in theset appears only once\n",
    "\n",
    "s = {'abhi', 'niranjan', 'cherry', 'abhi', 'niranjan'}  \n",
    "s    "
   ]
  },
  {
   "cell_type": "markdown",
   "id": "0f75ec9d",
   "metadata": {},
   "source": [
    "#### In sets 1 and True are considered same\n"
   ]
  },
  {
   "cell_type": "code",
   "execution_count": 12,
   "id": "b54eec25",
   "metadata": {},
   "outputs": [
    {
     "data": {
      "text/plain": [
       "{1, 2, 3, False, 'abhi', 'niranjan'}"
      ]
     },
     "execution_count": 12,
     "metadata": {},
     "output_type": "execute_result"
    }
   ],
   "source": [
    "s = {'abhi', 'niranjan', 1,2,3,True, False}\n",
    "s    # Either 1 or True will be printed"
   ]
  },
  {
   "cell_type": "markdown",
   "id": "91a93567",
   "metadata": {},
   "source": [
    "### Accessing set items\n",
    "\n",
    "Since sets are unindexed, you cannot access items in a set by referring to an index or a key.<br>\n",
    "But you can loop through the set items using a for loop, or ask if a specified value is present in a set, by using the **in** keyword."
   ]
  },
  {
   "cell_type": "code",
   "execution_count": 18,
   "id": "d7e025cf",
   "metadata": {},
   "outputs": [
    {
     "name": "stdout",
     "output_type": "stream",
     "text": [
      "False\n",
      "1\n",
      "2\n",
      "3\n",
      "niranjan\n",
      "abhi\n"
     ]
    }
   ],
   "source": [
    "s = {'abhi', 'niranjan', 1,2,3,True, False}\n",
    "for x in s:\n",
    "    print(x)"
   ]
  },
  {
   "cell_type": "code",
   "execution_count": 20,
   "id": "fddac095",
   "metadata": {},
   "outputs": [
    {
     "name": "stdout",
     "output_type": "stream",
     "text": [
      "True\n"
     ]
    }
   ],
   "source": [
    "s = {'abhi', 'niranjan', 1,2,3,True, False}\n",
    "\n",
    "print('abhi' in s)    # checking if an item is present in the set"
   ]
  },
  {
   "cell_type": "markdown",
   "id": "d66b9a18",
   "metadata": {},
   "source": [
    "### Adding items to sets\n",
    "\n",
    "Once a set is created, you cannot change its items, but you can add new items.\n",
    "\n",
    "To add one item to a set use the **add()** method.<BR>\n",
    "To add all the items from a set or list or tuple or dictionary use **update()**"
   ]
  },
  {
   "cell_type": "code",
   "execution_count": 21,
   "id": "babb6020",
   "metadata": {},
   "outputs": [
    {
     "data": {
      "text/plain": [
       "{'Cherry', 'abhi', 'niranjan'}"
      ]
     },
     "execution_count": 21,
     "metadata": {},
     "output_type": "execute_result"
    }
   ],
   "source": [
    "s = {'abhi', 'niranjan'}\n",
    "s.add('Cherry')\n",
    "s"
   ]
  },
  {
   "cell_type": "code",
   "execution_count": 26,
   "id": "d6aaa1d7",
   "metadata": {},
   "outputs": [
    {
     "name": "stdout",
     "output_type": "stream",
     "text": [
      "Before the change : {'niranjan', 'abhi'}\n",
      "After the change : {'chintu', 'cherry', 'niranjan', 'abhi'}\n"
     ]
    }
   ],
   "source": [
    "s1 = {'abhi', 'niranjan'}\n",
    "s2 = {'cherry', 'chintu'}\n",
    "\n",
    "print('Before the change :',s1)\n",
    "\n",
    "s1.update(s2)\n",
    "\n",
    "print('After the change :',s1)"
   ]
  },
  {
   "cell_type": "code",
   "execution_count": 29,
   "id": "bae8c60d",
   "metadata": {
    "scrolled": true
   },
   "outputs": [
    {
     "name": "stdout",
     "output_type": "stream",
     "text": [
      "s combined with l : {1, 2, 3, 4, 'niranjan', 'abhi'}\n",
      "s combined with l and t : {1, 2, 3, 4, 'b2', 'niranjan', 'a1', 'abhi'}\n"
     ]
    }
   ],
   "source": [
    "s = {'abhi','niranjan'}\n",
    "l = [1,2,3,4]\n",
    "t = ('a1','b2')\n",
    "\n",
    "s.update(l)\n",
    "print('s combined with l :', s)\n",
    "\n",
    "s.update(t)\n",
    "print('s combined with l and t :', s)"
   ]
  },
  {
   "cell_type": "markdown",
   "id": "553f1055",
   "metadata": {},
   "source": [
    "#### Removing items from sets\n",
    "\n",
    "To remove an item in a set, use the **remove()**, or the **discard()** method.<BR>\n",
    "If the item to remove does not exist, remove() will raise an error, discard() will NOT raise an error."
   ]
  },
  {
   "cell_type": "code",
   "execution_count": 30,
   "id": "fbc268b2",
   "metadata": {},
   "outputs": [
    {
     "data": {
      "text/plain": [
       "{'abhi', 'cherry', 'niranjan'}"
      ]
     },
     "execution_count": 30,
     "metadata": {},
     "output_type": "execute_result"
    }
   ],
   "source": [
    "s = {'abhi', 'niranjan', 'cherry', 'chintu'}\n",
    "s.remove('chintu')\n",
    "s"
   ]
  },
  {
   "cell_type": "code",
   "execution_count": 31,
   "id": "8485e921",
   "metadata": {},
   "outputs": [
    {
     "data": {
      "text/plain": [
       "{'cherry', 'chintu', 'niranjan'}"
      ]
     },
     "execution_count": 31,
     "metadata": {},
     "output_type": "execute_result"
    }
   ],
   "source": [
    "s = {'abhi', 'niranjan', 'cherry', 'chintu'}\n",
    "s.discard('abhi')\n",
    "s"
   ]
  },
  {
   "cell_type": "code",
   "execution_count": 34,
   "id": "85f94f62",
   "metadata": {},
   "outputs": [
    {
     "ename": "KeyError",
     "evalue": "'abc'",
     "output_type": "error",
     "traceback": [
      "\u001b[1;31m---------------------------------------------------------------------------\u001b[0m",
      "\u001b[1;31mKeyError\u001b[0m                                  Traceback (most recent call last)",
      "Cell \u001b[1;32mIn[34], line 2\u001b[0m\n\u001b[0;32m      1\u001b[0m s \u001b[38;5;241m=\u001b[39m {\u001b[38;5;124m'\u001b[39m\u001b[38;5;124mabhi\u001b[39m\u001b[38;5;124m'\u001b[39m, \u001b[38;5;124m'\u001b[39m\u001b[38;5;124mniranjan\u001b[39m\u001b[38;5;124m'\u001b[39m, \u001b[38;5;124m'\u001b[39m\u001b[38;5;124mcherry\u001b[39m\u001b[38;5;124m'\u001b[39m, \u001b[38;5;124m'\u001b[39m\u001b[38;5;124mchintu\u001b[39m\u001b[38;5;124m'\u001b[39m}\n\u001b[1;32m----> 2\u001b[0m s\u001b[38;5;241m.\u001b[39mremove(\u001b[38;5;124m'\u001b[39m\u001b[38;5;124mabc\u001b[39m\u001b[38;5;124m'\u001b[39m)    \u001b[38;5;66;03m# gives out an error\u001b[39;00m\n\u001b[0;32m      3\u001b[0m s\n",
      "\u001b[1;31mKeyError\u001b[0m: 'abc'"
     ]
    }
   ],
   "source": [
    "s = {'abhi', 'niranjan', 'cherry', 'chintu'}\n",
    "s.remove('abc')    # gives out an error\n",
    "s"
   ]
  },
  {
   "cell_type": "code",
   "execution_count": 35,
   "id": "c9920764",
   "metadata": {},
   "outputs": [
    {
     "data": {
      "text/plain": [
       "{'abhi', 'cherry', 'chintu', 'niranjan'}"
      ]
     },
     "execution_count": 35,
     "metadata": {},
     "output_type": "execute_result"
    }
   ],
   "source": [
    "s = {'abhi', 'niranjan', 'cherry', 'chintu'}\n",
    "s.discard('abc')    #though 'abc' is not in the set, discard will not give an error\n",
    "s"
   ]
  },
  {
   "cell_type": "markdown",
   "id": "da5570d1",
   "metadata": {},
   "source": [
    "### pop()\n",
    "Sets are unordered, so when using the **pop()** method, you do not know which item that gets removed.<BR>\n",
    "The return value of the **pop()** method is the removed item."
   ]
  },
  {
   "cell_type": "code",
   "execution_count": 45,
   "id": "3a98d5cc",
   "metadata": {},
   "outputs": [
    {
     "name": "stdout",
     "output_type": "stream",
     "text": [
      "{'cherry', 'niranjan', 'abhi'}\n",
      "chintu\n"
     ]
    }
   ],
   "source": [
    "s = {'abhi', 'niranjan', 'cherry', 'chintu'}\n",
    "x = s.pop()\n",
    "\n",
    "print(s)\n",
    "print(x)"
   ]
  },
  {
   "cell_type": "markdown",
   "id": "6d693332",
   "metadata": {},
   "source": [
    "### Clear()\n",
    "CLear() empties the set."
   ]
  },
  {
   "cell_type": "code",
   "execution_count": 46,
   "id": "51df52bd",
   "metadata": {},
   "outputs": [
    {
     "data": {
      "text/plain": [
       "set()"
      ]
     },
     "execution_count": 46,
     "metadata": {},
     "output_type": "execute_result"
    }
   ],
   "source": [
    "s = {'abhi', 'niranjan', 'cherry', 'chintu'}\n",
    "s.clear()\n",
    "s"
   ]
  },
  {
   "cell_type": "markdown",
   "id": "58f739a3",
   "metadata": {},
   "source": [
    "### Del()\n",
    "del() keyword deletes the entire set permanently."
   ]
  },
  {
   "cell_type": "code",
   "execution_count": 50,
   "id": "af12f678",
   "metadata": {
    "scrolled": true
   },
   "outputs": [
    {
     "ename": "NameError",
     "evalue": "name 's' is not defined",
     "output_type": "error",
     "traceback": [
      "\u001b[1;31m---------------------------------------------------------------------------\u001b[0m",
      "\u001b[1;31mNameError\u001b[0m                                 Traceback (most recent call last)",
      "Cell \u001b[1;32mIn[50], line 4\u001b[0m\n\u001b[0;32m      1\u001b[0m s \u001b[38;5;241m=\u001b[39m {\u001b[38;5;124m'\u001b[39m\u001b[38;5;124mabhi\u001b[39m\u001b[38;5;124m'\u001b[39m, \u001b[38;5;124m'\u001b[39m\u001b[38;5;124mniranjan\u001b[39m\u001b[38;5;124m'\u001b[39m, \u001b[38;5;124m'\u001b[39m\u001b[38;5;124mcherry\u001b[39m\u001b[38;5;124m'\u001b[39m, \u001b[38;5;124m'\u001b[39m\u001b[38;5;124mchintu\u001b[39m\u001b[38;5;124m'\u001b[39m}\n\u001b[0;32m      2\u001b[0m \u001b[38;5;28;01mdel\u001b[39;00m s\n\u001b[1;32m----> 4\u001b[0m \u001b[38;5;28mprint\u001b[39m(s)\n",
      "\u001b[1;31mNameError\u001b[0m: name 's' is not defined"
     ]
    }
   ],
   "source": [
    "s = {'abhi', 'niranjan', 'cherry', 'chintu'}\n",
    "del s\n",
    "\n",
    "print(s)    # Gives a definition error as s is deleted "
   ]
  },
  {
   "cell_type": "markdown",
   "id": "dcae322b",
   "metadata": {},
   "source": [
    "### Joining Sets\n",
    "There are several ways to join two or more sets in Python. Both **union()** and **update()** will exclude any duplicate items."
   ]
  },
  {
   "cell_type": "markdown",
   "id": "2fbe069f",
   "metadata": {},
   "source": [
    "### Union()\n",
    "The union() method returns a new set with all items from both sets."
   ]
  },
  {
   "cell_type": "code",
   "execution_count": 56,
   "id": "e5ddc505",
   "metadata": {},
   "outputs": [
    {
     "data": {
      "text/plain": [
       "{1, 2, 3, 'abhi', 'chintu', 'niranjan'}"
      ]
     },
     "execution_count": 56,
     "metadata": {},
     "output_type": "execute_result"
    }
   ],
   "source": [
    "s1 = {1,2,3}\n",
    "s2 = {'abhi','niranjan','chintu'}\n",
    "\n",
    "s3 = s1.union(s2)\n",
    "\n",
    "s3"
   ]
  },
  {
   "cell_type": "markdown",
   "id": "eaf84a38",
   "metadata": {},
   "source": [
    "### Update()\n",
    "The update() method inserts the items in set2 into set1."
   ]
  },
  {
   "cell_type": "code",
   "execution_count": 57,
   "id": "4bb2bef7",
   "metadata": {},
   "outputs": [
    {
     "data": {
      "text/plain": [
       "{1, 2, 3, 'abhi', 'chintu', 'niranjan'}"
      ]
     },
     "execution_count": 57,
     "metadata": {},
     "output_type": "execute_result"
    }
   ],
   "source": [
    "s1 = {1,2,3}\n",
    "s2 = {'abhi','niranjan','chintu'}\n",
    "\n",
    "s1.update(s2)\n",
    "s1"
   ]
  },
  {
   "cell_type": "markdown",
   "id": "3b642e6a",
   "metadata": {},
   "source": [
    "### Intersection()  / Intersection_update()\n",
    "\n",
    "The **intersection()** method will return a new set, that only contains the items that are present in both sets. (elements that are common)\n",
    "\n",
    "The **intersection_update()** method will keep only the items that are present in both sets. (elements that are common)\n"
   ]
  },
  {
   "cell_type": "code",
   "execution_count": 61,
   "id": "3067bf5f",
   "metadata": {},
   "outputs": [
    {
     "data": {
      "text/plain": [
       "{'c', 'd'}"
      ]
     },
     "execution_count": 61,
     "metadata": {},
     "output_type": "execute_result"
    }
   ],
   "source": [
    "s1 = {'a','b','c','d'}\n",
    "s2 = {'c','d','d','w','f'}\n",
    "\n",
    "s3 = s1.intersection(s2)    # creates a new set\n",
    "s3"
   ]
  },
  {
   "cell_type": "code",
   "execution_count": 62,
   "id": "805c16c2",
   "metadata": {},
   "outputs": [
    {
     "data": {
      "text/plain": [
       "{'c', 'd'}"
      ]
     },
     "execution_count": 62,
     "metadata": {},
     "output_type": "execute_result"
    }
   ],
   "source": [
    "s1 = {'a','b','c','d'}\n",
    "s2 = {'c','d','d','w','f'}\n",
    "\n",
    "s1.intersection_update(s2)    # Updates the existing s1 set\n",
    "s1"
   ]
  },
  {
   "cell_type": "markdown",
   "id": "9d3d821a",
   "metadata": {},
   "source": [
    "### Symmetric_difference() / Symmetric_difference_update()\n",
    "\n",
    "The **symmetric_difference()** method will return a new set, that contains only the elements that are NOT present in both sets.(elements that are not common)\n",
    "\n",
    "The **symmetric_difference_update()** method will keep only the elements that are NOT present in both sets. (elements that are not common)"
   ]
  },
  {
   "cell_type": "code",
   "execution_count": 63,
   "id": "798d3aa2",
   "metadata": {},
   "outputs": [
    {
     "data": {
      "text/plain": [
       "{'a', 'b', 'f', 'w'}"
      ]
     },
     "execution_count": 63,
     "metadata": {},
     "output_type": "execute_result"
    }
   ],
   "source": [
    "s1 = {'a','b','c','d'}\n",
    "s2 = {'c','d','d','w','f'}\n",
    "\n",
    "s3 = s1.symmetric_difference(s2)    # Creates a new set with elements that are not same from both sets\n",
    "s3"
   ]
  },
  {
   "cell_type": "code",
   "execution_count": 64,
   "id": "e0cff1cf",
   "metadata": {},
   "outputs": [
    {
     "data": {
      "text/plain": [
       "{'a', 'b', 'f', 'w'}"
      ]
     },
     "execution_count": 64,
     "metadata": {},
     "output_type": "execute_result"
    }
   ],
   "source": [
    "s1 = {'a','b','c','d'}\n",
    "s2 = {'c','d','d','w','f'}\n",
    "\n",
    "s1.symmetric_difference_update(s2)    # updates s1 with elements that are not same from both sets.\n",
    "s1"
   ]
  },
  {
   "cell_type": "markdown",
   "id": "fe504ff1",
   "metadata": {},
   "source": [
    "### Set Methods\n",
    "\n",
    "### Add()\n",
    "Adds an element to the set."
   ]
  },
  {
   "cell_type": "code",
   "execution_count": 65,
   "id": "2074248e",
   "metadata": {},
   "outputs": [
    {
     "data": {
      "text/plain": [
       "{1, 2, 3, 5}"
      ]
     },
     "execution_count": 65,
     "metadata": {},
     "output_type": "execute_result"
    }
   ],
   "source": [
    "s = {1,2,3}\n",
    "s.add(5)\n",
    "s"
   ]
  },
  {
   "cell_type": "markdown",
   "id": "93c9db60",
   "metadata": {},
   "source": [
    "### Clear()\n",
    "Removes all the elements from the list."
   ]
  },
  {
   "cell_type": "code",
   "execution_count": 67,
   "id": "126f1b14",
   "metadata": {},
   "outputs": [
    {
     "data": {
      "text/plain": [
       "set()"
      ]
     },
     "execution_count": 67,
     "metadata": {},
     "output_type": "execute_result"
    }
   ],
   "source": [
    "s = {1,2,3,4,5,6,5}\n",
    "s.clear()\n",
    "s    # Returns an empty set"
   ]
  },
  {
   "cell_type": "markdown",
   "id": "196a2bc8",
   "metadata": {},
   "source": [
    "### Copy()\n",
    "\n",
    "Copy() method copies a set."
   ]
  },
  {
   "cell_type": "code",
   "execution_count": 69,
   "id": "fbb29336",
   "metadata": {},
   "outputs": [
    {
     "data": {
      "text/plain": [
       "{1, 2, 3, 4}"
      ]
     },
     "execution_count": 69,
     "metadata": {},
     "output_type": "execute_result"
    }
   ],
   "source": [
    "s1 = {1,2,3,4}\n",
    "s2 = s1.copy()    # Copies all elements from s1 to s2\n",
    "s2"
   ]
  },
  {
   "cell_type": "markdown",
   "id": "60bc5651",
   "metadata": {},
   "source": [
    "### Difference()\n",
    "\n",
    "The **difference()** method returns a set that contains the difference between two sets.\n",
    "<BR>The returned set contains items that exist only in the first set, and not in both sets."
   ]
  },
  {
   "cell_type": "code",
   "execution_count": 71,
   "id": "aeb39c2e",
   "metadata": {},
   "outputs": [
    {
     "data": {
      "text/plain": [
       "{'a', 'b'}"
      ]
     },
     "execution_count": 71,
     "metadata": {},
     "output_type": "execute_result"
    }
   ],
   "source": [
    "s1 = {'a','b','c','d'}\n",
    "s2 = {'c','d','d','w','f'}\n",
    "\n",
    "s3 = s1.difference(s2)\n",
    "s3"
   ]
  },
  {
   "cell_type": "markdown",
   "id": "cee58fc9",
   "metadata": {},
   "source": [
    "### Difference_update()\n",
    "This method updates the first set byremoving any common elements that are present in both the sets.\n",
    "\n",
    "The **difference_update()** method is different from the **difference()** method, because the **difference()** method returns a new set, without the unwanted items, and the **difference_update()** method removes the unwanted items from the original set."
   ]
  },
  {
   "cell_type": "code",
   "execution_count": 105,
   "id": "fbe15526",
   "metadata": {},
   "outputs": [
    {
     "data": {
      "text/plain": [
       "{'a', 'b'}"
      ]
     },
     "execution_count": 105,
     "metadata": {},
     "output_type": "execute_result"
    }
   ],
   "source": [
    "s1 = {'a','b','c','d'}\n",
    "s2 = {'c','d','d','w','f'}\n",
    "\n",
    "s1.difference_update(s2)    # updates s1 by removing common elements\n",
    "s1"
   ]
  },
  {
   "cell_type": "markdown",
   "id": "156d717c",
   "metadata": {},
   "source": [
    "### Discard()\n",
    "\n",
    "The **discard()** method removes the specified item from the set.\n",
    "\n",
    "This method is different from the **remove()** method, because the **remove()** method will raise an error if the specified item does not exist, and the **discard()** method will not."
   ]
  },
  {
   "cell_type": "code",
   "execution_count": 74,
   "id": "d4565ea3",
   "metadata": {},
   "outputs": [
    {
     "data": {
      "text/plain": [
       "{1, 2, 3, 4}"
      ]
     },
     "execution_count": 74,
     "metadata": {},
     "output_type": "execute_result"
    }
   ],
   "source": [
    "s = {1,2,3,4,5}\n",
    "s.discard(5)\n",
    "s"
   ]
  },
  {
   "cell_type": "code",
   "execution_count": 76,
   "id": "13656a00",
   "metadata": {},
   "outputs": [
    {
     "data": {
      "text/plain": [
       "{1, 2, 3, 4}"
      ]
     },
     "execution_count": 76,
     "metadata": {},
     "output_type": "execute_result"
    }
   ],
   "source": [
    "s = {1,2,3,4}\n",
    "s.discard(10)    # will not give an error even if 10 is not in the set\n",
    "s"
   ]
  },
  {
   "cell_type": "markdown",
   "id": "62edb233",
   "metadata": {},
   "source": [
    "### Intersection()\n",
    "Returns a set that has common elements from both the sets."
   ]
  },
  {
   "cell_type": "code",
   "execution_count": 79,
   "id": "cb3bcfe1",
   "metadata": {},
   "outputs": [
    {
     "data": {
      "text/plain": [
       "{'c', 'd'}"
      ]
     },
     "execution_count": 79,
     "metadata": {},
     "output_type": "execute_result"
    }
   ],
   "source": [
    "s1 = {'a','b','c','d'}\n",
    "s2 = {'c','d','d','w','f'}\n",
    "\n",
    "s3 = s1.intersection(s2)    # creates a new set s3 having only the common elements from both the sets.\n",
    "s3"
   ]
  },
  {
   "cell_type": "markdown",
   "id": "0074174d",
   "metadata": {},
   "source": [
    "### Intersection_update()\n",
    "Updates the first set by only keeping the common elements from both the sets."
   ]
  },
  {
   "cell_type": "code",
   "execution_count": 81,
   "id": "b0975702",
   "metadata": {},
   "outputs": [
    {
     "data": {
      "text/plain": [
       "{'c', 'd'}"
      ]
     },
     "execution_count": 81,
     "metadata": {},
     "output_type": "execute_result"
    }
   ],
   "source": [
    "s1 = {'a','b','c','d'}\n",
    "s2 = {'c','d','d','w','f'}\n",
    "\n",
    "s1.intersection_update(s2)    # updates s1 with only the common elements form both the sets.\n",
    "s1"
   ]
  },
  {
   "cell_type": "markdown",
   "id": "5c138a2d",
   "metadata": {},
   "source": [
    "### isdisjoint()\n",
    "The **isdisjoint()** method returns True if none of the items are present in both sets, otherwise it returns False."
   ]
  },
  {
   "cell_type": "code",
   "execution_count": 85,
   "id": "4972e3ee",
   "metadata": {},
   "outputs": [
    {
     "data": {
      "text/plain": [
       "False"
      ]
     },
     "execution_count": 85,
     "metadata": {},
     "output_type": "execute_result"
    }
   ],
   "source": [
    "s1 = {'a','b','c','d'}\n",
    "s2 = {'c','d','d','w','f'}\n",
    "x = s1.isdisjoint(s2)    # Returns False as there are common elements in both the sets.\n",
    "x"
   ]
  },
  {
   "cell_type": "code",
   "execution_count": 84,
   "id": "66e0c902",
   "metadata": {},
   "outputs": [
    {
     "data": {
      "text/plain": [
       "True"
      ]
     },
     "execution_count": 84,
     "metadata": {},
     "output_type": "execute_result"
    }
   ],
   "source": [
    "s1 = {1,2,3}\n",
    "s2 = {4,5,6}\n",
    "x = s1.isdisjoint(s2)    # Returns True as there are no common elements in both the sets.\n",
    "x"
   ]
  },
  {
   "cell_type": "markdown",
   "id": "65eec360",
   "metadata": {},
   "source": [
    "### issubset()\n",
    "The **issubset()** method returns True if all items in the set exists in the specified set, otherwise it returns False.<BR>\n",
    "It checks if the first set is a subset of second set or not.\n"
   ]
  },
  {
   "cell_type": "code",
   "execution_count": 87,
   "id": "174bd666",
   "metadata": {},
   "outputs": [
    {
     "data": {
      "text/plain": [
       "True"
      ]
     },
     "execution_count": 87,
     "metadata": {},
     "output_type": "execute_result"
    }
   ],
   "source": [
    "s1 = {1,2,3}\n",
    "s2 = {5,4,3,2,1,6}\n",
    "s1.issubset(s2)    # Returns True as a1 is a subset of s2 i.e, all the elements from s1 are present in s2."
   ]
  },
  {
   "cell_type": "code",
   "execution_count": 89,
   "id": "5ea0d3ce",
   "metadata": {},
   "outputs": [
    {
     "data": {
      "text/plain": [
       "False"
      ]
     },
     "execution_count": 89,
     "metadata": {},
     "output_type": "execute_result"
    }
   ],
   "source": [
    "s1 = {1,2,3,9}\n",
    "s2 = {5,4,3,2,1,6}\n",
    "s1.issubset(s2)    # Returns False as al the elements from s1 are not in s2"
   ]
  },
  {
   "cell_type": "markdown",
   "id": "0c31c27e",
   "metadata": {},
   "source": [
    "### issuperset()\n",
    "The **issuperset()** method checks if the first set is a super set of second set or not i.e, whether the first set contains all the elements present in the second set."
   ]
  },
  {
   "cell_type": "code",
   "execution_count": 91,
   "id": "412bb3f3",
   "metadata": {},
   "outputs": [
    {
     "data": {
      "text/plain": [
       "True"
      ]
     },
     "execution_count": 91,
     "metadata": {},
     "output_type": "execute_result"
    }
   ],
   "source": [
    "s1 = {1,2,3,4,5,6,7,8,9}\n",
    "s2 = {5,4,3}\n",
    "s1.issuperset(s2)    # Returns True as the first set is a super set of the second set."
   ]
  },
  {
   "cell_type": "code",
   "execution_count": 93,
   "id": "98fdb5a8",
   "metadata": {},
   "outputs": [
    {
     "data": {
      "text/plain": [
       "False"
      ]
     },
     "execution_count": 93,
     "metadata": {},
     "output_type": "execute_result"
    }
   ],
   "source": [
    "s1 = {1,2,3,4,5,6,7,8,9}\n",
    "s2 = {5,4,3,0}\n",
    "s1.issuperset(s2)    # Returns False as the first set does not have all the elements from the second set."
   ]
  },
  {
   "cell_type": "markdown",
   "id": "b20d7632",
   "metadata": {},
   "source": [
    "### Pop()\n",
    "Removes a random number from the set. This is because sets are un-indexed.<br>\n",
    ".pop() methid gives the item that has been removed"
   ]
  },
  {
   "cell_type": "code",
   "execution_count": 98,
   "id": "ead91122",
   "metadata": {},
   "outputs": [
    {
     "name": "stdout",
     "output_type": "stream",
     "text": [
      "{2, 3, 4, 5, 6}\n",
      "Item removed : 1\n"
     ]
    }
   ],
   "source": [
    "s = {1,2,3,4,5,6}\n",
    "x = s.pop()\n",
    "print(s)\n",
    "print('Item removed :',x)"
   ]
  },
  {
   "cell_type": "markdown",
   "id": "8aee8983",
   "metadata": {},
   "source": [
    "### Remove()\n",
    "Removes the specified item from the set.\n",
    "<br> Gives an error if the specified item is not in the set."
   ]
  },
  {
   "cell_type": "code",
   "execution_count": 100,
   "id": "4aee4089",
   "metadata": {},
   "outputs": [
    {
     "data": {
      "text/plain": [
       "{1, 2, 3, 4}"
      ]
     },
     "execution_count": 100,
     "metadata": {},
     "output_type": "execute_result"
    }
   ],
   "source": [
    "s = {1,2,3,4,5}\n",
    "s.remove(5)\n",
    "s"
   ]
  },
  {
   "cell_type": "code",
   "execution_count": 102,
   "id": "97c6a8d3",
   "metadata": {},
   "outputs": [
    {
     "ename": "KeyError",
     "evalue": "10",
     "output_type": "error",
     "traceback": [
      "\u001b[1;31m---------------------------------------------------------------------------\u001b[0m",
      "\u001b[1;31mKeyError\u001b[0m                                  Traceback (most recent call last)",
      "Cell \u001b[1;32mIn[102], line 2\u001b[0m\n\u001b[0;32m      1\u001b[0m s \u001b[38;5;241m=\u001b[39m {\u001b[38;5;241m1\u001b[39m,\u001b[38;5;241m2\u001b[39m,\u001b[38;5;241m3\u001b[39m,\u001b[38;5;241m4\u001b[39m,\u001b[38;5;241m5\u001b[39m}\n\u001b[1;32m----> 2\u001b[0m s\u001b[38;5;241m.\u001b[39mremove(\u001b[38;5;241m10\u001b[39m)    \u001b[38;5;66;03m# Returns an error since 10 is not present in the set\u001b[39;00m\n\u001b[0;32m      3\u001b[0m s\n",
      "\u001b[1;31mKeyError\u001b[0m: 10"
     ]
    }
   ],
   "source": [
    "s = {1,2,3,4,5}\n",
    "s.remove(10)    # Returns an error since 10 is not present in the set\n",
    "s   "
   ]
  },
  {
   "cell_type": "markdown",
   "id": "d155fb9a",
   "metadata": {},
   "source": [
    "### Symmetric_difference()\n",
    "Return a set that contains all items from both sets, except items that are present in both sets. (except for the common elements)"
   ]
  },
  {
   "cell_type": "code",
   "execution_count": 107,
   "id": "b9a5dfa3",
   "metadata": {},
   "outputs": [
    {
     "data": {
      "text/plain": [
       "{1, 8}"
      ]
     },
     "execution_count": 107,
     "metadata": {},
     "output_type": "execute_result"
    }
   ],
   "source": [
    "s1 = {1,2,3}\n",
    "s2 = {8,3,2}\n",
    "s3 = s1.symmetric_difference(s2)\n",
    "s3"
   ]
  },
  {
   "cell_type": "markdown",
   "id": "ea9986f6",
   "metadata": {},
   "source": [
    "### Symmetric_difference_update()\n",
    "Updates the first set with all the elements from both the sets except for the common elements."
   ]
  },
  {
   "cell_type": "code",
   "execution_count": 110,
   "id": "8e80e85e",
   "metadata": {},
   "outputs": [
    {
     "data": {
      "text/plain": [
       "{1, 3, 5, 6}"
      ]
     },
     "execution_count": 110,
     "metadata": {},
     "output_type": "execute_result"
    }
   ],
   "source": [
    "s1 = {1,2,3}\n",
    "s2 = {2,5,6}\n",
    "s1.symmetric_difference_update(s2)    # Updates s1 with all the uncommon elements from the two sets\n",
    "s1"
   ]
  },
  {
   "cell_type": "markdown",
   "id": "d1a4be37",
   "metadata": {},
   "source": [
    "### Union\n",
    "\n",
    "The **union()** method returns a set that contains all items from the original set, and all items from the specified set(s).<br>\n",
    "You can specify as many sets you want, separated by commas.<br>\n",
    "It does not have to be a set, it can be any iterable object.<br>\n",
    "If a same item is present in two or more sets, the resulting set will have that item only once because sets dont have duplicates."
   ]
  },
  {
   "cell_type": "code",
   "execution_count": 113,
   "id": "73b441c5",
   "metadata": {},
   "outputs": [
    {
     "data": {
      "text/plain": [
       "{1, 2, 3, 4, 5, 6, 7}"
      ]
     },
     "execution_count": 113,
     "metadata": {},
     "output_type": "execute_result"
    }
   ],
   "source": [
    "s1 = {1,2,3}\n",
    "s2 = {3,4,5}\n",
    "s3 = {3,4,6,7}\n",
    "\n",
    "s = s1.union(s2,s3)\n",
    "s"
   ]
  },
  {
   "cell_type": "markdown",
   "id": "95649130",
   "metadata": {},
   "source": [
    "### Update\n",
    "\n",
    "The **update()** method updates the current set, by adding items from another set (or any other iterable).<br>\n",
    "If an item is present in both sets, only one appearance of this item will be present in the updated set.<br>\n",
    "We can add items from a set, list, tuple, dictionary also."
   ]
  },
  {
   "cell_type": "code",
   "execution_count": 114,
   "id": "3579cb9d",
   "metadata": {},
   "outputs": [
    {
     "data": {
      "text/plain": [
       "{1, 2, 3, 'a', 'b', 'c'}"
      ]
     },
     "execution_count": 114,
     "metadata": {},
     "output_type": "execute_result"
    }
   ],
   "source": [
    "s1 = {'a','b','c'}\n",
    "s2 = {1,2,3}\n",
    "s1.update(s2)\n",
    "s1"
   ]
  },
  {
   "cell_type": "code",
   "execution_count": 115,
   "id": "64948f12",
   "metadata": {},
   "outputs": [
    {
     "data": {
      "text/plain": [
       "{1, 2, 3, 'a', 'b', 'c'}"
      ]
     },
     "execution_count": 115,
     "metadata": {},
     "output_type": "execute_result"
    }
   ],
   "source": [
    "s = {'a','b','c'}\n",
    "l = [1,2,3]\n",
    "s.update(l)\n",
    "s"
   ]
  },
  {
   "cell_type": "code",
   "execution_count": 116,
   "id": "9c01000f",
   "metadata": {},
   "outputs": [
    {
     "data": {
      "text/plain": [
       "{1, 2, 3, 'a', 'b', 'c'}"
      ]
     },
     "execution_count": 116,
     "metadata": {},
     "output_type": "execute_result"
    }
   ],
   "source": [
    "s = {'a','b','c'}\n",
    "t = 1,2,3\n",
    "s.update(t)\n",
    "s "
   ]
  },
  {
   "cell_type": "markdown",
   "id": "4c8087e2",
   "metadata": {},
   "source": [
    "## <font color = Orange> Dictionaries\n",
    "- Dictionaries are used to store data values in key:value pairs.\n",
    "- **Dictionary items are ordered, changeable, and does not allow duplicates**.\n",
    "- Dictionaries are written with curly brackets, and have keys and values.\n",
    "- As of Python version 3.7, dictionaries are ordered. In Python 3.6 and earlier, dictionaries are unordered.    "
   ]
  },
  {
   "cell_type": "code",
   "execution_count": 2,
   "id": "a6b18bad",
   "metadata": {},
   "outputs": [
    {
     "data": {
      "text/plain": [
       "{'name': 'Niranjan', 'age': 26, 'gender': 'm', 'address': 'Dmm'}"
      ]
     },
     "execution_count": 2,
     "metadata": {},
     "output_type": "execute_result"
    }
   ],
   "source": [
    "d = {\n",
    "    'name' : 'Niranjan',\n",
    "    'age' : 26,\n",
    "    'gender' : 'm',\n",
    "    'address' : 'Dmm'\n",
    "}\n",
    "\n",
    "d"
   ]
  },
  {
   "cell_type": "markdown",
   "id": "61db4b98",
   "metadata": {},
   "source": [
    "- Dictionary items are presented in key:value pairs, and can be referred to by using the key name."
   ]
  },
  {
   "cell_type": "code",
   "execution_count": 4,
   "id": "9389d412",
   "metadata": {},
   "outputs": [
    {
     "data": {
      "text/plain": [
       "'Niranjan'"
      ]
     },
     "execution_count": 4,
     "metadata": {},
     "output_type": "execute_result"
    }
   ],
   "source": [
    "# We can access the values from the dictionary by referring to the keys.\n",
    "\n",
    "d['name']"
   ]
  },
  {
   "cell_type": "code",
   "execution_count": 6,
   "id": "b4a700e7",
   "metadata": {},
   "outputs": [
    {
     "name": "stdout",
     "output_type": "stream",
     "text": [
      "{'name': 'Abhi', 'age': 26, 'gender': 'm', 'address': 'Dmm'}\n",
      "Abhi\n"
     ]
    }
   ],
   "source": [
    "# we can change teh values in a dictionary\n",
    "\n",
    "d['name'] = 'Abhi'\n",
    "print(d)\n",
    "\n",
    "print(d['name'])"
   ]
  },
  {
   "cell_type": "markdown",
   "id": "af4313bb",
   "metadata": {},
   "source": [
    "#### Duplicates are not allowed \n",
    "Dictionaries cannot have two items with the same key.\n",
    "Duplicate values will overwrite existing values."
   ]
  },
  {
   "cell_type": "code",
   "execution_count": 7,
   "id": "c4073f03",
   "metadata": {},
   "outputs": [
    {
     "data": {
      "text/plain": [
       "{'name': 'Niranjan', 'age': '27', 'gender': 'm', 'address': 'Dmm'}"
      ]
     },
     "execution_count": 7,
     "metadata": {},
     "output_type": "execute_result"
    }
   ],
   "source": [
    "d = {\n",
    "    'name' : 'Niranjan',\n",
    "    'age' : 26,\n",
    "    'gender' : 'm',\n",
    "    'address' : 'Dmm',\n",
    "    'age' : '27'\n",
    "}\n",
    "\n",
    "d"
   ]
  },
  {
   "cell_type": "markdown",
   "id": "46f765d0",
   "metadata": {},
   "source": [
    "#### Length of dictionary"
   ]
  },
  {
   "cell_type": "code",
   "execution_count": 8,
   "id": "70675667",
   "metadata": {},
   "outputs": [
    {
     "data": {
      "text/plain": [
       "4"
      ]
     },
     "execution_count": 8,
     "metadata": {},
     "output_type": "execute_result"
    }
   ],
   "source": [
    "len(d)"
   ]
  },
  {
   "cell_type": "markdown",
   "id": "0cee7847",
   "metadata": {},
   "source": [
    "#### Any datatype"
   ]
  },
  {
   "cell_type": "code",
   "execution_count": 11,
   "id": "06db8fce",
   "metadata": {},
   "outputs": [
    {
     "name": "stdout",
     "output_type": "stream",
     "text": [
      "{'name': 'Abhi', 'age': 26, 'male': True, 'skills': ['SQL', 'PBI', 'Excel', 'Python']}\n"
     ]
    }
   ],
   "source": [
    "# The values in dictionaries can be of any data type.\n",
    "\n",
    "d = {\n",
    "    'name' : 'Abhi',\n",
    "    'age' : 26,\n",
    "    'male' : True,\n",
    "    'skills' : ['SQL','PBI','Excel','Python']\n",
    "}\n",
    "\n",
    "print(d)"
   ]
  },
  {
   "cell_type": "markdown",
   "id": "65b46750",
   "metadata": {},
   "source": [
    "- Dictionaries are defined as objects with the data type 'dict'"
   ]
  },
  {
   "cell_type": "code",
   "execution_count": 12,
   "id": "1824c7a9",
   "metadata": {},
   "outputs": [
    {
     "data": {
      "text/plain": [
       "dict"
      ]
     },
     "execution_count": 12,
     "metadata": {},
     "output_type": "execute_result"
    }
   ],
   "source": [
    "type(d)"
   ]
  },
  {
   "cell_type": "code",
   "execution_count": 13,
   "id": "68c2d515",
   "metadata": {},
   "outputs": [
    {
     "name": "stdout",
     "output_type": "stream",
     "text": [
      "<class 'dict'>\n"
     ]
    }
   ],
   "source": [
    "print(type(d))"
   ]
  },
  {
   "cell_type": "markdown",
   "id": "68de0de4",
   "metadata": {},
   "source": [
    "#### Dict constructor"
   ]
  },
  {
   "cell_type": "code",
   "execution_count": 14,
   "id": "b18a7054",
   "metadata": {},
   "outputs": [
    {
     "data": {
      "text/plain": [
       "{'name': 'Abhi', 'age': 26, 'gender': 'M'}"
      ]
     },
     "execution_count": 14,
     "metadata": {},
     "output_type": "execute_result"
    }
   ],
   "source": [
    "# Dictionaries can also be created by using dict constructor\n",
    "\n",
    "d = dict(name = 'Abhi', age = 26, gender = 'M')\n",
    "d"
   ]
  },
  {
   "cell_type": "markdown",
   "id": "3fd54b8e",
   "metadata": {},
   "source": [
    "### Accessing Dictionary items"
   ]
  },
  {
   "cell_type": "markdown",
   "id": "0f430c6f",
   "metadata": {},
   "source": [
    "- You can access the items of a dictionary by referring to its key name, inside square brackets."
   ]
  },
  {
   "cell_type": "code",
   "execution_count": 19,
   "id": "a3ab3c23",
   "metadata": {},
   "outputs": [
    {
     "name": "stdout",
     "output_type": "stream",
     "text": [
      "{'name': 'Niranjan', 'age': '27', 'gender': 'm', 'address': 'Dmm'}\n"
     ]
    },
    {
     "data": {
      "text/plain": [
       "'Niranjan'"
      ]
     },
     "execution_count": 19,
     "metadata": {},
     "output_type": "execute_result"
    }
   ],
   "source": [
    "d = {\n",
    "    'name' : 'Niranjan',\n",
    "    'age' : 26,\n",
    "    'gender' : 'm',\n",
    "    'address' : 'Dmm',\n",
    "    'age' : '27'\n",
    "}\n",
    "\n",
    "print(d)\n",
    "d['name']"
   ]
  },
  {
   "cell_type": "code",
   "execution_count": 17,
   "id": "443c8b8d",
   "metadata": {},
   "outputs": [
    {
     "name": "stdout",
     "output_type": "stream",
     "text": [
      "27\n"
     ]
    }
   ],
   "source": [
    "print(d['age'])"
   ]
  },
  {
   "cell_type": "markdown",
   "id": "d9da6196",
   "metadata": {},
   "source": [
    "#### Get() Method    \n",
    "We can also access the values using get() method."
   ]
  },
  {
   "cell_type": "code",
   "execution_count": 20,
   "id": "b1befcb1",
   "metadata": {},
   "outputs": [
    {
     "data": {
      "text/plain": [
       "'Niranjan'"
      ]
     },
     "execution_count": 20,
     "metadata": {},
     "output_type": "execute_result"
    }
   ],
   "source": [
    "d.get('name')"
   ]
  },
  {
   "cell_type": "code",
   "execution_count": 21,
   "id": "cc531627",
   "metadata": {},
   "outputs": [
    {
     "name": "stdout",
     "output_type": "stream",
     "text": [
      "Dmm\n"
     ]
    }
   ],
   "source": [
    "print(d.get('address'))"
   ]
  },
  {
   "cell_type": "markdown",
   "id": "29cbf542",
   "metadata": {},
   "source": [
    "#### Keys() Method\n",
    "Keys() method will return a list with all the keys in the dictionary."
   ]
  },
  {
   "cell_type": "code",
   "execution_count": 25,
   "id": "99f7f7b2",
   "metadata": {},
   "outputs": [
    {
     "name": "stdout",
     "output_type": "stream",
     "text": [
      "dict_keys(['name', 'age', 'gender', 'address'])\n"
     ]
    }
   ],
   "source": [
    "k = d.keys()\n",
    "print(k)"
   ]
  },
  {
   "cell_type": "markdown",
   "id": "569270a1",
   "metadata": {},
   "source": [
    "#### Values() Method\n",
    "Values() method returns a list of all the values in the dictionary."
   ]
  },
  {
   "cell_type": "code",
   "execution_count": 28,
   "id": "72e20c65",
   "metadata": {},
   "outputs": [
    {
     "data": {
      "text/plain": [
       "dict_values(['Niranjan', '27', 'm', 'Dmm'])"
      ]
     },
     "execution_count": 28,
     "metadata": {},
     "output_type": "execute_result"
    }
   ],
   "source": [
    "d.values()"
   ]
  },
  {
   "cell_type": "markdown",
   "id": "3906e8fa",
   "metadata": {},
   "source": [
    "#### Items() Method\n",
    "Items() method will return each item in a dictionary, as tuple in a list."
   ]
  },
  {
   "cell_type": "code",
   "execution_count": 30,
   "id": "1f91a8ac",
   "metadata": {},
   "outputs": [
    {
     "name": "stdout",
     "output_type": "stream",
     "text": [
      "dict_items([('name', 'Niranjan'), ('age', '27'), ('gender', 'm'), ('address', 'Dmm')])\n"
     ]
    }
   ],
   "source": [
    "print(d.items())"
   ]
  },
  {
   "cell_type": "markdown",
   "id": "5ad9e590",
   "metadata": {},
   "source": [
    "#### To check if a key exists :"
   ]
  },
  {
   "cell_type": "code",
   "execution_count": 34,
   "id": "be90c64e",
   "metadata": {},
   "outputs": [
    {
     "name": "stdout",
     "output_type": "stream",
     "text": [
      "Yes, name is present in the dictionary.\n"
     ]
    }
   ],
   "source": [
    "d = {\n",
    "    'name' : 'Niranjan',\n",
    "    'age' : 26,\n",
    "    'gender' : 'm',\n",
    "    'address' : 'Dmm',\n",
    "    'age' : '27'\n",
    "}\n",
    "\n",
    "if 'name' in d:\n",
    "    print('Yes, name is present in the dictionary.')"
   ]
  },
  {
   "cell_type": "markdown",
   "id": "d5b0e875",
   "metadata": {},
   "source": [
    "### Change items\n",
    "You can change the value of a specific item by referring to its key name."
   ]
  },
  {
   "cell_type": "code",
   "execution_count": 36,
   "id": "6258dcc6",
   "metadata": {},
   "outputs": [
    {
     "name": "stdout",
     "output_type": "stream",
     "text": [
      "Before change :  {'name': 'Niranjan', 'age': '27', 'gender': 'm', 'address': 'Dmm'}\n",
      "After the change :  {'name': 'Abhi', 'age': '27', 'gender': 'm', 'address': 'Dmm'}\n"
     ]
    }
   ],
   "source": [
    "d = {\n",
    "    'name' : 'Niranjan',\n",
    "    'age' : 26,\n",
    "    'gender' : 'm',\n",
    "    'address' : 'Dmm',\n",
    "    'age' : '27'\n",
    "}\n",
    "\n",
    "print('Before change : ', d)\n",
    "\n",
    "d['name'] = 'Abhi'\n",
    "\n",
    "print('After the change : ', d)"
   ]
  },
  {
   "cell_type": "markdown",
   "id": "b0f4a967",
   "metadata": {},
   "source": [
    "#### Update() method\n",
    "update() method updates the items values with given values. "
   ]
  },
  {
   "cell_type": "code",
   "execution_count": 38,
   "id": "c4ceaa28",
   "metadata": {},
   "outputs": [
    {
     "name": "stdout",
     "output_type": "stream",
     "text": [
      "Before change :  {'name': 'Niranjan', 'age': '27', 'gender': 'm', 'address': 'Dmm'}\n",
      "After the change :  {'name': 'Abhi', 'age': '27', 'gender': 'm', 'address': 'Dmm'}\n"
     ]
    }
   ],
   "source": [
    "d = {\n",
    "    'name' : 'Niranjan',\n",
    "    'age' : 26,\n",
    "    'gender' : 'm',\n",
    "    'address' : 'Dmm',\n",
    "    'age' : '27'\n",
    "}\n",
    "print('Before change : ', d)\n",
    "\n",
    "d.update({'name':'Abhi'})\n",
    "print('After the change : ',d)"
   ]
  },
  {
   "cell_type": "markdown",
   "id": "2173900e",
   "metadata": {},
   "source": [
    "### Add items \n",
    "Adding an item to the dictionary is done by using a new index key and assigning a value to it."
   ]
  },
  {
   "cell_type": "code",
   "execution_count": 43,
   "id": "ca812bb7",
   "metadata": {},
   "outputs": [
    {
     "name": "stdout",
     "output_type": "stream",
     "text": [
      "Before adding :  {'name': 'Niranjan', 'age': '27', 'gender': 'm', 'address': 'Dmm'}\n",
      "After adding :  {'name': 'Niranjan', 'age': '27', 'gender': 'm', 'address': 'Dmm', 'height': 6}\n"
     ]
    }
   ],
   "source": [
    "d = {\n",
    "    'name' : 'Niranjan',\n",
    "    'age' : 26,\n",
    "    'gender' : 'm',\n",
    "    'address' : 'Dmm',\n",
    "    'age' : '27'\n",
    "}\n",
    "\n",
    "print('Before adding : ', d)\n",
    "\n",
    "d['height'] = 6    # adds a new item to the dictionary\n",
    "\n",
    "print('After adding : ', d)"
   ]
  },
  {
   "cell_type": "markdown",
   "id": "124b44cf",
   "metadata": {},
   "source": [
    "#### Update() \n",
    "We can use update() method to add new items to the dictionary.\n"
   ]
  },
  {
   "cell_type": "code",
   "execution_count": 6,
   "id": "3198e9a7",
   "metadata": {},
   "outputs": [
    {
     "name": "stdout",
     "output_type": "stream",
     "text": [
      "Before change :  {'name': 'Niranjan', 'age': '27', 'gender': 'm', 'address': 'Dmm'}\n",
      "After the change :  {'name': 'Niranjan', 'age': '27', 'gender': 'm', 'address': 'Dmm', 'height': 6}\n"
     ]
    }
   ],
   "source": [
    "d = {\n",
    "    'name' : 'Niranjan',\n",
    "    'age' : 26,\n",
    "    'gender' : 'm',\n",
    "    'address' : 'Dmm',\n",
    "    'age' : '27'\n",
    "}\n",
    "\n",
    "print('Before change : ', d)\n",
    "\n",
    "d.update({'height' : 6})    #updates the dictionary d with height\n",
    "\n",
    "print('After the change : ', d)"
   ]
  },
  {
   "cell_type": "markdown",
   "id": "d66a0516",
   "metadata": {},
   "source": [
    "### Deleting items\n",
    "There are several ways to remove or delete an item from a dictionary."
   ]
  },
  {
   "cell_type": "markdown",
   "id": "1040ca92",
   "metadata": {},
   "source": [
    "### Pop() method\n",
    "Pop() method removes the item with specified key name."
   ]
  },
  {
   "cell_type": "code",
   "execution_count": 46,
   "id": "210e4a88",
   "metadata": {},
   "outputs": [
    {
     "name": "stdout",
     "output_type": "stream",
     "text": [
      "Before deleting :  {'name': 'Niranjan', 'age': 26, 'gender': 'm', 'address': 'Dmm', 'height': 6}\n",
      "After deleting :  {'name': 'Niranjan', 'age': 26, 'gender': 'm', 'address': 'Dmm'}\n"
     ]
    }
   ],
   "source": [
    "d = {\n",
    "    'name' : 'Niranjan',\n",
    "    'age' : 26,\n",
    "    'gender' : 'm',\n",
    "    'address' : 'Dmm',\n",
    "    'height' : 6\n",
    "}\n",
    "\n",
    "print('Before deleting : ', d)\n",
    "\n",
    "d.pop('height')\n",
    "print('After deleting : ', d)"
   ]
  },
  {
   "cell_type": "markdown",
   "id": "fccca490",
   "metadata": {},
   "source": [
    "### Popitem()\n",
    "The popitem() method removes the last inserted item (in versions before 3.7, a random item is removed instead)."
   ]
  },
  {
   "cell_type": "code",
   "execution_count": 51,
   "id": "96f096d5",
   "metadata": {},
   "outputs": [
    {
     "name": "stdout",
     "output_type": "stream",
     "text": [
      "Before adding a new item : {'name': 'Niranjan', 'age': 26, 'gender': 'm', 'height': 6}\n",
      "After adding a new item : {'name': 'Niranjan', 'age': 26, 'gender': 'm', 'height': 6, 'address': 'dmm'}\n"
     ]
    },
    {
     "data": {
      "text/plain": [
       "{'name': 'Niranjan', 'age': 26, 'gender': 'm', 'height': 6}"
      ]
     },
     "execution_count": 51,
     "metadata": {},
     "output_type": "execute_result"
    }
   ],
   "source": [
    "d = {\n",
    "    'name' : 'Niranjan',\n",
    "    'age' : 26,\n",
    "    'gender' : 'm',\n",
    "    'height' : 6\n",
    "}\n",
    "print('Before adding a new item :',d)\n",
    "\n",
    "d['address'] = 'dmm'\n",
    "print('After adding a new item :', d)\n",
    "\n",
    "d.popitem()    # deletes last added item.\n",
    "d"
   ]
  },
  {
   "cell_type": "markdown",
   "id": "a2a4051b",
   "metadata": {},
   "source": [
    "### del \n",
    "The del keyword removes the item with the specified key name.\n"
   ]
  },
  {
   "cell_type": "code",
   "execution_count": 52,
   "id": "c8774da2",
   "metadata": {},
   "outputs": [
    {
     "name": "stdout",
     "output_type": "stream",
     "text": [
      "Before deleting :  {'name': 'Niranjan', 'age': 26, 'gender': 'm', 'height': 6}\n",
      "After deleting : {'name': 'Niranjan', 'age': 26, 'gender': 'm'}\n"
     ]
    }
   ],
   "source": [
    "d = {\n",
    "    'name' : 'Niranjan',\n",
    "    'age' : 26,\n",
    "    'gender' : 'm',\n",
    "    'height' : 6\n",
    "}\n",
    "\n",
    "print('Before deleting : ',d)\n",
    "\n",
    "del d['height']\n",
    "\n",
    "print('After deleting :', d)"
   ]
  },
  {
   "cell_type": "markdown",
   "id": "371b690c",
   "metadata": {},
   "source": [
    "- The **del** keyword can also delete the dictionary completely"
   ]
  },
  {
   "cell_type": "code",
   "execution_count": 53,
   "id": "28fda6db",
   "metadata": {},
   "outputs": [
    {
     "ename": "NameError",
     "evalue": "name 'd' is not defined",
     "output_type": "error",
     "traceback": [
      "\u001b[1;31m---------------------------------------------------------------------------\u001b[0m",
      "\u001b[1;31mNameError\u001b[0m                                 Traceback (most recent call last)",
      "Cell \u001b[1;32mIn[53], line 3\u001b[0m\n\u001b[0;32m      1\u001b[0m \u001b[38;5;28;01mdel\u001b[39;00m d\n\u001b[1;32m----> 3\u001b[0m d\n",
      "\u001b[1;31mNameError\u001b[0m: name 'd' is not defined"
     ]
    }
   ],
   "source": [
    "del d\n",
    "\n",
    "d    # gives a definition error as d is deleted"
   ]
  },
  {
   "cell_type": "markdown",
   "id": "4c8c78fa",
   "metadata": {},
   "source": [
    "### clear()\n",
    "Clear() method empties the entire dictionary."
   ]
  },
  {
   "cell_type": "code",
   "execution_count": 54,
   "id": "95c4a993",
   "metadata": {},
   "outputs": [
    {
     "name": "stdout",
     "output_type": "stream",
     "text": [
      "Before clear :  {'name': 'Niranjan', 'age': 26, 'gender': 'm', 'height': 6}\n",
      "After clear :  {}\n"
     ]
    }
   ],
   "source": [
    "d = {\n",
    "    'name' : 'Niranjan',\n",
    "    'age' : 26,\n",
    "    'gender' : 'm',\n",
    "    'height' : 6\n",
    "}\n",
    "\n",
    "print('Before clear : ', d)\n",
    "\n",
    "d.clear()\n",
    "\n",
    "print('After clear : ', d)"
   ]
  },
  {
   "cell_type": "markdown",
   "id": "e6dafdf6",
   "metadata": {},
   "source": [
    "### Looping Dictionaries"
   ]
  },
  {
   "cell_type": "markdown",
   "id": "62e2eae6",
   "metadata": {},
   "source": [
    "#### To get all the keys in the dictionary"
   ]
  },
  {
   "cell_type": "code",
   "execution_count": 8,
   "id": "e315ff6d",
   "metadata": {
    "scrolled": true
   },
   "outputs": [
    {
     "name": "stdout",
     "output_type": "stream",
     "text": [
      "name\n",
      "age\n",
      "gender\n",
      "height\n"
     ]
    }
   ],
   "source": [
    "d = {\n",
    "    'name' : 'Niranjan',\n",
    "    'age' : 26,\n",
    "    'gender' : 'm',\n",
    "    'height' : 6\n",
    "}\n",
    "\n",
    "for x in d:    # loops through all the keys and prins them\n",
    "    print(x)"
   ]
  },
  {
   "cell_type": "code",
   "execution_count": 17,
   "id": "869148ab",
   "metadata": {},
   "outputs": [
    {
     "data": {
      "text/plain": [
       "dict_keys(['name', 'age', 'gender', 'height'])"
      ]
     },
     "execution_count": 17,
     "metadata": {},
     "output_type": "execute_result"
    }
   ],
   "source": [
    "# You can use .keys() to get all the keys from a dictionary\n",
    "\n",
    "d.keys()    # gives a list of all the keys in the dictionary"
   ]
  },
  {
   "cell_type": "code",
   "execution_count": 18,
   "id": "166ca7e1",
   "metadata": {},
   "outputs": [
    {
     "name": "stdout",
     "output_type": "stream",
     "text": [
      "name\n",
      "age\n",
      "gender\n",
      "height\n"
     ]
    }
   ],
   "source": [
    "# Looping throgh the list of keys\n",
    "\n",
    "for x in d.keys():\n",
    "    print(x)"
   ]
  },
  {
   "cell_type": "markdown",
   "id": "8847baf7",
   "metadata": {},
   "source": [
    "#### To get all the values in a dictionary"
   ]
  },
  {
   "cell_type": "code",
   "execution_count": 20,
   "id": "bf44c0ff",
   "metadata": {},
   "outputs": [
    {
     "data": {
      "text/plain": [
       "dict_values(['Niranjan', 26, 'm', 6])"
      ]
     },
     "execution_count": 20,
     "metadata": {},
     "output_type": "execute_result"
    }
   ],
   "source": [
    "# You can use .values() to get all the values from the dictionary\n",
    "\n",
    "d.values()"
   ]
  },
  {
   "cell_type": "code",
   "execution_count": 21,
   "id": "5448858e",
   "metadata": {},
   "outputs": [
    {
     "name": "stdout",
     "output_type": "stream",
     "text": [
      "Niranjan\n",
      "26\n",
      "m\n",
      "6\n"
     ]
    }
   ],
   "source": [
    "# Loops through the list of values from the dictionary.\n",
    "\n",
    "for x in d:    \n",
    "    print(d[x])"
   ]
  },
  {
   "cell_type": "markdown",
   "id": "3b5387b3",
   "metadata": {},
   "source": [
    "#### To get both the keys and values use items() method"
   ]
  },
  {
   "cell_type": "code",
   "execution_count": 22,
   "id": "8dafc9da",
   "metadata": {},
   "outputs": [
    {
     "data": {
      "text/plain": [
       "dict_items([('name', 'Niranjan'), ('age', 26), ('gender', 'm'), ('height', 6)])"
      ]
     },
     "execution_count": 22,
     "metadata": {},
     "output_type": "execute_result"
    }
   ],
   "source": [
    "d.items()    # Returns a list of tuples with key value pairs"
   ]
  },
  {
   "cell_type": "code",
   "execution_count": 26,
   "id": "3e7b067d",
   "metadata": {},
   "outputs": [
    {
     "name": "stdout",
     "output_type": "stream",
     "text": [
      "name Niranjan\n",
      "age 26\n",
      "gender m\n",
      "height 6\n"
     ]
    }
   ],
   "source": [
    "# Loop through both the keys and values\n",
    "\n",
    "for x, y in d.items():\n",
    "    print(x,y)"
   ]
  },
  {
   "cell_type": "markdown",
   "id": "7dfb7222",
   "metadata": {},
   "source": [
    "### Nested Dictionaries"
   ]
  },
  {
   "cell_type": "code",
   "execution_count": 28,
   "id": "0a474976",
   "metadata": {},
   "outputs": [
    {
     "name": "stdout",
     "output_type": "stream",
     "text": [
      "{'a': {'name': 'abhi', 'age': 26, 'address': 'dmm'}, 'b': {'name': 'chintu', 'age': 15, 'address': 'atp'}, 'c': {'name': 'madhu', 'age': 29, 'address': 'ymp'}}\n"
     ]
    }
   ],
   "source": [
    "a = {\n",
    "    'name' : 'abhi',\n",
    "    'age' : 26,\n",
    "    'address' : 'dmm'\n",
    "}\n",
    "\n",
    "b = {\n",
    "    'name' : 'chintu',\n",
    "    'age' : 15,\n",
    "    'address' : 'atp'\n",
    "}\n",
    "\n",
    "c = {\n",
    "    'name' : 'madhu',\n",
    "    'age' : 29,\n",
    "    'address' : 'ymp'\n",
    "}\n",
    "\n",
    "fam = {\n",
    "    'a' : a,\n",
    "    'b' : b,\n",
    "    'c' : c\n",
    "}\n",
    "\n",
    "print(fam)"
   ]
  },
  {
   "cell_type": "markdown",
   "id": "7c4aea33",
   "metadata": {},
   "source": [
    "#### Accessing nested dictionaries"
   ]
  },
  {
   "cell_type": "code",
   "execution_count": 29,
   "id": "1916074c",
   "metadata": {},
   "outputs": [
    {
     "data": {
      "text/plain": [
       "'abhi'"
      ]
     },
     "execution_count": 29,
     "metadata": {},
     "output_type": "execute_result"
    }
   ],
   "source": [
    "fam['a']['name']"
   ]
  },
  {
   "cell_type": "code",
   "execution_count": 30,
   "id": "a6158e09",
   "metadata": {},
   "outputs": [
    {
     "data": {
      "text/plain": [
       "dict_keys(['name', 'age', 'address'])"
      ]
     },
     "execution_count": 30,
     "metadata": {},
     "output_type": "execute_result"
    }
   ],
   "source": [
    "fam['a'].keys()"
   ]
  },
  {
   "cell_type": "code",
   "execution_count": 31,
   "id": "21933f35",
   "metadata": {},
   "outputs": [
    {
     "data": {
      "text/plain": [
       "dict_values(['chintu', 15, 'atp'])"
      ]
     },
     "execution_count": 31,
     "metadata": {},
     "output_type": "execute_result"
    }
   ],
   "source": [
    "fam['b'].values()"
   ]
  },
  {
   "cell_type": "code",
   "execution_count": 32,
   "id": "efc84e74",
   "metadata": {},
   "outputs": [
    {
     "data": {
      "text/plain": [
       "dict_items([('name', 'abhi'), ('age', 26), ('address', 'dmm')])"
      ]
     },
     "execution_count": 32,
     "metadata": {},
     "output_type": "execute_result"
    }
   ],
   "source": [
    "fam['a'].items()"
   ]
  },
  {
   "cell_type": "markdown",
   "id": "e76d8812",
   "metadata": {},
   "source": [
    "### Dictionary Methods"
   ]
  },
  {
   "cell_type": "markdown",
   "id": "4587ba11",
   "metadata": {},
   "source": [
    "### Clear()\n",
    "\n",
    "Removes all the elements from the dictionary."
   ]
  },
  {
   "cell_type": "code",
   "execution_count": 38,
   "id": "c1379eac",
   "metadata": {},
   "outputs": [
    {
     "name": "stdout",
     "output_type": "stream",
     "text": [
      "Before : {'name': 'Niranjan', 'age': 26, 'gender': 'm', 'height': 6}\n",
      "After : {}\n"
     ]
    }
   ],
   "source": [
    "d = {\n",
    "    'name' : 'Niranjan',\n",
    "    'age' : 26,\n",
    "    'gender' : 'm',\n",
    "    'height' : 6\n",
    "}\n",
    "\n",
    "print('Before :', d)\n",
    "\n",
    "d.clear()    # Returns an empty dictionary\n",
    "\n",
    "print('After :', d)"
   ]
  },
  {
   "cell_type": "markdown",
   "id": "3fa0f4d6",
   "metadata": {},
   "source": [
    "### Copy()\n",
    "Returns a copy of the specified dictionary."
   ]
  },
  {
   "cell_type": "code",
   "execution_count": 40,
   "id": "656675ee",
   "metadata": {},
   "outputs": [
    {
     "name": "stdout",
     "output_type": "stream",
     "text": [
      "{'name': 'Niranjan', 'age': 26, 'gender': 'm', 'height': 6}\n"
     ]
    }
   ],
   "source": [
    "d = {\n",
    "    'name' : 'Niranjan',\n",
    "    'age' : 26,\n",
    "    'gender' : 'm',\n",
    "    'height' : 6\n",
    "}\n",
    "\n",
    "c = d.copy()\n",
    "\n",
    "print(c)"
   ]
  },
  {
   "cell_type": "markdown",
   "id": "79306350",
   "metadata": {},
   "source": [
    "### Fromkeys()\n",
    "The fromkeys() method returns a dictionary with the specified keys and the specified value."
   ]
  },
  {
   "cell_type": "code",
   "execution_count": 42,
   "id": "fffc6e99",
   "metadata": {},
   "outputs": [
    {
     "name": "stdout",
     "output_type": "stream",
     "text": [
      "{'name': ('abhi', 26, 'm'), 'age': ('abhi', 26, 'm'), 'gender': ('abhi', 26, 'm')}\n"
     ]
    }
   ],
   "source": [
    "x = ('name', 'age', 'gender')\n",
    "y = ('abhi', 26, 'm')\n",
    "\n",
    "d = dict.fromkeys(x,y)\n",
    "\n",
    "print(d)"
   ]
  },
  {
   "cell_type": "markdown",
   "id": "8af0b359",
   "metadata": {},
   "source": [
    "### Get()\n",
    "The get() method returns the value of the item with the specified key."
   ]
  },
  {
   "cell_type": "code",
   "execution_count": 51,
   "id": "14b742e7",
   "metadata": {},
   "outputs": [
    {
     "data": {
      "text/plain": [
       "'Niranjan'"
      ]
     },
     "execution_count": 51,
     "metadata": {},
     "output_type": "execute_result"
    }
   ],
   "source": [
    "d = {\n",
    "    'name' : 'Niranjan',\n",
    "    'age' : 26,\n",
    "    'gender' : 'm',\n",
    "    'height' : 6\n",
    "}\n",
    "\n",
    "d.get('name')"
   ]
  },
  {
   "cell_type": "markdown",
   "id": "92a32f9d",
   "metadata": {},
   "source": [
    "### Items()\n",
    "Returns a list of tuples with key value pairs from the dictionary."
   ]
  },
  {
   "cell_type": "code",
   "execution_count": 46,
   "id": "96e9a248",
   "metadata": {},
   "outputs": [
    {
     "data": {
      "text/plain": [
       "dict_items([('name', 'Niranjan'), ('age', 26), ('gender', 'm'), ('height', 6)])"
      ]
     },
     "execution_count": 46,
     "metadata": {},
     "output_type": "execute_result"
    }
   ],
   "source": [
    "d.items()"
   ]
  },
  {
   "cell_type": "markdown",
   "id": "15fcb93b",
   "metadata": {},
   "source": [
    "### Keys()\n",
    "Returns a list of all the keys present in the dictionary.\n"
   ]
  },
  {
   "cell_type": "code",
   "execution_count": 47,
   "id": "6231cbd0",
   "metadata": {},
   "outputs": [
    {
     "data": {
      "text/plain": [
       "dict_keys(['name', 'age', 'gender', 'height'])"
      ]
     },
     "execution_count": 47,
     "metadata": {},
     "output_type": "execute_result"
    }
   ],
   "source": [
    "d.keys()"
   ]
  },
  {
   "cell_type": "markdown",
   "id": "b1735efe",
   "metadata": {},
   "source": [
    "### Pop()\n",
    "Removes the specified item from the dictionary."
   ]
  },
  {
   "cell_type": "code",
   "execution_count": 57,
   "id": "cec55c42",
   "metadata": {},
   "outputs": [
    {
     "name": "stdout",
     "output_type": "stream",
     "text": [
      "Before :  {'name': 'Niranjan', 'age': 26, 'gender': 'm', 'height': 6}\n",
      "After :  {'name': 'Niranjan', 'age': 26, 'gender': 'm'}\n"
     ]
    }
   ],
   "source": [
    "d = {\n",
    "    'name' : 'Niranjan',\n",
    "    'age' : 26,\n",
    "    'gender' : 'm',\n",
    "    'height' : 6\n",
    "}\n",
    "\n",
    "print('Before : ', d)\n",
    "\n",
    "d.pop('height')\n",
    "\n",
    "print('After : ', d)"
   ]
  },
  {
   "cell_type": "code",
   "execution_count": 58,
   "id": "ba035d3d",
   "metadata": {},
   "outputs": [
    {
     "name": "stdout",
     "output_type": "stream",
     "text": [
      "Removed value :  6\n"
     ]
    }
   ],
   "source": [
    "# .pop() gives the value of the item that has been removed.\n",
    "\n",
    "d = {\n",
    "    'name' : 'Niranjan',\n",
    "    'age' : 26,\n",
    "    'gender' : 'm',\n",
    "    'height' : 6\n",
    "}\n",
    "\n",
    "x = d.pop('height')\n",
    "\n",
    "print('Removed value : ', x)"
   ]
  },
  {
   "cell_type": "markdown",
   "id": "d4a63851",
   "metadata": {},
   "source": [
    "### Popitem()\n",
    "Removes the last inserted item in the dictionary."
   ]
  },
  {
   "cell_type": "code",
   "execution_count": 60,
   "id": "f5a7792b",
   "metadata": {},
   "outputs": [
    {
     "name": "stdout",
     "output_type": "stream",
     "text": [
      "Before adding an element :  {'name': 'Niranjan', 'age': 26, 'gender': 'm', 'height': 6}\n",
      "After adding a new element : {'name': 'Niranjan', 'age': 26, 'gender': 'm', 'height': 6, 'address': 'dmm'}\n",
      "Final dictionary :  {'name': 'Niranjan', 'age': 26, 'gender': 'm', 'height': 6}\n"
     ]
    }
   ],
   "source": [
    "d = {\n",
    "    'name' : 'Niranjan',\n",
    "    'age' : 26,\n",
    "    'gender' : 'm',\n",
    "    'height' : 6\n",
    "}\n",
    "\n",
    "print('Before adding an element : ', d)\n",
    "\n",
    "d['address'] = 'dmm'\n",
    "\n",
    "print('After adding a new element :', d)\n",
    "\n",
    "d.popitem()    # Removes the last inserted item i.e, address \n",
    "\n",
    "print('Final dictionary : ', d)"
   ]
  },
  {
   "cell_type": "markdown",
   "id": "958e4ce6",
   "metadata": {},
   "source": [
    "### Setdefault()\n",
    "The setdefault() method returns the value of the item with the specified key.<br>\n",
    "If the key does not exist, insert the key, with the specified value, see example below"
   ]
  },
  {
   "cell_type": "code",
   "execution_count": 65,
   "id": "19fb8a8a",
   "metadata": {},
   "outputs": [
    {
     "data": {
      "text/plain": [
       "'niranjan'"
      ]
     },
     "execution_count": 65,
     "metadata": {},
     "output_type": "execute_result"
    }
   ],
   "source": [
    "d = {\n",
    "    'name' : 'niranjan',\n",
    "    'age' : 26,\n",
    "    'gender' : 'm',\n",
    "    'height' : 6\n",
    "}\n",
    "\n",
    "d.setdefault('name', 'abhi')"
   ]
  },
  {
   "cell_type": "markdown",
   "id": "8d498dea",
   "metadata": {},
   "source": [
    "### Update()\n",
    "The update() method inserts the specified items to the dictionary."
   ]
  },
  {
   "cell_type": "code",
   "execution_count": 69,
   "id": "cd477e72",
   "metadata": {},
   "outputs": [
    {
     "data": {
      "text/plain": [
       "{'name': 'abhi', 'age': 26, 'gender': 'm', 'height': 6}"
      ]
     },
     "execution_count": 69,
     "metadata": {},
     "output_type": "execute_result"
    }
   ],
   "source": [
    "d = {\n",
    "    'name' : 'niranjan',\n",
    "    'age' : 26,\n",
    "    'gender' : 'm',\n",
    "    'height' : 6\n",
    "}\n",
    "\n",
    "d.update({'name':'abhi'})    # Updates the name\n",
    "\n",
    "d"
   ]
  },
  {
   "cell_type": "markdown",
   "id": "8c821f91",
   "metadata": {},
   "source": [
    "### Values()\n",
    "Returns a list of all the values in the dictionary."
   ]
  },
  {
   "cell_type": "code",
   "execution_count": 70,
   "id": "a7b4e06f",
   "metadata": {},
   "outputs": [
    {
     "data": {
      "text/plain": [
       "dict_values(['abhi', 26, 'm', 6])"
      ]
     },
     "execution_count": 70,
     "metadata": {},
     "output_type": "execute_result"
    }
   ],
   "source": [
    "d.values()"
   ]
  },
  {
   "cell_type": "markdown",
   "id": "5fc5df80",
   "metadata": {},
   "source": [
    " "
   ]
  },
  {
   "cell_type": "markdown",
   "id": "9fe0d9c6",
   "metadata": {},
   "source": [
    " "
   ]
  },
  {
   "cell_type": "markdown",
   "id": "60352ead",
   "metadata": {},
   "source": [
    " "
   ]
  },
  {
   "cell_type": "markdown",
   "id": "ca315fba",
   "metadata": {},
   "source": [
    "## Control FLow Statements"
   ]
  },
  {
   "cell_type": "markdown",
   "id": "2f752a7b",
   "metadata": {},
   "source": [
    "### if-else statement  "
   ]
  },
  {
   "cell_type": "code",
   "execution_count": null,
   "id": "0d86f363",
   "metadata": {},
   "outputs": [],
   "source": [
    "#giving input\n",
    "a = int(input('Please enter a number : '))\n",
    "\n",
    "if a<0:\n",
    "    print('Negative is converted to Zero')\n",
    "elif a == 0:\n",
    "    print('Zero')\n",
    "elif a == 1:\n",
    "    print('Single')\n",
    "else:\n",
    "    print('More')"
   ]
  },
  {
   "cell_type": "code",
   "execution_count": 8,
   "id": "6dce54f5",
   "metadata": {},
   "outputs": [],
   "source": [
    "# if statements cannot be empty, but if you for some reason have an if statement with no content, \n",
    "# put in the pass statement to avoid getting an error.\n",
    "\n",
    "a = 4\n",
    "b = 5\n",
    "\n",
    "if a > b:\n",
    "    pass     "
   ]
  },
  {
   "cell_type": "markdown",
   "id": "5b9dc3fb",
   "metadata": {},
   "source": [
    "## While Loops\n",
    "With the while loop we can execute a set of statements as long as a condition is true."
   ]
  },
  {
   "cell_type": "code",
   "execution_count": 1,
   "id": "7a84c5ec",
   "metadata": {},
   "outputs": [
    {
     "name": "stdout",
     "output_type": "stream",
     "text": [
      "1\n",
      "2\n",
      "3\n",
      "4\n"
     ]
    }
   ],
   "source": [
    "i = 1\n",
    "while i < 5:\n",
    "    print(i)\n",
    "    i = i+1"
   ]
  },
  {
   "cell_type": "code",
   "execution_count": 7,
   "id": "d2854363",
   "metadata": {},
   "outputs": [
    {
     "name": "stdout",
     "output_type": "stream",
     "text": [
      "1\n",
      "2\n",
      "3\n",
      "4\n",
      "5\n",
      "6\n",
      "7\n"
     ]
    }
   ],
   "source": [
    "i = 1\n",
    "while i < 10:\n",
    "    print(i)\n",
    "    if i == 7:\n",
    "        break\n",
    "    i+=1    "
   ]
  },
  {
   "cell_type": "code",
   "execution_count": null,
   "id": "d555d9c4",
   "metadata": {},
   "outputs": [],
   "source": []
  },
  {
   "cell_type": "code",
   "execution_count": null,
   "id": "40ab6888",
   "metadata": {},
   "outputs": [],
   "source": []
  },
  {
   "cell_type": "code",
   "execution_count": null,
   "id": "132f7ba2",
   "metadata": {},
   "outputs": [],
   "source": []
  },
  {
   "cell_type": "markdown",
   "id": "00d2a4dc",
   "metadata": {},
   "source": [
    "### For loop (Iterating through)"
   ]
  },
  {
   "cell_type": "code",
   "execution_count": 2,
   "id": "22829f36",
   "metadata": {},
   "outputs": [
    {
     "name": "stdout",
     "output_type": "stream",
     "text": [
      "Abhi 4\n",
      "Niranjan 8\n",
      "Cherry 6\n",
      "Chintu 6\n",
      "Vinod 5\n",
      "Madhu 5\n",
      "Teja 4\n"
     ]
    }
   ],
   "source": [
    "names = ['Abhi', 'Niranjan', \"Cherry\", 'Chintu', 'Vinod', 'Madhu', 'Teja']\n",
    "for x in names:\n",
    "    print(x, len(x))"
   ]
  },
  {
   "cell_type": "code",
   "execution_count": 3,
   "id": "5ee01428",
   "metadata": {},
   "outputs": [
    {
     "name": "stdout",
     "output_type": "stream",
     "text": [
      "Abhi - 90\n",
      "Niranjan - 100\n",
      "Cherry - 50\n",
      "Chintu - 20\n",
      "Vinod - 35\n",
      "Madhu - 10\n",
      "Teja - 70\n"
     ]
    }
   ],
   "source": [
    "#use items() method to unpack dictionaries\n",
    "data = {'Abhi' : 90, 'Niranjan':100, \"Cherry\":50, 'Chintu':20, 'Vinod':35, 'Madhu':10, 'Teja':70}\n",
    "for x, y in data.items():   \n",
    "   print(x,'-',y)"
   ]
  },
  {
   "cell_type": "code",
   "execution_count": 4,
   "id": "1ba3bebf",
   "metadata": {},
   "outputs": [
    {
     "name": "stdout",
     "output_type": "stream",
     "text": [
      "dict_items([('Abhi', 90), ('Niranjan', 100), ('Cherry', 50), ('Chintu', 20), ('Vinod', 35), ('Madhu', 10), ('Teja', 70)])\n"
     ]
    }
   ],
   "source": [
    "#items() gives tuples of each key value pairs\n",
    "print(data.items())  "
   ]
  },
  {
   "cell_type": "code",
   "execution_count": 5,
   "id": "695fe446",
   "metadata": {},
   "outputs": [
    {
     "name": "stdout",
     "output_type": "stream",
     "text": [
      "{'Chintu': 20, 'Vinod': 35, 'Madhu': 10}\n"
     ]
    }
   ],
   "source": [
    "#creating a new set whose marks are < 50\n",
    "df={}\n",
    "for x, y in data.items():\n",
    "    if y<50:\n",
    "        df[x]=y\n",
    "print(df)        "
   ]
  },
  {
   "cell_type": "code",
   "execution_count": 6,
   "id": "64d5b7de",
   "metadata": {},
   "outputs": [
    {
     "name": "stdout",
     "output_type": "stream",
     "text": [
      "0,1,2,3,4,5,6,7,8,9,"
     ]
    }
   ],
   "source": [
    "#end=',' makes the output to be in a single line\n",
    "for i in range(10):\n",
    "    print(i,end=',')  "
   ]
  },
  {
   "cell_type": "code",
   "execution_count": 90,
   "id": "4ff4ae5b",
   "metadata": {},
   "outputs": [
    {
     "name": "stdout",
     "output_type": "stream",
     "text": [
      "[1, 6, 11, 16, 21, 26, 31, 36, 41, 46, 51, 56, 61, 66, 71, 76, 81, 86, 91, 96]\n",
      "(1, 3, 5, 7, 9, 11, 13, 15, 17, 19, 21, 23, 25, 27, 29, 31, 33)\n"
     ]
    }
   ],
   "source": [
    "#We can specify from, to and the step size in the range\n",
    "l=list(range(1,100,5))\n",
    "t=tuple(range(1,34,2))\n",
    "print(l)\n",
    "print(t)\n"
   ]
  },
  {
   "cell_type": "code",
   "execution_count": 53,
   "id": "eed0baf1",
   "metadata": {},
   "outputs": [
    {
     "name": "stdout",
     "output_type": "stream",
     "text": [
      "Starting Number : 21\n",
      "Ending Number : 99\n",
      "Step size : 5\n",
      "26 36 46 56 66 76 86 96 "
     ]
    }
   ],
   "source": [
    "m,n,s = int(input('Starting Number : ')),int(input('Ending Number : ')),int(input('Step size : '))\n",
    "for i in range(m,n,s):\n",
    "    if i%2==0:\n",
    "        print(i, end=' ')\n",
    "    "
   ]
  },
  {
   "cell_type": "code",
   "execution_count": 11,
   "id": "75bed6ec",
   "metadata": {},
   "outputs": [
    {
     "name": "stdout",
     "output_type": "stream",
     "text": [
      "0 1 2 3 4 5 6 7 8 9 "
     ]
    }
   ],
   "source": [
    "for i in range(10):\n",
    "    print(i, end = ' ')"
   ]
  },
  {
   "cell_type": "code",
   "execution_count": 20,
   "id": "db12f2c5",
   "metadata": {},
   "outputs": [
    {
     "name": "stdout",
     "output_type": "stream",
     "text": [
      "1 3 5 7 9 11 13 15 17 19 21 23 25 27 29 31 33 35 37 39 41 43 45 47 49 51 53 55 57 59 61 63 65 67 69 71 73 75 77 79 81 83 85 87 89 91 93 95 97 99 "
     ]
    }
   ],
   "source": [
    "#to print odd or even numbers from a given range of numbers\n",
    "for i in range(100):\n",
    "    if i%2 != 0:\n",
    "        print(i,end=' ')"
   ]
  },
  {
   "cell_type": "code",
   "execution_count": 29,
   "id": "50c88110",
   "metadata": {
    "scrolled": false
   },
   "outputs": [
    {
     "name": "stdout",
     "output_type": "stream",
     "text": [
      "0 {'Abhi': 90, 'Niranjan': 100, 'Cherry': 50, 'Chintu': 20, 'Vinod': 35, 'Madhu': 10, 'Teja': 70} 1 {'Abhi': 90, 'Niranjan': 100, 'Cherry': 50, 'Chintu': 20, 'Vinod': 35, 'Madhu': 10, 'Teja': 70} 2 {'Abhi': 90, 'Niranjan': 100, 'Cherry': 50, 'Chintu': 20, 'Vinod': 35, 'Madhu': 10, 'Teja': 70} 3 {'Abhi': 90, 'Niranjan': 100, 'Cherry': 50, 'Chintu': 20, 'Vinod': 35, 'Madhu': 10, 'Teja': 70} 4 {'Abhi': 90, 'Niranjan': 100, 'Cherry': 50, 'Chintu': 20, 'Vinod': 35, 'Madhu': 10, 'Teja': 70} 5 {'Abhi': 90, 'Niranjan': 100, 'Cherry': 50, 'Chintu': 20, 'Vinod': 35, 'Madhu': 10, 'Teja': 70} 6 {'Abhi': 90, 'Niranjan': 100, 'Cherry': 50, 'Chintu': 20, 'Vinod': 35, 'Madhu': 10, 'Teja': 70} "
     ]
    }
   ],
   "source": [
    "for i in range(len(data)):\n",
    "    print(i, data, end = ' ')"
   ]
  },
  {
   "cell_type": "markdown",
   "id": "45180394",
   "metadata": {},
   "source": [
    "### <font color = orange> Odd or Even"
   ]
  },
  {
   "cell_type": "code",
   "execution_count": 91,
   "id": "b9f274a4",
   "metadata": {},
   "outputs": [
    {
     "name": "stdout",
     "output_type": "stream",
     "text": [
      "Enter a number : 6\n",
      "Number is even\n"
     ]
    }
   ],
   "source": [
    "#Even or odd based on given inputs\n",
    "Number = int(input('Enter a number : '))\n",
    "if Number%2==0:\n",
    "    print('Number is even')\n",
    "else:\n",
    "    print('Number is odd')"
   ]
  },
  {
   "cell_type": "markdown",
   "id": "b846a116",
   "metadata": {},
   "source": [
    "### <font color = orange> Prime Numbers from a given range "
   ]
  },
  {
   "cell_type": "code",
   "execution_count": 101,
   "id": "9dd15331",
   "metadata": {},
   "outputs": [
    {
     "name": "stdout",
     "output_type": "stream",
     "text": [
      "Starting Number : 5\n",
      "Ending Number : 21\n",
      "5  is a Prime Number\n",
      "6  equals  2 * 3\n",
      "7  is a Prime Number\n",
      "8  equals  2 * 4\n",
      "9  equals  3 * 3\n",
      "10  equals  2 * 5\n",
      "11  is a Prime Number\n",
      "12  equals  2 * 6\n",
      "13  is a Prime Number\n",
      "14  equals  2 * 7\n",
      "15  equals  3 * 5\n",
      "16  equals  2 * 8\n",
      "17  is a Prime Number\n",
      "18  equals  2 * 9\n",
      "19  is a Prime Number\n",
      "20  equals  2 * 10\n"
     ]
    }
   ],
   "source": [
    "#Prime numbers form a given range of numbers\n",
    "for x in range(int(input('Starting Number : ')), int(input('Ending Number : '))):\n",
    "    for y in range(2, x):\n",
    "        if x%y==0:\n",
    "            print(x,' equals ',y,'*',x//y)\n",
    "            break\n",
    "    else :\n",
    "        print(x, ' is a Prime Number')"
   ]
  },
  {
   "cell_type": "code",
   "execution_count": 1,
   "id": "726b9e21",
   "metadata": {},
   "outputs": [
    {
     "data": {
      "text/plain": [
       "'3.11.0'"
      ]
     },
     "execution_count": 1,
     "metadata": {},
     "output_type": "execute_result"
    }
   ],
   "source": [
    "from platform import python_version\n",
    "python_version()"
   ]
  },
  {
   "cell_type": "markdown",
   "id": "6e86586c",
   "metadata": {},
   "source": [
    "### <font color = orange> Match Case similar to case when in SQL"
   ]
  },
  {
   "cell_type": "code",
   "execution_count": 2,
   "id": "c3077d86",
   "metadata": {},
   "outputs": [],
   "source": [
    "def http_error(status):\n",
    "    match status:\n",
    "        case 400:\n",
    "            return \"Bad request\"\n",
    "        case 404:\n",
    "            return \"Not found\"\n",
    "        case 418:\n",
    "            return \"I'm a teapot\"\n",
    "        case _:\n",
    "            return \"Something's wrong with the internet\""
   ]
  },
  {
   "cell_type": "code",
   "execution_count": 4,
   "id": "97aab064",
   "metadata": {},
   "outputs": [
    {
     "data": {
      "text/plain": [
       "'Not found'"
      ]
     },
     "execution_count": 4,
     "metadata": {},
     "output_type": "execute_result"
    }
   ],
   "source": [
    "http_error(404)"
   ]
  },
  {
   "cell_type": "markdown",
   "id": "57fbc358",
   "metadata": {},
   "source": [
    "### <font color = Orange> Fibonacci Series"
   ]
  },
  {
   "cell_type": "code",
   "execution_count": 7,
   "id": "04d8f3d2",
   "metadata": {},
   "outputs": [
    {
     "name": "stdout",
     "output_type": "stream",
     "text": [
      "0 1 1 2 3 5 8 13 21 34 55 89 144 233 377 610 987 1597 2584 \n"
     ]
    }
   ],
   "source": [
    "#fibonacci series function\n",
    "\n",
    "def fib(n):\n",
    "    a, b = 0,1\n",
    "    while a<n:\n",
    "        print(a,end = ' ')\n",
    "        a, b = b, b+a\n",
    "    print()\n",
    "fib(3000)    "
   ]
  },
  {
   "cell_type": "code",
   "execution_count": 10,
   "id": "683cdab4",
   "metadata": {},
   "outputs": [
    {
     "name": "stdout",
     "output_type": "stream",
     "text": [
      "0 1 1 2 3 5 8 \n"
     ]
    }
   ],
   "source": [
    "#we can assign any function to a variable and later reference the function with the variable name\n",
    "f = fib\n",
    "f(10)"
   ]
  },
  {
   "cell_type": "code",
   "execution_count": 17,
   "id": "4dbf1fe6",
   "metadata": {},
   "outputs": [
    {
     "data": {
      "text/plain": [
       "[0, 1, 1, 2, 3, 5, 8, 13, 21, 34, 55, 89]"
      ]
     },
     "execution_count": 17,
     "metadata": {},
     "output_type": "execute_result"
    }
   ],
   "source": [
    "#return a list of fibonacci numbers upto n\n",
    "def fib_list(n):\n",
    "    fibonacci_list = []\n",
    "    a,b = 0,1\n",
    "    while a<n:\n",
    "        fibonacci_list.append(a)\n",
    "        a, b = b, b+a\n",
    "    return fibonacci_list    \n",
    "fib_list(100)    "
   ]
  },
  {
   "cell_type": "code",
   "execution_count": 6,
   "id": "d78cc8cf",
   "metadata": {},
   "outputs": [
    {
     "data": {
      "text/plain": [
       "5"
      ]
     },
     "execution_count": 6,
     "metadata": {},
     "output_type": "execute_result"
    }
   ],
   "source": [
    "round(4.65780)"
   ]
  },
  {
   "cell_type": "code",
   "execution_count": 14,
   "id": "51c49b87",
   "metadata": {},
   "outputs": [
    {
     "data": {
      "text/plain": [
       "5.0"
      ]
     },
     "execution_count": 14,
     "metadata": {},
     "output_type": "execute_result"
    }
   ],
   "source": [
    "def func(a: int, b: int) -> int:\n",
    "    return a/b\n",
    "\n",
    "func(10,2)\n"
   ]
  },
  {
   "cell_type": "code",
   "execution_count": 1,
   "id": "08013a9f",
   "metadata": {},
   "outputs": [
    {
     "ename": "ModuleNotFoundError",
     "evalue": "No module named 'mysql'",
     "output_type": "error",
     "traceback": [
      "\u001b[1;31m---------------------------------------------------------------------------\u001b[0m",
      "\u001b[1;31mModuleNotFoundError\u001b[0m                       Traceback (most recent call last)",
      "Cell \u001b[1;32mIn[1], line 1\u001b[0m\n\u001b[1;32m----> 1\u001b[0m \u001b[38;5;28;01mimport\u001b[39;00m \u001b[38;5;21;01mmysql\u001b[39;00m\u001b[38;5;21;01m.\u001b[39;00m\u001b[38;5;21;01mconnector\u001b[39;00m\n",
      "\u001b[1;31mModuleNotFoundError\u001b[0m: No module named 'mysql'"
     ]
    }
   ],
   "source": [
    "import mysql.connector"
   ]
  }
 ],
 "metadata": {
  "kernelspec": {
   "display_name": "Python 3 (ipykernel)",
   "language": "python",
   "name": "python3"
  },
  "language_info": {
   "codemirror_mode": {
    "name": "ipython",
    "version": 3
   },
   "file_extension": ".py",
   "mimetype": "text/x-python",
   "name": "python",
   "nbconvert_exporter": "python",
   "pygments_lexer": "ipython3",
   "version": "3.9.13"
  }
 },
 "nbformat": 4,
 "nbformat_minor": 5
}
